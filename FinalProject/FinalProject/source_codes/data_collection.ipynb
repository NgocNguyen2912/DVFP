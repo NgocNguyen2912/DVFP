{
 "cells": [
  {
   "attachments": {},
   "cell_type": "markdown",
   "metadata": {},
   "source": [
    "<h1 style=\"background-color: #80a5d6; font-family:Quicksand; font-weight: 500; color:white;line-height: 3em; padding-left: 1em; \">ĐỒ ÁN CUỐI KỲ TRỰC QUAN HÓA DỮ LIỆU - Nhóm 23</h1>\n",
    "\n",
    "<img src = \"superstore.png\" style = \"width: 100%; \">\n",
    "\n",
    "<h2>📂 A. THU THẬP DỮ LIỆU</h2>"
   ]
  },
  {
   "attachments": {},
   "cell_type": "markdown",
   "metadata": {},
   "source": [
    "### 🛒 1. Lý do lựa chọn chủ đề và tập dữ liệu\n",
    "- Việc lựa chọn chủ đề Superstore có thể được giải thích bằng các lý do sau:\n",
    "\n",
    "    + Quan tâm đến dữ liệu và thông tin về mua sắm tại các Superstore có thể giúp hiểu rõ hơn về ngành bán lẻ và xu hướng tiêu dùng. \n",
    "\n",
    "    + Cho phép chúng ta tìm hiểu về quá trình kinh doanh của Superstore và đưa ra những quyết định thông minh về mua sắm và tiếp cận khách hàng.\n",
    "\n",
    "    + Việc tìm hiểu về mua sắm tại Superstore có thể giúp đánh giá tiềm năng của các sản phẩm và dịch vụ. \n",
    "\n",
    "- Trong quá trình tìm hiểu, nhóm nhận thấy Global Super Store là tập dữ liệu khá hay và có tính ứng dụng rộng rãi, có nhiều hướng nghiên cứu trong phân tích và trực quan hóa dữ liệu:\n",
    "\n",
    "    + Tập dữ liệu Global Super Store cung cấp thông tin về doanh thu, số lượng sản phẩm, giá bán và lợi nhuận theo thời gian... Các thống kê này cho phép chúng ta phân tích xu hướng theo từng tháng, quý hoặc năm và đưa ra những thông tin hữu ích trong việc dự đoán và đưa ra các kế hoạch kinh doanh kịp thời.\n",
    "\n",
    "    + Dữ liệu trong Global Super Store có thể được sử dụng để đưa ra quyết định kinh doanh thông minh trong việc định hướng dòng tiền đầu tư, tăng giá trị khách hàng và giảm chi phí vận hành.\n",
    "    \n",
    "    + Ngoài ra, có thể giúp các nhà sản xuất và nhà cung cấp có được cái nhìn toàn diện về thị trường và nhu cầu của khách hàng, giúp họ có thể phát triển và cung cấp sản phẩm và dịch vụ phù hợp với nhu cầu của người mua sắm.\n",
    "\n",
    "### 🛒 2. Chủ đề và nội dung\n",
    "\n",
    "- **Chủ đề:** Superstores purchase.\n",
    "\n",
    "- **Nội dung:** Dữ liệu mua hàng ở các Superstore trên toàn thế giới.\n",
    "\n",
    "### 🛒 3. Thông tin tập dữ liệu\n",
    "\n",
    "- **Nguồn gốc:** Bộ dữ liệu được public trên data.world: [Global Super Store](https://data.world/vikas-0731/global-super-store).\n",
    "\n",
    "- **Thời điểm thu thập dữ liệu:** Bộ dữ liệu được tải lên trang web data.world ở dạng file .xlsx, lần cập nhật gần nhất vào năm 2016 (7 năm trước).\n",
    "\n",
    "- **Cấu trúc bộ dữ liệu:** Bộ dữ liệu 1 file duy nhất: *global_superstore_2016.xlsx*. File này bao gồm 3 sheet là `Orders`, `Returns` và `People`.\n",
    "\n",
    "    + Sheet `Orders`: cung cấp các thông tin về mã định danh đơn hàng, ngày đặt hàng sản phẩm, ngày giao hàng sản phẩm, định danh khách hàng… và lợi nhuận của các đơn hàng mà Superstore thu được trên toàn thế giới.\n",
    "\n",
    "    + Sheet `Returns`: cung cấp thông tin về mã đơn hàng và khu vực nơi đơn hàng bị hoàn trả cho Superstore.\n",
    "\n",
    "    + Sheet `People`: cung cấp thông tin về tên khách hàng và khu vực họ sinh sống.\n",
    "\n",
    "    Nhận thấy sheet `People` không có nhiều ý nghĩa trong phân tích và trực quan hóa dữ liệu, nhóm quyết định chỉ sử dụng 2 sheet đầu tiên là `Orders` và `Returns` trong đồ án này. \n",
    "\n",
    "- **License:** Database Contents License (DbCL) v1.0, cho phép cộng đồng sử dụng.\n",
    "\n",
    "- **Phương pháp thu thập dữ liệu:** Chủ bài viết trên Kaggle đã thu thập dữ liệu bằng cách tải về từ [Tableau Website](https://community.tableau.com/s/question/0D54T00000CWeX8SAL/sample-superstore-sales-excelxls).\n"
   ]
  },
  {
   "attachments": {},
   "cell_type": "markdown",
   "metadata": {},
   "source": [
    "---"
   ]
  },
  {
   "attachments": {},
   "cell_type": "markdown",
   "metadata": {},
   "source": [
    "<h2>📂 B. KHÁM PHÁ DỮ LIỆU</h2>\n",
    "\n",
    "### 🛒 Mỗi cột có ý nghĩa gì?"
   ]
  },
  {
   "attachments": {},
   "cell_type": "markdown",
   "metadata": {},
   "source": [
    "#### 🔎 Các cột trong sheet `Orders` biểu diễn các trường dữ liệu:\n",
    "\n",
    "- **Row ID:** Số thứ tự của mỗi hàng trong bảng dữ liệu.\n",
    "\n",
    "- **Order ID:** Mã định danh duy nhất cho đơn hàng của mỗi khách hàng.\n",
    "\n",
    "- **Order Date:** Ngày đặt hàng của sản phẩm.\n",
    "\n",
    "- **Ship Date:** Ngày giao hàng của sản phẩm.\n",
    "\n",
    "- **Ship Mode:** Chế độ vận chuyển được khách hàng chỉ định. Có 4 chế độ vận chuyển: First Class, Second Class, Standard Class và Same Day.\n",
    "\n",
    "- **Customer ID:** Định danh duy nhất để xác định từng khách hàng cụ thể.\n",
    "\n",
    "- **Customer Name:** Tên của khách hàng.\n",
    "\n",
    "- **Segment:** Phân khúc mà khách hàng thuộc về (Thuật ngữ này thường được sử dụng trong kinh doanh để chỉ các nhóm khách hàng với các đặc điểm chung như độ tuổi, giới tính, sở thích, thu nhập, v.v.). Trong bộ dữ liệu trên, các khách hàng được chia làm ba phân khúc bao gồm: Consumer segment (phân khúc người tiêu dùng), Corporate segment (phân khúc doanh nghiệp) , Home Office segment (phân khúc văn phòng tại gia).\n",
    "\n",
    "- **Postal Code:** Postal code của mỗi khách hàng. (Postal code là một mã bưu chính được sử dụng để xác định vị trí địa lý của một địa chỉ trong quá trình chuyển thư và giao hàng).\n",
    "\n",
    "- **City:** Thành phố nơi khách hàng đang sinh sống.\n",
    "\n",
    "- **State:** Bang (hoặc tỉnh thành) nơi khách hàng đang sinh sống.\n",
    "\n",
    "- **Country:** Quốc gia nơi khách hàng đang sinh sống.\n",
    "\n",
    "- **Region:** Khu vực nơi khách hàng đang sinh sống. Các khu vực này thường được chia theo các miền đông, tây, nam, bắc hoặc trung tâm của thị trường tương ứng.\n",
    "\n",
    "- **Market:** Thị trường nơi khách hàng đang sinh sống. Có 5 thị trường trên thế giới là Africa (châu Phi), Asia Pacific (châu Á - Thái Bình Dương), Europe (châu Âu), LATAM (Mỹ Latinh) và USCA (Bắc Mỹ).  \n",
    "\n",
    "- **Product ID:** Định danh duy nhất của sản phẩm.\n",
    "\n",
    "- **Category:** Danh mục sản phẩm đã được đặt hàng. Trong bộ dữ liệu, có ba danh mục sản phẩm bao gồm: Furniture (nội thất), Office Supplies (văn phòng phẩm) và Technology (sản phẩm công nghệ).\n",
    "\n",
    "- **Sub-Category:** Danh mục con của sản phẩm đã được đặt hàng. Trong file dữ liệu, có 17 danh mục sản phẩm con khác nhau đã xuất hiện.\n",
    "\n",
    "- **Product Name:** Tên của sản phẩm.\n",
    "\n",
    "- **Sales:** Giá bán (doanh thu) của các sản phẩm, đơn vị USD.\n",
    "\n",
    "- **Quantity:** Số lượng sản phẩm.\n",
    "\n",
    "- **Discount:** Giảm giá được cung cấp cho đơn hàng.\n",
    "\n",
    "- **Profit:** Lợi nhuận có được từ đơn hàng, đơn vị USD.\n",
    "\n",
    "- **Shipping Cost:** phí vận chuyển của đơn hàng, đơn vị USD.\n",
    "\n",
    "- **Order Priority:** mức độ ưu tiên của đơn hàng, có 4 mức là: Critical (rất quan trọng), High (cao), Medium (trung bình) và Low (thấp)."
   ]
  },
  {
   "attachments": {},
   "cell_type": "markdown",
   "metadata": {},
   "source": [
    "#### 🔎 Các cột trong sheet `Returns` biểu diễn các trường dữ liệu:\n",
    "\n",
    "- **Returned:** trạng thái hoàn trả của đơn hàng. Ở đây, tất cả các dòng trong cột **Returned** đều mang giá trị `Yes`, có nghĩa là tất cả các đơn hàng tương ứng ở sheet này đều bị hoàn trả.\n",
    "\n",
    "- **Order ID:** Mã định danh của đơn hàng bị hoàn trả.\n",
    "\n",
    "- **Region:** Khu vực nơi khách hàng đang sinh sống."
   ]
  }
 ],
 "metadata": {
  "language_info": {
   "name": "python"
  },
  "orig_nbformat": 4
 },
 "nbformat": 4,
 "nbformat_minor": 2
}
