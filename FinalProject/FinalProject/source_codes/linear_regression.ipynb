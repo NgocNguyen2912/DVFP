{
 "cells": [
  {
   "cell_type": "markdown",
   "metadata": {},
   "source": [
    "<h1 style=\"background-color: #80a5d6; font-family: Quicksand; font-weight: 500; color: white; line-height: 3em; padding-left: 1em; \"> TÌM CÔNG THỨC LIÊN HỆ GIỮA DOANH THU VÀ LỢI NHUẬN </h1>\n",
    "\n",
    "Trong phần này, dựa vào tập dữ liệu, ta tìm ra công thức thể hiện mối quan hệ giữa doanh thu và lợi nhuận của Superstore, phục cho cho vẽ biểu đồ \"What if\" (phân tích kịch bản) của phòng Tài chính đầu tư. Đơn giản nhất là biểu thức tuyến tính như sau:\n",
    "\n",
    "$$Profit = w_0 + w_1 * Sales$$\n",
    "\n",
    "Sử dụng `OLS Regression` của thư viện `statsmodels`, ta đi tìm hai giá trị $w_0$ và $w_1$. Có thể thấy kết quả thu được không tốt lắm (R-squared = 0.201) nhưng ta tạm thời chấp nhận kết quả này."
   ]
  },
  {
   "cell_type": "code",
   "execution_count": null,
   "metadata": {},
   "outputs": [],
   "source": [
    "import json\n",
    "import pandas as pd\n",
    "import numpy as np\n",
    "import seaborn as sns\n",
    "import matplotlib.pyplot as plt\n",
    "\n",
    "from sklearn.model_selection import train_test_split\n",
    "import statsmodels.api as sm"
   ]
  },
  {
   "cell_type": "code",
   "execution_count": 55,
   "metadata": {},
   "outputs": [
    {
     "data": {
      "text/html": [
       "<div>\n",
       "<style scoped>\n",
       "    .dataframe tbody tr th:only-of-type {\n",
       "        vertical-align: middle;\n",
       "    }\n",
       "\n",
       "    .dataframe tbody tr th {\n",
       "        vertical-align: top;\n",
       "    }\n",
       "\n",
       "    .dataframe thead th {\n",
       "        text-align: right;\n",
       "    }\n",
       "</style>\n",
       "<table border=\"1\" class=\"dataframe\">\n",
       "  <thead>\n",
       "    <tr style=\"text-align: right;\">\n",
       "      <th></th>\n",
       "      <th>Sales</th>\n",
       "      <th>Profit</th>\n",
       "    </tr>\n",
       "  </thead>\n",
       "  <tbody>\n",
       "    <tr>\n",
       "      <th>0</th>\n",
       "      <td>13.08</td>\n",
       "      <td>4.56</td>\n",
       "    </tr>\n",
       "    <tr>\n",
       "      <th>1</th>\n",
       "      <td>252.16</td>\n",
       "      <td>90.72</td>\n",
       "    </tr>\n",
       "    <tr>\n",
       "      <th>2</th>\n",
       "      <td>193.28</td>\n",
       "      <td>54.08</td>\n",
       "    </tr>\n",
       "    <tr>\n",
       "      <th>3</th>\n",
       "      <td>35.44</td>\n",
       "      <td>4.96</td>\n",
       "    </tr>\n",
       "    <tr>\n",
       "      <th>4</th>\n",
       "      <td>71.60</td>\n",
       "      <td>11.44</td>\n",
       "    </tr>\n",
       "  </tbody>\n",
       "</table>\n",
       "</div>"
      ],
      "text/plain": [
       "    Sales  Profit\n",
       "0   13.08    4.56\n",
       "1  252.16   90.72\n",
       "2  193.28   54.08\n",
       "3   35.44    4.96\n",
       "4   71.60   11.44"
      ]
     },
     "execution_count": 55,
     "metadata": {},
     "output_type": "execute_result"
    }
   ],
   "source": [
    "df = pd.read_excel(\"../datasets/global_superstore_clean.xlsx\", sheet_name = \"Orders\")\n",
    "df = df[['Sales', 'Profit']]\n",
    "df.head()"
   ]
  },
  {
   "cell_type": "code",
   "execution_count": 56,
   "metadata": {},
   "outputs": [
    {
     "name": "stdout",
     "output_type": "stream",
     "text": [
      "Số dòng của dữ liệu:  38528\n",
      "Số cột của dữ liệu:  2\n"
     ]
    }
   ],
   "source": [
    "df = df.drop_duplicates()\n",
    "num_rows = df.shape[0]\n",
    "num_cols = df.shape[1]\n",
    "print('Số dòng của dữ liệu: ', num_rows)\n",
    "print('Số cột của dữ liệu: ', num_cols)"
   ]
  },
  {
   "cell_type": "code",
   "execution_count": 57,
   "metadata": {},
   "outputs": [],
   "source": [
    "X = df['Sales']\n",
    "y = df['Profit']\n",
    "\n",
    "X_train, X_test, y_train, y_test = train_test_split(X, y, train_size = 0.7, test_size = 0.3, random_state = 100)"
   ]
  },
  {
   "cell_type": "code",
   "execution_count": 58,
   "metadata": {},
   "outputs": [],
   "source": [
    "# Add a constant to get an intercept\n",
    "X_train_sm = sm.add_constant(X_train)\n",
    "\n",
    "# Fit the resgression line using 'OLS'\n",
    "lr = sm.OLS(y_train, X_train_sm).fit()"
   ]
  },
  {
   "cell_type": "code",
   "execution_count": 59,
   "metadata": {},
   "outputs": [
    {
     "data": {
      "text/plain": [
       "const   -17.069604\n",
       "Sales     0.162075\n",
       "dtype: float64"
      ]
     },
     "execution_count": 59,
     "metadata": {},
     "output_type": "execute_result"
    }
   ],
   "source": [
    "# Print the parameters, i.e. the intercept and the slope of the regression line fitted\n",
    "lr.params"
   ]
  },
  {
   "cell_type": "markdown",
   "metadata": {},
   "source": [
    "#### Do đó công thức cần tìm là:\n",
    "\n",
    "$$Profit = -17.069604 + 0.162075 * Sales$$"
   ]
  },
  {
   "cell_type": "code",
   "execution_count": 60,
   "metadata": {},
   "outputs": [
    {
     "name": "stdout",
     "output_type": "stream",
     "text": [
      "                            OLS Regression Results                            \n",
      "==============================================================================\n",
      "Dep. Variable:                 Profit   R-squared:                       0.201\n",
      "Model:                            OLS   Adj. R-squared:                  0.201\n",
      "Method:                 Least Squares   F-statistic:                     6801.\n",
      "Date:                Sun, 09 Jul 2023   Prob (F-statistic):               0.00\n",
      "Time:                        13:34:01   Log-Likelihood:            -1.7747e+05\n",
      "No. Observations:               26969   AIC:                         3.549e+05\n",
      "Df Residuals:                   26967   BIC:                         3.550e+05\n",
      "Df Model:                           1                                         \n",
      "Covariance Type:            nonrobust                                         \n",
      "==============================================================================\n",
      "                 coef    std err          t      P>|t|      [0.025      0.975]\n",
      "------------------------------------------------------------------------------\n",
      "const        -17.0696      1.194    -14.294      0.000     -19.410     -14.729\n",
      "Sales          0.1621      0.002     82.468      0.000       0.158       0.166\n",
      "==============================================================================\n",
      "Omnibus:                    37099.316   Durbin-Watson:                   2.001\n",
      "Prob(Omnibus):                  0.000   Jarque-Bera (JB):        101914884.537\n",
      "Skew:                          -7.089   Prob(JB):                         0.00\n",
      "Kurtosis:                     303.822   Cond. No.                         683.\n",
      "==============================================================================\n",
      "\n",
      "Notes:\n",
      "[1] Standard Errors assume that the covariance matrix of the errors is correctly specified.\n"
     ]
    }
   ],
   "source": [
    "# Performing a summary operation lists out all the different parameters of the regression line fitted\n",
    "print(lr.summary())"
   ]
  },
  {
   "cell_type": "code",
   "execution_count": 68,
   "metadata": {},
   "outputs": [
    {
     "data": {
      "image/png": "[encoded data removed]",
      "text/plain": [
       "<Figure size 640x480 with 1 Axes>"
      ]
     },
     "metadata": {},
     "output_type": "display_data"
    }
   ],
   "source": [
    "plt.scatter(X_train, y_train)\n",
    "plt.scatter(X_train, y_train, color = \"#35b5b6\")\n",
    "plt.plot(X_train, -17.069604 + 0.162075 * X_train, color = \"#ff6961\")\n",
    "plt.show()"
   ]
  }
 ],
 "metadata": {
  "kernelspec": {
   "display_name": "Python 3",
   "language": "python",
   "name": "python3"
  },
  "language_info": {
   "codemirror_mode": {
    "name": "ipython",
    "version": 3
   },
   "file_extension": ".py",
   "mimetype": "text/x-python",
   "name": "python",
   "nbconvert_exporter": "python",
   "pygments_lexer": "ipython3",
   "version": "3.10.4"
  },
  "orig_nbformat": 4
 },
 "nbformat": 4,
 "nbformat_minor": 2
}
