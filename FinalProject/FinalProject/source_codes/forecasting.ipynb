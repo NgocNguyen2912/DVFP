{
 "cells": [
  {
   "attachments": {},
   "cell_type": "markdown",
   "metadata": {},
   "source": [
    "<h1 style=\"background-color: #80a5d6; font-family: Quicksand; font-weight: 500; color: white; line-height: 3em; padding-left: 1em; \"> DỰ ĐOÁN DOANH THU VÀ LỢI NHUẬN SUPERSTORE </h1>"
   ]
  },
  {
   "attachments": {},
   "cell_type": "markdown",
   "metadata": {},
   "source": [
    "<h5> 📂 Import các thư viện cần thiết </h5>"
   ]
  },
  {
   "cell_type": "code",
   "execution_count": 1,
   "metadata": {},
   "outputs": [],
   "source": [
    "import pandas as pd\n",
    "import matplotlib.pyplot as plt\n",
    "import seaborn as sns\n",
    "import numpy as np"
   ]
  },
  {
   "cell_type": "code",
   "execution_count": 2,
   "metadata": {},
   "outputs": [],
   "source": [
    "from sklearn.model_selection import train_test_split\n",
    "from sklearn.preprocessing import StandardScaler\n",
    "\n",
    "from sklearn.tree import DecisionTreeRegressor\n",
    "from sklearn.ensemble import RandomForestRegressor\n",
    "import tensorflow as tf\n",
    "\n",
    "from sklearn.metrics import mean_squared_error\n",
    "from sklearn.metrics import r2_score\n",
    "\n",
    "import warnings\n",
    "warnings.filterwarnings('ignore')"
   ]
  },
  {
   "attachments": {},
   "cell_type": "markdown",
   "metadata": {},
   "source": [
    "<h5> 📂 Đọc dữ liệu và in ra 5 dòng đầu tiên </h5>"
   ]
  },
  {
   "cell_type": "code",
   "execution_count": 13,
   "metadata": {},
   "outputs": [
    {
     "data": {
      "text/html": [
       "<div>\n",
       "<style scoped>\n",
       "    .dataframe tbody tr th:only-of-type {\n",
       "        vertical-align: middle;\n",
       "    }\n",
       "\n",
       "    .dataframe tbody tr th {\n",
       "        vertical-align: top;\n",
       "    }\n",
       "\n",
       "    .dataframe thead th {\n",
       "        text-align: right;\n",
       "    }\n",
       "</style>\n",
       "<table border=\"1\" class=\"dataframe\">\n",
       "  <thead>\n",
       "    <tr style=\"text-align: right;\">\n",
       "      <th></th>\n",
       "      <th>Row ID</th>\n",
       "      <th>Order ID</th>\n",
       "      <th>Order Date</th>\n",
       "      <th>Ship Date</th>\n",
       "      <th>Ship Mode</th>\n",
       "      <th>Customer ID</th>\n",
       "      <th>Customer Name</th>\n",
       "      <th>Segment</th>\n",
       "      <th>City</th>\n",
       "      <th>State</th>\n",
       "      <th>...</th>\n",
       "      <th>Product ID</th>\n",
       "      <th>Category</th>\n",
       "      <th>Sub-Category</th>\n",
       "      <th>Product Name</th>\n",
       "      <th>Sales</th>\n",
       "      <th>Quantity</th>\n",
       "      <th>Discount</th>\n",
       "      <th>Profit</th>\n",
       "      <th>Shipping Cost</th>\n",
       "      <th>Order Priority</th>\n",
       "    </tr>\n",
       "  </thead>\n",
       "  <tbody>\n",
       "    <tr>\n",
       "      <th>0</th>\n",
       "      <td>1</td>\n",
       "      <td>MX-2015-SC2057582-42279</td>\n",
       "      <td>2015-10-02</td>\n",
       "      <td>2015-10-06</td>\n",
       "      <td>Standard Class</td>\n",
       "      <td>SC-2057582</td>\n",
       "      <td>Sonia Cooley</td>\n",
       "      <td>Consumer</td>\n",
       "      <td>Mexico City</td>\n",
       "      <td>Distrito Federal</td>\n",
       "      <td>...</td>\n",
       "      <td>OFF-LA-4658</td>\n",
       "      <td>Office Supplies</td>\n",
       "      <td>Labels</td>\n",
       "      <td>Hon File Folder Labels, Adjustable</td>\n",
       "      <td>13.08</td>\n",
       "      <td>3</td>\n",
       "      <td>0.0</td>\n",
       "      <td>4.56</td>\n",
       "      <td>2.033</td>\n",
       "      <td>Medium</td>\n",
       "    </tr>\n",
       "    <tr>\n",
       "      <th>1</th>\n",
       "      <td>2</td>\n",
       "      <td>MX-2013-KW1657028-41562</td>\n",
       "      <td>2013-10-15</td>\n",
       "      <td>2013-10-20</td>\n",
       "      <td>Standard Class</td>\n",
       "      <td>KW-1657028</td>\n",
       "      <td>Kelly Williams</td>\n",
       "      <td>Consumer</td>\n",
       "      <td>Dos Quebradas</td>\n",
       "      <td>Risaralda</td>\n",
       "      <td>...</td>\n",
       "      <td>FUR-FU-6238</td>\n",
       "      <td>Furniture</td>\n",
       "      <td>Furnishings</td>\n",
       "      <td>Tenex Clock, Durable</td>\n",
       "      <td>252.16</td>\n",
       "      <td>8</td>\n",
       "      <td>0.0</td>\n",
       "      <td>90.72</td>\n",
       "      <td>13.449</td>\n",
       "      <td>Medium</td>\n",
       "    </tr>\n",
       "    <tr>\n",
       "      <th>2</th>\n",
       "      <td>3</td>\n",
       "      <td>MX-2013-KW1657028-41562</td>\n",
       "      <td>2013-10-15</td>\n",
       "      <td>2013-10-20</td>\n",
       "      <td>Standard Class</td>\n",
       "      <td>KW-1657028</td>\n",
       "      <td>Kelly Williams</td>\n",
       "      <td>Consumer</td>\n",
       "      <td>Dos Quebradas</td>\n",
       "      <td>Risaralda</td>\n",
       "      <td>...</td>\n",
       "      <td>FUR-BO-4845</td>\n",
       "      <td>Furniture</td>\n",
       "      <td>Bookcases</td>\n",
       "      <td>Ikea 3-Shelf Cabinet, Mobile</td>\n",
       "      <td>193.28</td>\n",
       "      <td>2</td>\n",
       "      <td>0.0</td>\n",
       "      <td>54.08</td>\n",
       "      <td>9.627</td>\n",
       "      <td>Medium</td>\n",
       "    </tr>\n",
       "    <tr>\n",
       "      <th>3</th>\n",
       "      <td>4</td>\n",
       "      <td>MX-2013-KW1657028-41562</td>\n",
       "      <td>2013-10-15</td>\n",
       "      <td>2013-10-20</td>\n",
       "      <td>Standard Class</td>\n",
       "      <td>KW-1657028</td>\n",
       "      <td>Kelly Williams</td>\n",
       "      <td>Consumer</td>\n",
       "      <td>Dos Quebradas</td>\n",
       "      <td>Risaralda</td>\n",
       "      <td>...</td>\n",
       "      <td>OFF-BI-3720</td>\n",
       "      <td>Office Supplies</td>\n",
       "      <td>Binders</td>\n",
       "      <td>Cardinal Binder, Clear</td>\n",
       "      <td>35.44</td>\n",
       "      <td>4</td>\n",
       "      <td>0.0</td>\n",
       "      <td>4.96</td>\n",
       "      <td>1.371</td>\n",
       "      <td>Medium</td>\n",
       "    </tr>\n",
       "    <tr>\n",
       "      <th>4</th>\n",
       "      <td>5</td>\n",
       "      <td>MX-2013-KW1657028-41562</td>\n",
       "      <td>2013-10-15</td>\n",
       "      <td>2013-10-20</td>\n",
       "      <td>Standard Class</td>\n",
       "      <td>KW-1657028</td>\n",
       "      <td>Kelly Williams</td>\n",
       "      <td>Consumer</td>\n",
       "      <td>Dos Quebradas</td>\n",
       "      <td>Risaralda</td>\n",
       "      <td>...</td>\n",
       "      <td>OFF-AR-5905</td>\n",
       "      <td>Office Supplies</td>\n",
       "      <td>Art</td>\n",
       "      <td>Sanford Canvas, Water Color</td>\n",
       "      <td>71.60</td>\n",
       "      <td>2</td>\n",
       "      <td>0.0</td>\n",
       "      <td>11.44</td>\n",
       "      <td>3.787</td>\n",
       "      <td>Medium</td>\n",
       "    </tr>\n",
       "  </tbody>\n",
       "</table>\n",
       "<p>5 rows × 23 columns</p>\n",
       "</div>"
      ],
      "text/plain": [
       "   Row ID                 Order ID Order Date  Ship Date       Ship Mode  \\\n",
       "0       1  MX-2015-SC2057582-42279 2015-10-02 2015-10-06  Standard Class   \n",
       "1       2  MX-2013-KW1657028-41562 2013-10-15 2013-10-20  Standard Class   \n",
       "2       3  MX-2013-KW1657028-41562 2013-10-15 2013-10-20  Standard Class   \n",
       "3       4  MX-2013-KW1657028-41562 2013-10-15 2013-10-20  Standard Class   \n",
       "4       5  MX-2013-KW1657028-41562 2013-10-15 2013-10-20  Standard Class   \n",
       "\n",
       "  Customer ID   Customer Name   Segment           City             State  ...  \\\n",
       "0  SC-2057582    Sonia Cooley  Consumer    Mexico City  Distrito Federal  ...   \n",
       "1  KW-1657028  Kelly Williams  Consumer  Dos Quebradas         Risaralda  ...   \n",
       "2  KW-1657028  Kelly Williams  Consumer  Dos Quebradas         Risaralda  ...   \n",
       "3  KW-1657028  Kelly Williams  Consumer  Dos Quebradas         Risaralda  ...   \n",
       "4  KW-1657028  Kelly Williams  Consumer  Dos Quebradas         Risaralda  ...   \n",
       "\n",
       "    Product ID         Category Sub-Category  \\\n",
       "0  OFF-LA-4658  Office Supplies       Labels   \n",
       "1  FUR-FU-6238        Furniture  Furnishings   \n",
       "2  FUR-BO-4845        Furniture    Bookcases   \n",
       "3  OFF-BI-3720  Office Supplies      Binders   \n",
       "4  OFF-AR-5905  Office Supplies          Art   \n",
       "\n",
       "                         Product Name   Sales Quantity Discount  Profit  \\\n",
       "0  Hon File Folder Labels, Adjustable   13.08        3      0.0    4.56   \n",
       "1                Tenex Clock, Durable  252.16        8      0.0   90.72   \n",
       "2        Ikea 3-Shelf Cabinet, Mobile  193.28        2      0.0   54.08   \n",
       "3              Cardinal Binder, Clear   35.44        4      0.0    4.96   \n",
       "4         Sanford Canvas, Water Color   71.60        2      0.0   11.44   \n",
       "\n",
       "   Shipping Cost  Order Priority  \n",
       "0          2.033          Medium  \n",
       "1         13.449          Medium  \n",
       "2          9.627          Medium  \n",
       "3          1.371          Medium  \n",
       "4          3.787          Medium  \n",
       "\n",
       "[5 rows x 23 columns]"
      ]
     },
     "execution_count": 13,
     "metadata": {},
     "output_type": "execute_result"
    }
   ],
   "source": [
    "df = pd.read_excel(\"../datasets/global_superstore_clean.xlsx\", sheet_name = \"Orders\")\n",
    "df.head(5)"
   ]
  },
  {
   "attachments": {},
   "cell_type": "markdown",
   "metadata": {},
   "source": [
    "---"
   ]
  },
  {
   "attachments": {},
   "cell_type": "markdown",
   "metadata": {},
   "source": [
    "<h3 style=\"background-color: #80a5d6; font-family: Quicksand; font-weight: 500; color:white; padding: 1em; line-height: 1.5em; \"> MỤC TIÊU VÀ HƯỚNG GIẢI QUYẾT BÀI TOÁN </h3>"
   ]
  },
  {
   "attachments": {},
   "cell_type": "markdown",
   "metadata": {},
   "source": [
    "🔥 **Bài toán:** Dựa trên các đặc trưng về ngày đặt/giao hàng, chế độ vận chuyển, phân khúc khách hàng, thị trường, sản phẩm, số lượng, mức giảm giá... để dự đoán doanh thu và lợi nhuận Superstore thu được ứng với mặt hàng đó.\n",
    "\n",
    "🔥 Việc dự đoán trước doanh thu và lợi nhuận có rất nhiều lợi ích cho các đối tượng khác nhau như sau:\n",
    "- **Doanh nghiệp:** điều chỉnh các chiến lược bán hàng để tối đa hóa lợi nhuận; phát hiện ra các khuynh hướng tiêu dùng và hành vi mua hàng của khách hàng, từ đó đưa ra các quyết định kinh doanh phù hợp để thu hút và giữ chân khách hàng.\n",
    "- **Nhà quản lý:** hiểu rõ hơn về sản phẩm và dịch vụ được ưa chuộng nhất để tối ưu hóa sản xuất và phân phối; cải thiện hiệu quả quản lý đơn hàng và quản lý kho.\n",
    "- **Nhà đầu tư:** chuẩn bị ngân sách và dự trù tài nguyên tốt hơn để đáp ứng nhu cầu kinh doanh trong tương lai.\n",
    "\n",
    "🔥 Sử dụng các mô hình <strong>Decision Tree Regression</strong>, <strong>Random Forest Regression</strong> và <strong>TensorFlow neural network</strong>.\n",
    "- **Bước 1:** Lựa chọn các đặc trưng để đưa vào mô hình.\n",
    "- **Bước 2:** Tiền xử lý trước khi chạy mô hình.\n",
    "- **Bước 3:** Xây dựng các mô hình.\n",
    "- **Bước 4:** Đánh giá các mô hình."
   ]
  },
  {
   "attachments": {},
   "cell_type": "markdown",
   "metadata": {},
   "source": [
    "--- "
   ]
  },
  {
   "attachments": {},
   "cell_type": "markdown",
   "metadata": {},
   "source": [
    "<h3 style=\"background-color: #80a5d6; font-family: Quicksand; font-weight: 500; color:white; padding: 1em; line-height: 1.5em; \"> CÁC BƯỚC THỰC HIỆN </h3>"
   ]
  },
  {
   "attachments": {},
   "cell_type": "markdown",
   "metadata": {},
   "source": [
    "<font size=\"4\"> ✈️ <strong>Bước 1:</strong> Lựa chọn các đặc trưng đưa vào mô hình. </font>"
   ]
  },
  {
   "attachments": {},
   "cell_type": "markdown",
   "metadata": {},
   "source": [
    "Ta chọn ra các đặc trưng có thể ảnh hưởng đến doanh thu và lợi nhuận của Superstore, từ đó dùng các đặc trưng này để huấn luyện cho mô hình. Bỏ đi các thuộc tính không cần thiết *Row ID*, *Customer Name*, *Product Name* và các thuộc tính hướng đến đối tượng khách hàng cụ thể *Order ID*, *Customer ID*.\n",
    "\n",
    "- **Order Date:** Ngày đặt hàng của sản phẩm.\n",
    "- **Ship Date:** Ngày giao hàng của sản phẩm.\n",
    "- **Ship Mode:** Chế độ vận chuyển được khách hàng chỉ định. Có 4 chế độ vận chuyển: First Class, Second Class, Standard Class và Same Day.\n",
    "- **Segment:** Phân khúc mà khách hàng thuộc về (Thuật ngữ này thường được sử dụng trong kinh doanh để chỉ các nhóm khách hàng với các đặc điểm chung như độ tuổi, giới tính, sở thích, thu nhập, v.v.). Trong bộ dữ liệu trên, các khách hàng được chia làm ba phân khúc bao gồm: Consumer segment (phân khúc người tiêu dùng), Corporate segment (phân khúc doanh nghiệp) , Home Office segment (phân khúc văn phòng tại gia).\n",
    "- **City:** Thành phố nơi khách hàng đang sinh sống.\n",
    "- **State:** Bang (hoặc tỉnh thành) nơi khách hàng đang sinh sống.\n",
    "- **Country:** Quốc gia nơi khách hàng đang sinh sống.\n",
    "- **Region:** Khu vực nơi khách hàng đang sinh sống. Các khu vực này thường được chia theo các miền đông, tây, nam, bắc hoặc trung tâm của thị trường tương ứng.\n",
    "- **Market:** Thị trường nơi khách hàng đang sinh sống. Có 5 thị trường trên thế giới là Africa (châu Phi), Asia Pacific (châu Á - Thái Bình Dương), Europe (châu Âu), LATAM (Mỹ Latinh) và USCA (Bắc Mỹ).  \n",
    "- **Product ID:** Định danh duy nhất của sản phẩm.\n",
    "- **Category:** Danh mục sản phẩm đã được đặt hàng. Trong bộ dữ liệu, có ba danh mục sản phẩm bao gồm: Furniture (nội thất), Office Supplies (văn phòng phẩm) và Technology (sản phẩm công nghệ).\n",
    "- **Sub-Category:** Danh mục con của sản phẩm đã được đặt hàng. Trong file dữ liệu, có 17 danh mục sản phẩm con khác nhau đã xuất hiện.\n",
    "- **Sales:** Giá bán (doanh thu) của các sản phẩm, đơn vị USD.\n",
    "- **Quantity:** Số lượng sản phẩm.\n",
    "- **Discount:** Giảm giá được cung cấp cho đơn hàng.\n",
    "- **Profit:** Lợi nhuận có được từ đơn hàng, đơn vị USD.\n",
    "- **Shipping Cost:** phí vận chuyển của đơn hàng, đơn vị USD.\n",
    "- **Order Priority:** mức độ ưu tiên của đơn hàng, có 4 mức là: Critical (rất quan trọng), High (cao), Medium (trung bình) và Low (thấp)."
   ]
  },
  {
   "cell_type": "code",
   "execution_count": 14,
   "metadata": {},
   "outputs": [
    {
     "data": {
      "text/html": [
       "<div>\n",
       "<style scoped>\n",
       "    .dataframe tbody tr th:only-of-type {\n",
       "        vertical-align: middle;\n",
       "    }\n",
       "\n",
       "    .dataframe tbody tr th {\n",
       "        vertical-align: top;\n",
       "    }\n",
       "\n",
       "    .dataframe thead th {\n",
       "        text-align: right;\n",
       "    }\n",
       "</style>\n",
       "<table border=\"1\" class=\"dataframe\">\n",
       "  <thead>\n",
       "    <tr style=\"text-align: right;\">\n",
       "      <th></th>\n",
       "      <th>Order Date</th>\n",
       "      <th>Ship Date</th>\n",
       "      <th>Ship Mode</th>\n",
       "      <th>Segment</th>\n",
       "      <th>City</th>\n",
       "      <th>State</th>\n",
       "      <th>Country</th>\n",
       "      <th>Region</th>\n",
       "      <th>Market</th>\n",
       "      <th>Product ID</th>\n",
       "      <th>Category</th>\n",
       "      <th>Sub-Category</th>\n",
       "      <th>Sales</th>\n",
       "      <th>Quantity</th>\n",
       "      <th>Discount</th>\n",
       "      <th>Profit</th>\n",
       "      <th>Shipping Cost</th>\n",
       "      <th>Order Priority</th>\n",
       "    </tr>\n",
       "  </thead>\n",
       "  <tbody>\n",
       "    <tr>\n",
       "      <th>0</th>\n",
       "      <td>2015-10-02</td>\n",
       "      <td>2015-10-06</td>\n",
       "      <td>Standard Class</td>\n",
       "      <td>Consumer</td>\n",
       "      <td>Mexico City</td>\n",
       "      <td>Distrito Federal</td>\n",
       "      <td>Mexico</td>\n",
       "      <td>Central America</td>\n",
       "      <td>LATAM</td>\n",
       "      <td>OFF-LA-4658</td>\n",
       "      <td>Office Supplies</td>\n",
       "      <td>Labels</td>\n",
       "      <td>13.08</td>\n",
       "      <td>3</td>\n",
       "      <td>0.0</td>\n",
       "      <td>4.56</td>\n",
       "      <td>2.033</td>\n",
       "      <td>Medium</td>\n",
       "    </tr>\n",
       "    <tr>\n",
       "      <th>1</th>\n",
       "      <td>2013-10-15</td>\n",
       "      <td>2013-10-20</td>\n",
       "      <td>Standard Class</td>\n",
       "      <td>Consumer</td>\n",
       "      <td>Dos Quebradas</td>\n",
       "      <td>Risaralda</td>\n",
       "      <td>Colombia</td>\n",
       "      <td>South America</td>\n",
       "      <td>LATAM</td>\n",
       "      <td>FUR-FU-6238</td>\n",
       "      <td>Furniture</td>\n",
       "      <td>Furnishings</td>\n",
       "      <td>252.16</td>\n",
       "      <td>8</td>\n",
       "      <td>0.0</td>\n",
       "      <td>90.72</td>\n",
       "      <td>13.449</td>\n",
       "      <td>Medium</td>\n",
       "    </tr>\n",
       "    <tr>\n",
       "      <th>2</th>\n",
       "      <td>2013-10-15</td>\n",
       "      <td>2013-10-20</td>\n",
       "      <td>Standard Class</td>\n",
       "      <td>Consumer</td>\n",
       "      <td>Dos Quebradas</td>\n",
       "      <td>Risaralda</td>\n",
       "      <td>Colombia</td>\n",
       "      <td>South America</td>\n",
       "      <td>LATAM</td>\n",
       "      <td>FUR-BO-4845</td>\n",
       "      <td>Furniture</td>\n",
       "      <td>Bookcases</td>\n",
       "      <td>193.28</td>\n",
       "      <td>2</td>\n",
       "      <td>0.0</td>\n",
       "      <td>54.08</td>\n",
       "      <td>9.627</td>\n",
       "      <td>Medium</td>\n",
       "    </tr>\n",
       "    <tr>\n",
       "      <th>3</th>\n",
       "      <td>2013-10-15</td>\n",
       "      <td>2013-10-20</td>\n",
       "      <td>Standard Class</td>\n",
       "      <td>Consumer</td>\n",
       "      <td>Dos Quebradas</td>\n",
       "      <td>Risaralda</td>\n",
       "      <td>Colombia</td>\n",
       "      <td>South America</td>\n",
       "      <td>LATAM</td>\n",
       "      <td>OFF-BI-3720</td>\n",
       "      <td>Office Supplies</td>\n",
       "      <td>Binders</td>\n",
       "      <td>35.44</td>\n",
       "      <td>4</td>\n",
       "      <td>0.0</td>\n",
       "      <td>4.96</td>\n",
       "      <td>1.371</td>\n",
       "      <td>Medium</td>\n",
       "    </tr>\n",
       "    <tr>\n",
       "      <th>4</th>\n",
       "      <td>2013-10-15</td>\n",
       "      <td>2013-10-20</td>\n",
       "      <td>Standard Class</td>\n",
       "      <td>Consumer</td>\n",
       "      <td>Dos Quebradas</td>\n",
       "      <td>Risaralda</td>\n",
       "      <td>Colombia</td>\n",
       "      <td>South America</td>\n",
       "      <td>LATAM</td>\n",
       "      <td>OFF-AR-5905</td>\n",
       "      <td>Office Supplies</td>\n",
       "      <td>Art</td>\n",
       "      <td>71.60</td>\n",
       "      <td>2</td>\n",
       "      <td>0.0</td>\n",
       "      <td>11.44</td>\n",
       "      <td>3.787</td>\n",
       "      <td>Medium</td>\n",
       "    </tr>\n",
       "  </tbody>\n",
       "</table>\n",
       "</div>"
      ],
      "text/plain": [
       "  Order Date  Ship Date       Ship Mode   Segment           City  \\\n",
       "0 2015-10-02 2015-10-06  Standard Class  Consumer    Mexico City   \n",
       "1 2013-10-15 2013-10-20  Standard Class  Consumer  Dos Quebradas   \n",
       "2 2013-10-15 2013-10-20  Standard Class  Consumer  Dos Quebradas   \n",
       "3 2013-10-15 2013-10-20  Standard Class  Consumer  Dos Quebradas   \n",
       "4 2013-10-15 2013-10-20  Standard Class  Consumer  Dos Quebradas   \n",
       "\n",
       "              State   Country           Region Market   Product ID  \\\n",
       "0  Distrito Federal    Mexico  Central America  LATAM  OFF-LA-4658   \n",
       "1         Risaralda  Colombia    South America  LATAM  FUR-FU-6238   \n",
       "2         Risaralda  Colombia    South America  LATAM  FUR-BO-4845   \n",
       "3         Risaralda  Colombia    South America  LATAM  OFF-BI-3720   \n",
       "4         Risaralda  Colombia    South America  LATAM  OFF-AR-5905   \n",
       "\n",
       "          Category Sub-Category   Sales  Quantity  Discount  Profit  \\\n",
       "0  Office Supplies       Labels   13.08         3       0.0    4.56   \n",
       "1        Furniture  Furnishings  252.16         8       0.0   90.72   \n",
       "2        Furniture    Bookcases  193.28         2       0.0   54.08   \n",
       "3  Office Supplies      Binders   35.44         4       0.0    4.96   \n",
       "4  Office Supplies          Art   71.60         2       0.0   11.44   \n",
       "\n",
       "   Shipping Cost Order Priority  \n",
       "0          2.033         Medium  \n",
       "1         13.449         Medium  \n",
       "2          9.627         Medium  \n",
       "3          1.371         Medium  \n",
       "4          3.787         Medium  "
      ]
     },
     "execution_count": 14,
     "metadata": {},
     "output_type": "execute_result"
    }
   ],
   "source": [
    "# Giữ lại các đặc trưng đã chọn\n",
    "df.drop(columns = [\"Row ID\", \"Order ID\", \"Customer ID\", \"Customer Name\", \"Product Name\"], axis = 1, inplace = True)\n",
    "df.head()"
   ]
  },
  {
   "attachments": {},
   "cell_type": "markdown",
   "metadata": {},
   "source": [
    "---"
   ]
  },
  {
   "attachments": {},
   "cell_type": "markdown",
   "metadata": {},
   "source": [
    "<font size=\"4\"> ✈️ <strong>Bước 2:</strong> Tiền xử lý trước khi chạy mô hình. </font>"
   ]
  },
  {
   "attachments": {},
   "cell_type": "markdown",
   "metadata": {},
   "source": [
    "🔥 Đối với các cột có kiểu dữ liệu `datetime` như **Order Date** và **Ship Date**: ta tách ra thành ngày, tháng, năm để đưa vào mô hình."
   ]
  },
  {
   "cell_type": "code",
   "execution_count": 15,
   "metadata": {},
   "outputs": [],
   "source": [
    "def encode_dates(df, column):\n",
    "    df = df.copy()\n",
    "    df[column] = pd.to_datetime(df[column])\n",
    "    df[column + '_year'] = df[column].apply(lambda x: x.year)\n",
    "    df[column + '_month'] = df[column].apply(lambda x: x.month)\n",
    "    df[column + '_day'] = df[column].apply(lambda x: x.day)\n",
    "    df = df.drop(column, axis = 1)\n",
    "    return df\n",
    "\n",
    "df = encode_dates(df, column = 'Order Date')\n",
    "df = encode_dates(df, column = 'Ship Date')"
   ]
  },
  {
   "attachments": {},
   "cell_type": "markdown",
   "metadata": {},
   "source": [
    "🔥 Đối với các cột có kiểu dữ liệu `categorical` ta chuyển đổi về dạng số bằng kỹ thuật **Dummy Encoding**. Dummy Encoding tương tự One-Hot Encoding nhưng sử dụng $N-1$ cột cho $N$ giá trị của biến phân loại. Việc loại bỏ cột cuối cùng nhằm tránh hiện tượng *đa cộng tuyến* giữa các cột."
   ]
  },
  {
   "cell_type": "code",
   "execution_count": 16,
   "metadata": {},
   "outputs": [
    {
     "data": {
      "text/html": [
       "<div>\n",
       "<style scoped>\n",
       "    .dataframe tbody tr th:only-of-type {\n",
       "        vertical-align: middle;\n",
       "    }\n",
       "\n",
       "    .dataframe tbody tr th {\n",
       "        vertical-align: top;\n",
       "    }\n",
       "\n",
       "    .dataframe thead th {\n",
       "        text-align: right;\n",
       "    }\n",
       "</style>\n",
       "<table border=\"1\" class=\"dataframe\">\n",
       "  <thead>\n",
       "    <tr style=\"text-align: right;\">\n",
       "      <th></th>\n",
       "      <th>Ship Mode_First Class</th>\n",
       "      <th>Ship Mode_Same Day</th>\n",
       "      <th>Ship Mode_Second Class</th>\n",
       "      <th>Ship Mode_Standard Class</th>\n",
       "      <th>Segment_Consumer</th>\n",
       "      <th>Segment_Corporate</th>\n",
       "      <th>Segment_Home Office</th>\n",
       "      <th>City_Aachen</th>\n",
       "      <th>City_Aalen</th>\n",
       "      <th>City_Aalst</th>\n",
       "      <th>...</th>\n",
       "      <th>Quantity</th>\n",
       "      <th>Discount</th>\n",
       "      <th>Profit</th>\n",
       "      <th>Shipping Cost</th>\n",
       "      <th>Order Date_year</th>\n",
       "      <th>Order Date_month</th>\n",
       "      <th>Order Date_day</th>\n",
       "      <th>Ship Date_year</th>\n",
       "      <th>Ship Date_month</th>\n",
       "      <th>Ship Date_day</th>\n",
       "    </tr>\n",
       "  </thead>\n",
       "  <tbody>\n",
       "    <tr>\n",
       "      <th>0</th>\n",
       "      <td>0</td>\n",
       "      <td>0</td>\n",
       "      <td>0</td>\n",
       "      <td>1</td>\n",
       "      <td>1</td>\n",
       "      <td>0</td>\n",
       "      <td>0</td>\n",
       "      <td>0</td>\n",
       "      <td>0</td>\n",
       "      <td>0</td>\n",
       "      <td>...</td>\n",
       "      <td>3</td>\n",
       "      <td>0.0</td>\n",
       "      <td>4.56</td>\n",
       "      <td>2.033</td>\n",
       "      <td>2015</td>\n",
       "      <td>10</td>\n",
       "      <td>2</td>\n",
       "      <td>2015</td>\n",
       "      <td>10</td>\n",
       "      <td>6</td>\n",
       "    </tr>\n",
       "    <tr>\n",
       "      <th>1</th>\n",
       "      <td>0</td>\n",
       "      <td>0</td>\n",
       "      <td>0</td>\n",
       "      <td>1</td>\n",
       "      <td>1</td>\n",
       "      <td>0</td>\n",
       "      <td>0</td>\n",
       "      <td>0</td>\n",
       "      <td>0</td>\n",
       "      <td>0</td>\n",
       "      <td>...</td>\n",
       "      <td>8</td>\n",
       "      <td>0.0</td>\n",
       "      <td>90.72</td>\n",
       "      <td>13.449</td>\n",
       "      <td>2013</td>\n",
       "      <td>10</td>\n",
       "      <td>15</td>\n",
       "      <td>2013</td>\n",
       "      <td>10</td>\n",
       "      <td>20</td>\n",
       "    </tr>\n",
       "    <tr>\n",
       "      <th>2</th>\n",
       "      <td>0</td>\n",
       "      <td>0</td>\n",
       "      <td>0</td>\n",
       "      <td>1</td>\n",
       "      <td>1</td>\n",
       "      <td>0</td>\n",
       "      <td>0</td>\n",
       "      <td>0</td>\n",
       "      <td>0</td>\n",
       "      <td>0</td>\n",
       "      <td>...</td>\n",
       "      <td>2</td>\n",
       "      <td>0.0</td>\n",
       "      <td>54.08</td>\n",
       "      <td>9.627</td>\n",
       "      <td>2013</td>\n",
       "      <td>10</td>\n",
       "      <td>15</td>\n",
       "      <td>2013</td>\n",
       "      <td>10</td>\n",
       "      <td>20</td>\n",
       "    </tr>\n",
       "    <tr>\n",
       "      <th>3</th>\n",
       "      <td>0</td>\n",
       "      <td>0</td>\n",
       "      <td>0</td>\n",
       "      <td>1</td>\n",
       "      <td>1</td>\n",
       "      <td>0</td>\n",
       "      <td>0</td>\n",
       "      <td>0</td>\n",
       "      <td>0</td>\n",
       "      <td>0</td>\n",
       "      <td>...</td>\n",
       "      <td>4</td>\n",
       "      <td>0.0</td>\n",
       "      <td>4.96</td>\n",
       "      <td>1.371</td>\n",
       "      <td>2013</td>\n",
       "      <td>10</td>\n",
       "      <td>15</td>\n",
       "      <td>2013</td>\n",
       "      <td>10</td>\n",
       "      <td>20</td>\n",
       "    </tr>\n",
       "    <tr>\n",
       "      <th>4</th>\n",
       "      <td>0</td>\n",
       "      <td>0</td>\n",
       "      <td>0</td>\n",
       "      <td>1</td>\n",
       "      <td>1</td>\n",
       "      <td>0</td>\n",
       "      <td>0</td>\n",
       "      <td>0</td>\n",
       "      <td>0</td>\n",
       "      <td>0</td>\n",
       "      <td>...</td>\n",
       "      <td>2</td>\n",
       "      <td>0.0</td>\n",
       "      <td>11.44</td>\n",
       "      <td>3.787</td>\n",
       "      <td>2013</td>\n",
       "      <td>10</td>\n",
       "      <td>15</td>\n",
       "      <td>2013</td>\n",
       "      <td>10</td>\n",
       "      <td>20</td>\n",
       "    </tr>\n",
       "  </tbody>\n",
       "</table>\n",
       "<p>5 rows × 8775 columns</p>\n",
       "</div>"
      ],
      "text/plain": [
       "   Ship Mode_First Class  Ship Mode_Same Day  Ship Mode_Second Class  \\\n",
       "0                      0                   0                       0   \n",
       "1                      0                   0                       0   \n",
       "2                      0                   0                       0   \n",
       "3                      0                   0                       0   \n",
       "4                      0                   0                       0   \n",
       "\n",
       "   Ship Mode_Standard Class  Segment_Consumer  Segment_Corporate  \\\n",
       "0                         1                 1                  0   \n",
       "1                         1                 1                  0   \n",
       "2                         1                 1                  0   \n",
       "3                         1                 1                  0   \n",
       "4                         1                 1                  0   \n",
       "\n",
       "   Segment_Home Office  City_Aachen  City_Aalen  City_Aalst  ...  Quantity  \\\n",
       "0                    0            0           0           0  ...         3   \n",
       "1                    0            0           0           0  ...         8   \n",
       "2                    0            0           0           0  ...         2   \n",
       "3                    0            0           0           0  ...         4   \n",
       "4                    0            0           0           0  ...         2   \n",
       "\n",
       "   Discount  Profit  Shipping Cost  Order Date_year  Order Date_month  \\\n",
       "0       0.0    4.56          2.033             2015                10   \n",
       "1       0.0   90.72         13.449             2013                10   \n",
       "2       0.0   54.08          9.627             2013                10   \n",
       "3       0.0    4.96          1.371             2013                10   \n",
       "4       0.0   11.44          3.787             2013                10   \n",
       "\n",
       "   Order Date_day  Ship Date_year  Ship Date_month  Ship Date_day  \n",
       "0               2            2015               10              6  \n",
       "1              15            2013               10             20  \n",
       "2              15            2013               10             20  \n",
       "3              15            2013               10             20  \n",
       "4              15            2013               10             20  \n",
       "\n",
       "[5 rows x 8775 columns]"
      ]
     },
     "execution_count": 16,
     "metadata": {},
     "output_type": "execute_result"
    }
   ],
   "source": [
    "col_numeric = list(df.select_dtypes(include = np.number))\n",
    "col_categorical = [x for x in df.columns if x not in col_numeric]\n",
    "\n",
    "# drop các cột có kiểu DL là số để fix lỗi join vào\n",
    "new_df = df.copy()\n",
    "new_df.drop(columns = col_numeric, axis = 1, inplace = True)\n",
    "\n",
    "# Tham số drop_first = False chỉ định kỹ thuật Dummy Encoding, ngược lại drop_first = True chỉ định kỹ thuật One-Hot Encoding\n",
    "dummy_df = pd.get_dummies(new_df, columns = col_categorical, drop_first = False)\n",
    "dummy_df = dummy_df.join(df[col_numeric])\n",
    "dummy_df.head()"
   ]
  },
  {
   "attachments": {},
   "cell_type": "markdown",
   "metadata": {},
   "source": [
    "🔥 Lấy ra cột label là doanh thu (\"Sales\") và lợi nhuận (\"Profit\")"
   ]
  },
  {
   "cell_type": "code",
   "execution_count": 17,
   "metadata": {},
   "outputs": [],
   "source": [
    "y_sales = dummy_df.pop('Sales')\n",
    "y_profit = dummy_df.pop('Profit')"
   ]
  },
  {
   "attachments": {},
   "cell_type": "markdown",
   "metadata": {},
   "source": [
    "🔥 Chia `dummy_df` thành hai tập dữ liệu `train` (huấn luyện mô hình) và `test` (kiểm thử và đánh giá các mô hình)."
   ]
  },
  {
   "cell_type": "code",
   "execution_count": 18,
   "metadata": {},
   "outputs": [],
   "source": [
    "X_train, X_test, y_train_sales, y_test_sales = train_test_split(dummy_df, y_sales, test_size = 0.3, random_state = 0)\n",
    "X_train, X_test, y_train_profit, y_test_profit = train_test_split(dummy_df, y_profit, test_size = 0.3, random_state = 0)\n",
    "\n",
    "scaler = StandardScaler()\n",
    "scaler.fit(X_train)\n",
    "X_train = pd.DataFrame(scaler.transform(X_train), columns = dummy_df.columns)\n",
    "X_test = pd.DataFrame(scaler.transform(X_test), columns = dummy_df.columns)"
   ]
  },
  {
   "attachments": {},
   "cell_type": "markdown",
   "metadata": {},
   "source": [
    "---"
   ]
  },
  {
   "attachments": {},
   "cell_type": "markdown",
   "metadata": {},
   "source": [
    "<font size=\"4\"> ✈️ <strong>Bước 3:</strong> Xây dựng các mô hình. </font>"
   ]
  },
  {
   "attachments": {},
   "cell_type": "markdown",
   "metadata": {},
   "source": [
    "<h3 style=\"background-color: #80a5d6; font-family:Quicksand; font-weight: 500; color:white;line-height: 3em; padding-left: 1em; \"> 1. Decision Tree Regression </h3>"
   ]
  },
  {
   "cell_type": "code",
   "execution_count": 9,
   "metadata": {},
   "outputs": [],
   "source": [
    "# Huấn luyện mô hình Decision Tree Regression trên tập X_train và y_train\n",
    "decision_tree_reg_sales  = DecisionTreeRegressor().fit(X_train, y_train_sales)\n",
    "decision_tree_reg_profit = DecisionTreeRegressor().fit(X_train, y_train_profit)\n",
    "\n",
    "# Dùng mô hình để dự đoán trên tập X_test\n",
    "dt_pred_sales  = decision_tree_reg_sales.predict(X_test)\n",
    "dt_pred_profit = decision_tree_reg_profit.predict(X_test)"
   ]
  },
  {
   "cell_type": "code",
   "execution_count": 10,
   "metadata": {},
   "outputs": [
    {
     "name": "stdout",
     "output_type": "stream",
     "text": [
      "Mean squared error of Sales : 102349.2825\n",
      "Mean squared error of Profit: 24913.6430\n",
      "R-squared of Sales : 0.6203\n",
      "R-squared of Profit: 0.2972\n"
     ]
    }
   ],
   "source": [
    "# Đo độ lỗi \"Mean squared error\" và \"R-squared\" của mô hình so với y_test\n",
    "dt_mse_sales  = mean_squared_error(y_test_sales, dt_pred_sales)\n",
    "dt_mse_profit = mean_squared_error(y_test_profit, dt_pred_profit)\n",
    "print('Mean squared error of Sales : %.4f' % dt_mse_sales)\n",
    "print('Mean squared error of Profit: %.4f' % dt_mse_profit)\n",
    "\n",
    "dt_r2_sales  = r2_score(y_test_sales, dt_pred_sales)\n",
    "dt_r2_profit = r2_score(y_test_profit, dt_pred_profit)\n",
    "print('R-squared of Sales : %.4f' % dt_r2_sales)\n",
    "print('R-squared of Profit: %.4f' % dt_r2_profit)"
   ]
  },
  {
   "attachments": {},
   "cell_type": "markdown",
   "metadata": {},
   "source": [
    "<h3 style=\"background-color: #80a5d6; font-family:Quicksand; font-weight: 500; color:white;line-height: 3em; padding-left: 1em; \"> 2. Random Forest Regression </h3>"
   ]
  },
  {
   "cell_type": "code",
   "execution_count": 19,
   "metadata": {},
   "outputs": [],
   "source": [
    "# Huấn luyện mô hình Random Forest Regression trên tập X_train và y_train\n",
    "rf_reg_sales  = RandomForestRegressor(max_depth = 5).fit(X_train, y_train_sales)\n",
    "rf_reg_profit = RandomForestRegressor(max_depth = 5).fit(X_train, y_train_profit)\n",
    "\n",
    "# Dùng mô hình để dự đoán trên tập X_test\n",
    "rf_pred_sales  = rf_reg_sales.predict(X_test)\n",
    "rf_pred_profit = rf_reg_profit.predict(X_test)"
   ]
  },
  {
   "cell_type": "code",
   "execution_count": 20,
   "metadata": {},
   "outputs": [
    {
     "name": "stdout",
     "output_type": "stream",
     "text": [
      "Mean squared error of Sales : 87557.7552\n",
      "Mean squared error of Profit: 18899.9833\n",
      "R-squared of Sales : 0.6752\n",
      "R-squared of Profit: 0.4668\n"
     ]
    }
   ],
   "source": [
    "# Đo độ lỗi \"Mean squared error\" và \"R-squared\" của mô hình so với y_test\n",
    "rf_mse_sales  = mean_squared_error(y_test_sales, rf_pred_sales)\n",
    "rf_mse_profit = mean_squared_error(y_test_profit, rf_pred_profit)\n",
    "print('Mean squared error of Sales : %.4f' % rf_mse_sales)\n",
    "print('Mean squared error of Profit: %.4f' % rf_mse_profit)\n",
    "\n",
    "rf_r2_sales = r2_score(y_test_sales, rf_pred_sales)\n",
    "rf_r2_profit = r2_score(y_test_profit, rf_pred_profit)\n",
    "print('R-squared of Sales : %.4f' % rf_r2_sales)\n",
    "print('R-squared of Profit: %.4f' % rf_r2_profit)"
   ]
  },
  {
   "attachments": {},
   "cell_type": "markdown",
   "metadata": {},
   "source": [
    "<h3 style=\"background-color: #80a5d6; font-family:Quicksand; font-weight: 500; color:white;line-height: 3em; padding-left: 1em; \"> 3. TensorFlow neural network </h3>"
   ]
  },
  {
   "cell_type": "code",
   "execution_count": 21,
   "metadata": {},
   "outputs": [
    {
     "name": "stdout",
     "output_type": "stream",
     "text": [
      "Model: \"model\"\n",
      "_________________________________________________________________\n",
      " Layer (type)                Output Shape              Param #   \n",
      "=================================================================\n",
      " input_1 (InputLayer)        [(None, 8773)]            0         \n",
      "                                                                 \n",
      " dense (Dense)               (None, 256)               2246144   \n",
      "                                                                 \n",
      " dense_1 (Dense)             (None, 256)               65792     \n",
      "                                                                 \n",
      " dense_2 (Dense)             (None, 1)                 257       \n",
      "                                                                 \n",
      "=================================================================\n",
      "Total params: 2,312,193\n",
      "Trainable params: 2,312,193\n",
      "Non-trainable params: 0\n",
      "_________________________________________________________________\n",
      "None\n"
     ]
    }
   ],
   "source": [
    "inputs = tf.keras.Input(shape = (X_train.shape[1],))\n",
    "x = tf.keras.layers.Dense(256, activation = 'relu')(inputs)\n",
    "x = tf.keras.layers.Dense(256, activation = 'relu')(x)\n",
    "outputs = tf.keras.layers.Dense(1, activation = 'linear')(x)\n",
    "\n",
    "model_sales = tf.keras.Model(inputs = inputs, outputs = outputs)\n",
    "model_profit = tf.keras.Model(inputs = inputs, outputs = outputs)\n",
    "\n",
    "print(model_sales.summary())"
   ]
  },
  {
   "cell_type": "code",
   "execution_count": 22,
   "metadata": {},
   "outputs": [
    {
     "name": "stdout",
     "output_type": "stream",
     "text": [
      "Epoch 1/100\n",
      "898/898 [==============================] - 23s 24ms/step - loss: 154979.3281 - val_loss: 88249.0391 - lr: 0.0010\n",
      "Epoch 2/100\n",
      "898/898 [==============================] - 17s 19ms/step - loss: 70715.7344 - val_loss: 72996.1562 - lr: 0.0010\n",
      "Epoch 3/100\n",
      "898/898 [==============================] - 15s 17ms/step - loss: 45023.0312 - val_loss: 86833.3750 - lr: 0.0010\n",
      "Epoch 4/100\n",
      "898/898 [==============================] - 15s 17ms/step - loss: 28812.0273 - val_loss: 153236.5469 - lr: 0.0010\n",
      "Epoch 5/100\n",
      "898/898 [==============================] - 15s 17ms/step - loss: 22443.2188 - val_loss: 267737.6875 - lr: 0.0010\n",
      "Epoch 6/100\n",
      "898/898 [==============================] - 15s 17ms/step - loss: 18999.4844 - val_loss: 1143058.6250 - lr: 0.0010\n",
      "Epoch 7/100\n",
      "898/898 [==============================] - 15s 16ms/step - loss: 14407.8154 - val_loss: 1042979.5625 - lr: 0.0010\n"
     ]
    }
   ],
   "source": [
    "model_sales.compile(\n",
    "    optimizer = 'adam',\n",
    "    loss = 'mse'\n",
    ")\n",
    "\n",
    "history = model_sales.fit(\n",
    "    X_train,\n",
    "    y_train_sales,\n",
    "    validation_split = 0.2,\n",
    "    batch_size = 32,\n",
    "    epochs = 100,\n",
    "    callbacks = [\n",
    "        tf.keras.callbacks.EarlyStopping(\n",
    "            monitor = 'val_loss',\n",
    "            patience = 5,\n",
    "            restore_best_weights = True\n",
    "        ),\n",
    "        tf.keras.callbacks.ReduceLROnPlateau()\n",
    "    ]\n",
    ")"
   ]
  },
  {
   "cell_type": "code",
   "execution_count": 23,
   "metadata": {},
   "outputs": [
    {
     "name": "stdout",
     "output_type": "stream",
     "text": [
      "Epoch 1/100\n",
      "898/898 [==============================] - 18s 20ms/step - loss: 26689.3613 - val_loss: 18529.8770 - lr: 0.0010\n",
      "Epoch 2/100\n",
      "898/898 [==============================] - 15s 16ms/step - loss: 15775.8955 - val_loss: 18186.9316 - lr: 0.0010\n",
      "Epoch 3/100\n",
      "898/898 [==============================] - 15s 17ms/step - loss: 10730.9688 - val_loss: 24246.3164 - lr: 0.0010\n",
      "Epoch 4/100\n",
      "898/898 [==============================] - 15s 17ms/step - loss: 8181.9556 - val_loss: 28976.4805 - lr: 0.0010\n",
      "Epoch 5/100\n",
      "898/898 [==============================] - 15s 17ms/step - loss: 6308.6226 - val_loss: 27175.7910 - lr: 0.0010\n",
      "Epoch 6/100\n",
      "898/898 [==============================] - 14s 16ms/step - loss: 5139.8799 - val_loss: 70106.2031 - lr: 0.0010\n",
      "Epoch 7/100\n",
      "898/898 [==============================] - 15s 16ms/step - loss: 4202.4360 - val_loss: 119631.1250 - lr: 0.0010\n"
     ]
    }
   ],
   "source": [
    "model_profit.compile(\n",
    "    optimizer = 'adam',\n",
    "    loss = 'mse'\n",
    ")\n",
    "\n",
    "history = model_profit.fit(\n",
    "    X_train,\n",
    "    y_train_profit,\n",
    "    validation_split = 0.2,\n",
    "    batch_size = 32,\n",
    "    epochs = 100,\n",
    "    callbacks = [\n",
    "        tf.keras.callbacks.EarlyStopping(\n",
    "            monitor = 'val_loss',\n",
    "            patience = 5,\n",
    "            restore_best_weights = True\n",
    "        ),\n",
    "        tf.keras.callbacks.ReduceLROnPlateau()\n",
    "    ]\n",
    ")"
   ]
  },
  {
   "cell_type": "code",
   "execution_count": 24,
   "metadata": {},
   "outputs": [
    {
     "name": "stdout",
     "output_type": "stream",
     "text": [
      "Test Loss of Sales : 273440.50000\n",
      "Test Loss of Profit: 24805.60352\n"
     ]
    }
   ],
   "source": [
    "test_loss_sales = model_sales.evaluate(X_test, y_test_sales, verbose = 0)\n",
    "test_loss_profit = model_profit.evaluate(X_test, y_test_profit, verbose = 0)\n",
    "\n",
    "print(\"Test Loss of Sales : {:.5f}\".format(test_loss_sales))\n",
    "print(\"Test Loss of Profit: {:.5f}\".format(test_loss_profit))"
   ]
  },
  {
   "cell_type": "code",
   "execution_count": 27,
   "metadata": {},
   "outputs": [
    {
     "name": "stdout",
     "output_type": "stream",
     "text": [
      "481/481 [==============================] - 3s 6ms/step\n",
      "481/481 [==============================] - 3s 6ms/step\n",
      "Mean squared error of Sales : 273440.4506\n",
      "Mean squared error of Profit: 24805.5926\n",
      "R-squared of Sales : -0.01441\n",
      "R-squared of Profit: 0.30021\n"
     ]
    }
   ],
   "source": [
    "y_pred_sales = np.squeeze(model_sales.predict(X_test))\n",
    "y_pred_profit = np.squeeze(model_profit.predict(X_test))\n",
    "\n",
    "tnn_mse_sales  = mean_squared_error(y_test_sales, y_pred_sales)\n",
    "tnn_mse_profit = mean_squared_error(y_test_profit, y_pred_profit)\n",
    "print('Mean squared error of Sales : %.4f' % tnn_mse_sales)\n",
    "print('Mean squared error of Profit: %.4f' % tnn_mse_profit)\n",
    "\n",
    "tnn_r2_sales = r2_score(y_test_sales, y_pred_sales)\n",
    "tnn_r2_profit = r2_score(y_test_profit, y_pred_profit)\n",
    "print(\"R-squared of Sales : {:.5f}\".format(tnn_r2_sales))\n",
    "print(\"R-squared of Profit: {:.5f}\".format(tnn_r2_profit))"
   ]
  },
  {
   "attachments": {},
   "cell_type": "markdown",
   "metadata": {},
   "source": [
    "---"
   ]
  },
  {
   "attachments": {},
   "cell_type": "markdown",
   "metadata": {},
   "source": [
    "<font size=\"4\"> ✈️ <strong>Bước 4:</strong> Đánh giá các mô hình. </font>"
   ]
  },
  {
   "attachments": {},
   "cell_type": "markdown",
   "metadata": {},
   "source": [
    "<h3 style=\"background-color: #80a5d6; font-family:Quicksand; font-weight: 500; color:white;line-height: 3em; padding-left: 1em; \"> In ra Mean squared error và R-squared của các mô hình </h3>"
   ]
  },
  {
   "cell_type": "code",
   "execution_count": 45,
   "metadata": {},
   "outputs": [
    {
     "name": "stdout",
     "output_type": "stream",
     "text": [
      "Forecasting Sales:\n"
     ]
    },
    {
     "data": {
      "text/html": [
       "<div>\n",
       "<style scoped>\n",
       "    .dataframe tbody tr th:only-of-type {\n",
       "        vertical-align: middle;\n",
       "    }\n",
       "\n",
       "    .dataframe tbody tr th {\n",
       "        vertical-align: top;\n",
       "    }\n",
       "\n",
       "    .dataframe thead th {\n",
       "        text-align: right;\n",
       "    }\n",
       "</style>\n",
       "<table border=\"1\" class=\"dataframe\">\n",
       "  <thead>\n",
       "    <tr style=\"text-align: right;\">\n",
       "      <th></th>\n",
       "      <th>MSE</th>\n",
       "      <th>R2</th>\n",
       "    </tr>\n",
       "    <tr>\n",
       "      <th>Model</th>\n",
       "      <th></th>\n",
       "      <th></th>\n",
       "    </tr>\n",
       "  </thead>\n",
       "  <tbody>\n",
       "    <tr>\n",
       "      <th>Dicision Tree Regression</th>\n",
       "      <td>102349.282458</td>\n",
       "      <td>0.620303</td>\n",
       "    </tr>\n",
       "    <tr>\n",
       "      <th>Random Forest Regression</th>\n",
       "      <td>87557.755217</td>\n",
       "      <td>0.675177</td>\n",
       "    </tr>\n",
       "    <tr>\n",
       "      <th>TensorFlow Neural Network</th>\n",
       "      <td>273440.450636</td>\n",
       "      <td>-0.014413</td>\n",
       "    </tr>\n",
       "  </tbody>\n",
       "</table>\n",
       "</div>"
      ],
      "text/plain": [
       "                                     MSE        R2\n",
       "Model                                             \n",
       "Dicision Tree Regression   102349.282458  0.620303\n",
       "Random Forest Regression    87557.755217  0.675177\n",
       "TensorFlow Neural Network  273440.450636 -0.014413"
      ]
     },
     "execution_count": 45,
     "metadata": {},
     "output_type": "execute_result"
    }
   ],
   "source": [
    "print('Forecasting Sales:')\n",
    "mse_sales = [dt_mse_sales, rf_mse_sales, tnn_mse_sales]\n",
    "r2_sales = [dt_r2_sales, rf_r2_sales, tnn_r2_sales]\n",
    "index = ['Dicision Tree Regression', 'Random Forest Regression', 'TensorFlow Neural Network']\n",
    "data_sales = {'MSE': mse_sales, 'R2': r2_sales}\n",
    "measurement_sales = pd.DataFrame(data_sales, index = index)\n",
    "measurement_sales.index.name = 'Model'\n",
    "measurement_sales"
   ]
  },
  {
   "cell_type": "code",
   "execution_count": 46,
   "metadata": {},
   "outputs": [
    {
     "name": "stdout",
     "output_type": "stream",
     "text": [
      "Forecasting Profit:\n"
     ]
    },
    {
     "data": {
      "text/html": [
       "<div>\n",
       "<style scoped>\n",
       "    .dataframe tbody tr th:only-of-type {\n",
       "        vertical-align: middle;\n",
       "    }\n",
       "\n",
       "    .dataframe tbody tr th {\n",
       "        vertical-align: top;\n",
       "    }\n",
       "\n",
       "    .dataframe thead th {\n",
       "        text-align: right;\n",
       "    }\n",
       "</style>\n",
       "<table border=\"1\" class=\"dataframe\">\n",
       "  <thead>\n",
       "    <tr style=\"text-align: right;\">\n",
       "      <th></th>\n",
       "      <th>MSE</th>\n",
       "      <th>R2</th>\n",
       "    </tr>\n",
       "    <tr>\n",
       "      <th>Model</th>\n",
       "      <th></th>\n",
       "      <th></th>\n",
       "    </tr>\n",
       "  </thead>\n",
       "  <tbody>\n",
       "    <tr>\n",
       "      <th>Dicision Tree Regression</th>\n",
       "      <td>24913.643018</td>\n",
       "      <td>0.297160</td>\n",
       "    </tr>\n",
       "    <tr>\n",
       "      <th>Random Forest Regression</th>\n",
       "      <td>18899.983340</td>\n",
       "      <td>0.466812</td>\n",
       "    </tr>\n",
       "    <tr>\n",
       "      <th>TensorFlow Neural Network</th>\n",
       "      <td>24805.592616</td>\n",
       "      <td>0.300208</td>\n",
       "    </tr>\n",
       "  </tbody>\n",
       "</table>\n",
       "</div>"
      ],
      "text/plain": [
       "                                    MSE        R2\n",
       "Model                                            \n",
       "Dicision Tree Regression   24913.643018  0.297160\n",
       "Random Forest Regression   18899.983340  0.466812\n",
       "TensorFlow Neural Network  24805.592616  0.300208"
      ]
     },
     "execution_count": 46,
     "metadata": {},
     "output_type": "execute_result"
    }
   ],
   "source": [
    "print('Forecasting Profit:')\n",
    "mse_profit = [dt_mse_profit, rf_mse_profit, tnn_mse_profit]\n",
    "r2_profit = [dt_r2_profit, rf_r2_profit, tnn_r2_profit]\n",
    "data_profit = {'MSE': mse_profit, 'R2': r2_profit}\n",
    "measurement_profit = pd.DataFrame(data_profit, index = index)\n",
    "measurement_profit.index.name = 'Model'\n",
    "measurement_profit"
   ]
  },
  {
   "attachments": {},
   "cell_type": "markdown",
   "metadata": {},
   "source": [
    "<div style = \"color: #80a5d6; padding: 1em; margin-top: 0; \">\n",
    "    <h5 style = \"margin-bottom: 0; font-weight: bold; margin-top: 0; \"> 🔥 Nhận xét:</h5>\n",
    "    <ul style = \"padding-right: 1.5em; margin-bottom: 0; \">\n",
    "        <li> <strong>Mean Squared Error (MSE)</strong> là một độ đo thường được sử dụng để đánh giá chất lượng của một mô hình dự đoán. Nó tính toán trung bình bình phương của sai số giữa các giá trị dự đoán và các giá trị thực tế. MSE càng nhỏ thì mô hình dự đoán càng tốt. Như vậy mô hình <strong>Random Forest Regression dự đoán tốt nhất cả doanh thu và lợi nhuận</strong>. </li>\n",
    "        <li> <strong>R-square</strong> là một thước đo đánh giá chất lượng của mô hình hồi quy và biểu thị tỉ lệ phần trăm của sự biến động của biến phụ thuộc (y) có thể được giải thích bởi biến độc lập (x) đã chọn cho mô hình. Giá trị R-square nằm trong khoảng từ 0 đến 1, với giá trị càng gần 1 thì mô hình càng tốt. Trong thực tế, mô hình hồi quy với R-square lớn hơn 0,7 được coi là có độ chính xác tốt. Như vậy: \n",
    "            <ul style = \"padding-right: 2em;\">\n",
    "                <li style = \"margin-top: 0.3em; \"> <strong>Đối với Doanh thu:</strong> mô hình TensorFlow Neural Network có R2 score = -0.014 < 0, cho thấy mô hình không tốt và dự đoán kém hơn việc dự đoán trung bình. Do đó ta không nên sử dụng mô hình này khi dự đoán doanh thu. Trong khi đó, hai mô hình Dicision Tree Regression và Random Forest Regression có R2 score lần lượt là 0.62 và 0.675, chứng tỏ chúng dự đoán doanh thu khá tốt và Random Forest Regression dự đoán doanh thu tốt nhất. </li>\n",
    "                <li style = \"margin-top: 0.3em; \"> <strong>Đối với Lợi nhuận:</strong> Mô hình Random Forest Regression dù khả năng dự đoán lợi nhuận ở mức trung bình (R2 score = 0.467) nhưng cho kết quả tốt hơn hai mô hình còn lại. Theo sau đó là TensorFlow Neural Network (R2 score = 0.3) và sau cùng là Dicision Tree Regression (R2 score = 0.297). </li>\n",
    "            </ul>\n",
    "        </li>\n",
    "    </ul>\n",
    "</div>"
   ]
  },
  {
   "attachments": {},
   "cell_type": "markdown",
   "metadata": {},
   "source": [
    "<h3 style=\"background-color: #80a5d6; font-family:Quicksand; font-weight: 500; color:white;line-height: 3em; padding-left: 1em; \"> Trực quan regplot cho giá trị mô hình dự đoán và tập test </h3>"
   ]
  },
  {
   "cell_type": "code",
   "execution_count": 57,
   "metadata": {},
   "outputs": [
    {
     "data": {
      "text/plain": [
       "(array([-1000.,  -500.,     0.,   500.,  1000.,  1500.,  2000.,  2500.,\n",
       "         3000.]),\n",
       " [Text(0, -1000.0, '−1000'),\n",
       "  Text(0, -500.0, '−500'),\n",
       "  Text(0, 0.0, '0'),\n",
       "  Text(0, 500.0, '500'),\n",
       "  Text(0, 1000.0, '1000'),\n",
       "  Text(0, 1500.0, '1500'),\n",
       "  Text(0, 2000.0, '2000'),\n",
       "  Text(0, 2500.0, '2500'),\n",
       "  Text(0, 3000.0, '3000')])"
      ]
     },
     "execution_count": 57,
     "metadata": {},
     "output_type": "execute_result"
    },
    {
     "data": {
      "image/png": "[encoded data removed]",
      "text/plain": [
       "<Figure size 2200x400 with 3 Axes>"
      ]
     },
     "metadata": {},
     "output_type": "display_data"
    }
   ],
   "source": [
    "fig, axs = plt.subplots(nrows = 1, ncols = 3, figsize = (22, 4))\n",
    "\n",
    "# Biểu đồ 1\n",
    "ax1 = plt.subplot(1, 3, 1)\n",
    "ax1 = sns.regplot(x = y_test_sales, y = dt_pred_sales, ci = None, scatter_kws = {\"color\": \"#35b5b6\"}, line_kws = {\"color\": \"#ff6961\"})\n",
    "ax1.set_title('Decision Tree Regression', fontsize = 10)\n",
    "ax1.set_xlabel('Doanh thu thực tế', fontsize = 10)\n",
    "ax1.set_ylabel('Doanh thu dự đoán', fontsize = 10)\n",
    "\n",
    "# Biểu đồ 2\n",
    "ax2 = plt.subplot(1, 3, 2)\n",
    "ax2 = sns.regplot(x = y_test_sales, y = rf_pred_sales, ci = None, scatter_kws = {\"color\": \"#35b5b6\"}, line_kws = {\"color\": \"#ff6961\"})\n",
    "ax2.set_title('Random Forest Regression', fontsize = 10)\n",
    "ax2.set_xlabel('Doanh thu thực tế', fontsize = 10)\n",
    "ax2.set_ylabel('Doanh thu dự đoán', fontsize = 10)\n",
    "\n",
    "# Biểu đồ 3\n",
    "ax3 = plt.subplot(1, 3, 3)\n",
    "ax3 = sns.regplot(x = y_test_sales, y = y_pred_sales, ci = None, scatter_kws = {\"color\": \"#35b5b6\"}, line_kws = {\"color\": \"#ff6961\"})\n",
    "ax3.set_title('TensorFlow Neural Network', fontsize = 10)\n",
    "ax3.set_xlabel('Doanh thu thực tế', fontsize = 10)\n",
    "ax3.set_ylabel('Doanh thu dự đoán', fontsize = 10)\n",
    "plt.xticks(fontsize = 8)\n",
    "plt.yticks(fontsize = 8)"
   ]
  },
  {
   "cell_type": "code",
   "execution_count": 58,
   "metadata": {},
   "outputs": [
    {
     "data": {
      "text/plain": [
       "(array([-1500., -1000.,  -500.,     0.,   500.,  1000.,  1500.,  2000.,\n",
       "         2500.,  3000.]),\n",
       " [Text(0, -1500.0, '−1500'),\n",
       "  Text(0, -1000.0, '−1000'),\n",
       "  Text(0, -500.0, '−500'),\n",
       "  Text(0, 0.0, '0'),\n",
       "  Text(0, 500.0, '500'),\n",
       "  Text(0, 1000.0, '1000'),\n",
       "  Text(0, 1500.0, '1500'),\n",
       "  Text(0, 2000.0, '2000'),\n",
       "  Text(0, 2500.0, '2500'),\n",
       "  Text(0, 3000.0, '3000')])"
      ]
     },
     "execution_count": 58,
     "metadata": {},
     "output_type": "execute_result"
    },
    {
     "data": {
      "image/png": "[encoded data removed]",
      "text/plain": [
       "<Figure size 2200x400 with 3 Axes>"
      ]
     },
     "metadata": {},
     "output_type": "display_data"
    }
   ],
   "source": [
    "fig, axs = plt.subplots(nrows = 1, ncols = 3, figsize = (22, 4))\n",
    "\n",
    "# Biểu đồ 1\n",
    "ax1 = plt.subplot(1, 3, 1)\n",
    "ax1 = sns.regplot(x = y_test_profit, y = dt_pred_profit, ci = None, scatter_kws = {\"color\": \"#35b5b6\"}, line_kws = {\"color\": \"#ff6961\"})\n",
    "ax1.set_title('Decision Tree Regression', fontsize = 10)\n",
    "ax1.set_xlabel('Lợi nhuận thực tế', fontsize = 10)\n",
    "ax1.set_ylabel('Lợi nhuận dự đoán', fontsize = 10)\n",
    "\n",
    "# Biểu đồ 2\n",
    "ax2 = plt.subplot(1, 3, 2)\n",
    "ax2 = sns.regplot(x = y_test_profit, y = rf_pred_profit, ci = None, scatter_kws = {\"color\": \"#35b5b6\"}, line_kws = {\"color\": \"#ff6961\"})\n",
    "ax2.set_title('Random Forest Regression', fontsize = 10)\n",
    "ax2.set_xlabel('Lợi nhuận thực tế', fontsize = 10)\n",
    "ax2.set_ylabel('Lợi nhuận dự đoán', fontsize = 10)\n",
    "\n",
    "# Biểu đồ 3\n",
    "ax3 = plt.subplot(1, 3, 3)\n",
    "ax3 = sns.regplot(x = y_test_profit, y = y_pred_profit, ci = None, scatter_kws = {\"color\": \"#35b5b6\"}, line_kws = {\"color\": \"#ff6961\"})\n",
    "ax3.set_title('TensorFlow Neural Network', fontsize = 10)\n",
    "ax3.set_xlabel('Lợi nhuận thực tế', fontsize = 10)\n",
    "ax3.set_ylabel('Lợi nhuận dự đoán', fontsize = 10)\n",
    "plt.xticks(fontsize = 8)\n",
    "plt.yticks(fontsize = 8)"
   ]
  },
  {
   "attachments": {},
   "cell_type": "markdown",
   "metadata": {},
   "source": [
    "<div style = \"color: #80a5d6; padding: 1em; \">\n",
    "    <h5 style = \"margin: 0; display: inline; font-weight: bold; \"> 🔥 Lý do lựa chọn biểu đồ:</h5> <p style = \"display: inline; right: 10em; \"> Ở đây ta chọn biểu đồ regplot để trực quan vì phù hợp khi kiểm tra tương quan giữa doanh thu (lợi nhuận) dự đoán với doanh thu (lợi nhuận) máy bay thực tế.</p><br>\n",
    "    <h5 style = \"margin-top: 15px; margin-bottom: 0; font-weight: bold; \"> 🔥 Nhận xét:</h5>\n",
    "    <ul style = \"padding-right: 1.5em; margin-bottom: 0; \">\n",
    "        <li style = \"margin-top: 0.3em; \"> <strong>Đối với Doanh thu:</strong> ... </li>\n",
    "        <li style = \"margin-top: 0.3em; \"> <strong>Đối với Lợi nhuận:</strong> ... </li>\n",
    "    </ul>\n",
    "</div>"
   ]
  },
  {
   "attachments": {},
   "cell_type": "markdown",
   "metadata": {},
   "source": [
    "---"
   ]
  },
  {
   "attachments": {},
   "cell_type": "markdown",
   "metadata": {},
   "source": [
    "<h4 style = \"margin-bottom: 0; \"> 📂 References: </h4>\n",
    "\n",
    "- [Encoding Categorical Variables: One-hot vs Dummy Encoding](https://towardsdatascience.com/encoding-categorical-variables-one-hot-vs-dummy-encoding-6d5b9c46e2db)\n",
    "\n",
    "- [Plot multiple plots in Matplotlib](https://www.geeksforgeeks.org/plot-multiple-plots-in-matplotlib)"
   ]
  }
 ],
 "metadata": {
  "kernelspec": {
   "display_name": "Python 3",
   "language": "python",
   "name": "python3"
  },
  "language_info": {
   "codemirror_mode": {
    "name": "ipython",
    "version": 3
   },
   "file_extension": ".py",
   "mimetype": "text/x-python",
   "name": "python",
   "nbconvert_exporter": "python",
   "pygments_lexer": "ipython3",
   "version": "3.10.4"
  },
  "orig_nbformat": 4
 },
 "nbformat": 4,
 "nbformat_minor": 2
}
