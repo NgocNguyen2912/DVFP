{
 "cells": [
  {
   "attachments": {},
   "cell_type": "markdown",
   "metadata": {},
   "source": [
    "<h1 style=\"background-color: #80a5d6; font-family:Quicksand; font-weight: 500; color:white;line-height: 3em; padding-left: 1em; \"> KHÁM PHÁ MỐI QUAN HỆ TRONG DỮ LIỆU </h1>"
   ]
  },
  {
   "attachments": {},
   "cell_type": "markdown",
   "metadata": {},
   "source": [
    "<h4> 📂 Import các thư viện cần thiết </h4>"
   ]
  },
  {
   "cell_type": "code",
   "execution_count": 1,
   "metadata": {},
   "outputs": [],
   "source": [
    "import pandas as pd\n",
    "from mlxtend.preprocessing import TransactionEncoder\n",
    "from mlxtend.frequent_patterns import apriori, association_rules\n",
    "import plotly.express as px\n",
    "\n",
    "# remove warnings\n",
    "import warnings\n",
    "warnings.simplefilter('ignore')"
   ]
  },
  {
   "attachments": {},
   "cell_type": "markdown",
   "metadata": {},
   "source": [
    "<h4> 📂 Đọc dữ liệu và in ra 5 dòng đầu tiên </h4>"
   ]
  },
  {
   "cell_type": "code",
   "execution_count": 2,
   "metadata": {},
   "outputs": [
    {
     "data": {
      "text/html": [
       "<div>\n",
       "<style scoped>\n",
       "    .dataframe tbody tr th:only-of-type {\n",
       "        vertical-align: middle;\n",
       "    }\n",
       "\n",
       "    .dataframe tbody tr th {\n",
       "        vertical-align: top;\n",
       "    }\n",
       "\n",
       "    .dataframe thead th {\n",
       "        text-align: right;\n",
       "    }\n",
       "</style>\n",
       "<table border=\"1\" class=\"dataframe\">\n",
       "  <thead>\n",
       "    <tr style=\"text-align: right;\">\n",
       "      <th></th>\n",
       "      <th>Row ID</th>\n",
       "      <th>Order ID</th>\n",
       "      <th>Order Date</th>\n",
       "      <th>Ship Date</th>\n",
       "      <th>Ship Mode</th>\n",
       "      <th>Customer ID</th>\n",
       "      <th>Customer Name</th>\n",
       "      <th>Segment</th>\n",
       "      <th>City</th>\n",
       "      <th>State</th>\n",
       "      <th>...</th>\n",
       "      <th>Product ID</th>\n",
       "      <th>Category</th>\n",
       "      <th>Sub-Category</th>\n",
       "      <th>Product Name</th>\n",
       "      <th>Sales</th>\n",
       "      <th>Quantity</th>\n",
       "      <th>Discount</th>\n",
       "      <th>Profit</th>\n",
       "      <th>Shipping Cost</th>\n",
       "      <th>Order Priority</th>\n",
       "    </tr>\n",
       "  </thead>\n",
       "  <tbody>\n",
       "    <tr>\n",
       "      <th>0</th>\n",
       "      <td>1</td>\n",
       "      <td>MX-2015-SC2057582-42279</td>\n",
       "      <td>2015-10-02</td>\n",
       "      <td>2015-10-06</td>\n",
       "      <td>Standard Class</td>\n",
       "      <td>SC-2057582</td>\n",
       "      <td>Sonia Cooley</td>\n",
       "      <td>Consumer</td>\n",
       "      <td>Mexico City</td>\n",
       "      <td>Distrito Federal</td>\n",
       "      <td>...</td>\n",
       "      <td>OFF-LA-4658</td>\n",
       "      <td>Office Supplies</td>\n",
       "      <td>Labels</td>\n",
       "      <td>Hon File Folder Labels, Adjustable</td>\n",
       "      <td>13.08</td>\n",
       "      <td>3</td>\n",
       "      <td>0.0</td>\n",
       "      <td>4.56</td>\n",
       "      <td>2.033</td>\n",
       "      <td>Medium</td>\n",
       "    </tr>\n",
       "    <tr>\n",
       "      <th>1</th>\n",
       "      <td>2</td>\n",
       "      <td>MX-2013-KW1657028-41562</td>\n",
       "      <td>2013-10-15</td>\n",
       "      <td>2013-10-20</td>\n",
       "      <td>Standard Class</td>\n",
       "      <td>KW-1657028</td>\n",
       "      <td>Kelly Williams</td>\n",
       "      <td>Consumer</td>\n",
       "      <td>Dos Quebradas</td>\n",
       "      <td>Risaralda</td>\n",
       "      <td>...</td>\n",
       "      <td>FUR-FU-6238</td>\n",
       "      <td>Furniture</td>\n",
       "      <td>Furnishings</td>\n",
       "      <td>Tenex Clock, Durable</td>\n",
       "      <td>252.16</td>\n",
       "      <td>8</td>\n",
       "      <td>0.0</td>\n",
       "      <td>90.72</td>\n",
       "      <td>13.449</td>\n",
       "      <td>Medium</td>\n",
       "    </tr>\n",
       "    <tr>\n",
       "      <th>2</th>\n",
       "      <td>3</td>\n",
       "      <td>MX-2013-KW1657028-41562</td>\n",
       "      <td>2013-10-15</td>\n",
       "      <td>2013-10-20</td>\n",
       "      <td>Standard Class</td>\n",
       "      <td>KW-1657028</td>\n",
       "      <td>Kelly Williams</td>\n",
       "      <td>Consumer</td>\n",
       "      <td>Dos Quebradas</td>\n",
       "      <td>Risaralda</td>\n",
       "      <td>...</td>\n",
       "      <td>FUR-BO-4845</td>\n",
       "      <td>Furniture</td>\n",
       "      <td>Bookcases</td>\n",
       "      <td>Ikea 3-Shelf Cabinet, Mobile</td>\n",
       "      <td>193.28</td>\n",
       "      <td>2</td>\n",
       "      <td>0.0</td>\n",
       "      <td>54.08</td>\n",
       "      <td>9.627</td>\n",
       "      <td>Medium</td>\n",
       "    </tr>\n",
       "    <tr>\n",
       "      <th>3</th>\n",
       "      <td>4</td>\n",
       "      <td>MX-2013-KW1657028-41562</td>\n",
       "      <td>2013-10-15</td>\n",
       "      <td>2013-10-20</td>\n",
       "      <td>Standard Class</td>\n",
       "      <td>KW-1657028</td>\n",
       "      <td>Kelly Williams</td>\n",
       "      <td>Consumer</td>\n",
       "      <td>Dos Quebradas</td>\n",
       "      <td>Risaralda</td>\n",
       "      <td>...</td>\n",
       "      <td>OFF-BI-3720</td>\n",
       "      <td>Office Supplies</td>\n",
       "      <td>Binders</td>\n",
       "      <td>Cardinal Binder, Clear</td>\n",
       "      <td>35.44</td>\n",
       "      <td>4</td>\n",
       "      <td>0.0</td>\n",
       "      <td>4.96</td>\n",
       "      <td>1.371</td>\n",
       "      <td>Medium</td>\n",
       "    </tr>\n",
       "    <tr>\n",
       "      <th>4</th>\n",
       "      <td>5</td>\n",
       "      <td>MX-2013-KW1657028-41562</td>\n",
       "      <td>2013-10-15</td>\n",
       "      <td>2013-10-20</td>\n",
       "      <td>Standard Class</td>\n",
       "      <td>KW-1657028</td>\n",
       "      <td>Kelly Williams</td>\n",
       "      <td>Consumer</td>\n",
       "      <td>Dos Quebradas</td>\n",
       "      <td>Risaralda</td>\n",
       "      <td>...</td>\n",
       "      <td>OFF-AR-5905</td>\n",
       "      <td>Office Supplies</td>\n",
       "      <td>Art</td>\n",
       "      <td>Sanford Canvas, Water Color</td>\n",
       "      <td>71.60</td>\n",
       "      <td>2</td>\n",
       "      <td>0.0</td>\n",
       "      <td>11.44</td>\n",
       "      <td>3.787</td>\n",
       "      <td>Medium</td>\n",
       "    </tr>\n",
       "  </tbody>\n",
       "</table>\n",
       "<p>5 rows × 23 columns</p>\n",
       "</div>"
      ],
      "text/plain": [
       "   Row ID                 Order ID Order Date  Ship Date       Ship Mode  \\\n",
       "0       1  MX-2015-SC2057582-42279 2015-10-02 2015-10-06  Standard Class   \n",
       "1       2  MX-2013-KW1657028-41562 2013-10-15 2013-10-20  Standard Class   \n",
       "2       3  MX-2013-KW1657028-41562 2013-10-15 2013-10-20  Standard Class   \n",
       "3       4  MX-2013-KW1657028-41562 2013-10-15 2013-10-20  Standard Class   \n",
       "4       5  MX-2013-KW1657028-41562 2013-10-15 2013-10-20  Standard Class   \n",
       "\n",
       "  Customer ID   Customer Name   Segment           City             State  ...  \\\n",
       "0  SC-2057582    Sonia Cooley  Consumer    Mexico City  Distrito Federal  ...   \n",
       "1  KW-1657028  Kelly Williams  Consumer  Dos Quebradas         Risaralda  ...   \n",
       "2  KW-1657028  Kelly Williams  Consumer  Dos Quebradas         Risaralda  ...   \n",
       "3  KW-1657028  Kelly Williams  Consumer  Dos Quebradas         Risaralda  ...   \n",
       "4  KW-1657028  Kelly Williams  Consumer  Dos Quebradas         Risaralda  ...   \n",
       "\n",
       "    Product ID         Category Sub-Category  \\\n",
       "0  OFF-LA-4658  Office Supplies       Labels   \n",
       "1  FUR-FU-6238        Furniture  Furnishings   \n",
       "2  FUR-BO-4845        Furniture    Bookcases   \n",
       "3  OFF-BI-3720  Office Supplies      Binders   \n",
       "4  OFF-AR-5905  Office Supplies          Art   \n",
       "\n",
       "                         Product Name   Sales Quantity Discount  Profit  \\\n",
       "0  Hon File Folder Labels, Adjustable   13.08        3      0.0    4.56   \n",
       "1                Tenex Clock, Durable  252.16        8      0.0   90.72   \n",
       "2        Ikea 3-Shelf Cabinet, Mobile  193.28        2      0.0   54.08   \n",
       "3              Cardinal Binder, Clear   35.44        4      0.0    4.96   \n",
       "4         Sanford Canvas, Water Color   71.60        2      0.0   11.44   \n",
       "\n",
       "   Shipping Cost  Order Priority  \n",
       "0          2.033          Medium  \n",
       "1         13.449          Medium  \n",
       "2          9.627          Medium  \n",
       "3          1.371          Medium  \n",
       "4          3.787          Medium  \n",
       "\n",
       "[5 rows x 23 columns]"
      ]
     },
     "execution_count": 2,
     "metadata": {},
     "output_type": "execute_result"
    }
   ],
   "source": [
    "data = pd.read_excel('../datasets/global_superstore_clean.xlsx', index_col = 0).reset_index()\n",
    "data.head()"
   ]
  },
  {
   "attachments": {},
   "cell_type": "markdown",
   "metadata": {},
   "source": [
    "---"
   ]
  },
  {
   "attachments": {},
   "cell_type": "markdown",
   "metadata": {},
   "source": [
    "<h3 style=\"background-color: #80a5d6; font-family: Quicksand; font-weight: 500; color:white; padding: 1em; line-height: 1.5em; \"> Các sản phẩm nào trong Superstore thường được khách hàng mua cùng nhau? </h3>"
   ]
  },
  {
   "attachments": {},
   "cell_type": "markdown",
   "metadata": {},
   "source": [
    "🔥 **Lợi ích khi trả lời câu hỏi:** Khi các doanh nghiệp, quản lý cửa hàng và nhà đầu tư của Superstore biết được các sản phẩm thường được khách hàng mua cùng nhau, họ có thể áp dụng phương pháp gợi ý sản phẩm *(recommendation system)* để tăng cường trải nghiệm mua hàng của khách hàng và tăng doanh số bán hàng cho doanh nghiệp. Cụ thể, khi khách hàng chọn mua một sản phẩm, hệ thống sẽ gợi ý cho khách hàng các sản phẩm khác thường được mua cùng sản phẩm đó. Điều này giúp khách hàng tìm được các sản phẩm liên quan và tương tự nhau, cải thiện trải nghiệm mua sắm của khách hàng, đồng thời cũng giúp doanh nghiệp tăng doanh số và tính hiệu quả kinh doanh. Ngoài ra, việc biết được các sản phẩm thường được mua cùng nhau cũng giúp doanh nghiệp lên kế hoạch sản xuất và kinh doanh hiệu quả hơn, đồng thời tối ưu hóa quy trình đặt hàng, lưu kho và vận chuyển hàng hóa.\n",
    "\n",
    "🔥 **Lý thuyết:** Ta sử dụng thư viện `mlxtend` của Python để giải quyết bài toán trên. Thư viện cung cấp thuật toán **Apriori** khai thác tập phổ biến trong dữ liệu và hàm `association_rules` tìm luật kết hợp thỏa mãn `min_sup` và `min_confidence` cho trước.\n",
    "\n",
    "- **Min_sup (minimum support threshold):** là ngưỡng tối thiểu của sự xuất hiện chung giữa các mục trong tập dữ liệu. Nó được định nghĩa là số lần xuất hiện của một itemset chia cho tổng số mẫu trong cơ sở dữ liệu. Nếu một itemset không đáp ứng `min_sup`, nó sẽ không được xem xét trong quá trình tìm kiếm các luật kết hợp. Giá trị `min_sup` được sử dụng để giảm số lượng các luật được tìm thấy trong quá trình khai thác và giúp chúng ta tìm ra các itemsets có tính kết hợp cao hơn. Ở đây ta chọn $min\\_sup = 0.02$.\n",
    "\n",
    "- **Min_confidence (minimum confidence threshold):** là ngưỡng tối thiểu của độ tin cậy của luật kết hợp. Nó được định nghĩa là xác suất của các item được mua cùng nhau trong một giao dịch có chứa item đó. Nếu độ tin cậy của một luật kết hợp không đáp ứng `min_confidence`, luật này không được coi là có giá trị. Giá trị `min_confidence` được sử dụng để lọc các luật kết hợp có tính kết hợp không chắc chắn và giúp chúng ta tìm ra các luật kết hợp có giá trị thực tế trong dữ liệu. Ở đây ta chọn $min\\_confidence = 0.24$.\n",
    "\n",
    "🔥 **Áp dụng:** Bài toán đặt ra cho thuật toán **Apriori** gắn liền với 2 thuật ngữ: *itemsets* (danh sách sản phẩm) và *transactions* (giao dịch). \n",
    "\n",
    "- Đối với tập dữ liệu Superstore, dữ liệu trong hai cột `Sub-Category` hoặc `Product Name` có thể được coi là một itemsets. Tuy nhiên, nếu chọn sản phẩm từ cột `Product-Name` thì tên sản phẩm quá dài, đôi chỗ có xen vào mô tả sản phẩm đó nên ta phải thêm công đoạn trích xuất tên sản phẩm (ngắn gọn) phục vụ mục đích trực quan hóa. Bên cạnh đó, số lượng sản phẩm rất lớn với 3788 sản phẩm, dữ liệu với hơn 51000 dòng nên số tập phổ biến tìm được là không nhiều. Do đó, nhóm quyết định chọn cột `Sub-Category` làm itemsets.\n",
    "\n",
    "- Nhóm chọn một đơn hàng ứng với một transactions. Các dòng có cùng `Order ID` sẽ được tính là một đơn hàng. Theo quan sát, các dòng có cùng `Order ID` có thể không có cùng `Order Date` (ngày đặt hàng) nhưng lại có chung `Ship Date` (ngày giao hàng) và `Customer ID` (mã khách hàng). Như vậy ta có thể suy đoán rằng Superstore gom các lần đặt hàng của khách hàng lại với nhau để giao hàng một lần cho thuận tiện. Vì thế, ta có thể xem một lần giao hàng như vậy (gom các dòng có cùng `Order ID`) là một đơn hàng.\n",
    "\n",
    "🔥 **Các bước thực hiện:**\n",
    "\n",
    "- **Bước 1:** Trích xuất dữ liệu theo từng đơn hàng.\n",
    "- **Bước 2:** Áp dụng thuật toán **Apriori** khai thác tập phổ biến.\n",
    "- **Bước 3:** Khai thác luật kết hợp."
   ]
  },
  {
   "attachments": {},
   "cell_type": "markdown",
   "metadata": {},
   "source": [
    "---"
   ]
  },
  {
   "attachments": {},
   "cell_type": "markdown",
   "metadata": {},
   "source": [
    "<font size=\"5\"> 🛒 <strong>Bước 1:</strong> Trích xuất dữ liệu theo từng đơn hàng. </font>"
   ]
  },
  {
   "cell_type": "code",
   "execution_count": 3,
   "metadata": {},
   "outputs": [
    {
     "data": {
      "text/plain": [
       "[['Machines', 'Storage'],\n",
       " ['Bookcases', 'Fasteners'],\n",
       " ['Storage', 'Supplies'],\n",
       " ['Phones', 'Storage', 'Art', 'Binders'],\n",
       " ['Labels'],\n",
       " ['Storage'],\n",
       " ['Chairs'],\n",
       " ['Art'],\n",
       " ['Phones'],\n",
       " ['Envelopes'],\n",
       " ['Binders'],\n",
       " ['Fasteners'],\n",
       " ['Bookcases'],\n",
       " ['Storage', 'Art', 'Fasteners'],\n",
       " ['Furnishings'],\n",
       " ['Binders'],\n",
       " ['Binders', 'Paper'],\n",
       " ['Machines'],\n",
       " ['Furnishings', 'Appliances', 'Copiers'],\n",
       " ['Paper'],\n",
       " ['Fasteners'],\n",
       " ['Chairs'],\n",
       " ['Bookcases'],\n",
       " ['Machines', 'Storage', 'Labels', 'Paper', 'Fasteners'],\n",
       " ['Labels'],\n",
       " ['Storage'],\n",
       " ['Appliances'],\n",
       " ['Fasteners'],\n",
       " ['Furnishings'],\n",
       " ['Machines', 'Binders'],\n",
       " ['Furnishings', 'Paper'],\n",
       " ['Machines',\n",
       "  'Storage',\n",
       "  'Bookcases',\n",
       "  'Phones',\n",
       "  'Appliances',\n",
       "  'Art',\n",
       "  'Binders',\n",
       "  'Paper'],\n",
       " ['Storage', 'Copiers'],\n",
       " ['Paper'],\n",
       " ['Storage', 'Accessories', 'Binders'],\n",
       " ['Bookcases', 'Binders', 'Fasteners'],\n",
       " ['Labels', 'Storage', 'Tables', 'Art'],\n",
       " ['Machines', 'Fasteners'],\n",
       " ['Storage'],\n",
       " ['Chairs'],\n",
       " ['Envelopes', 'Copiers'],\n",
       " ['Art', 'Copiers'],\n",
       " ['Storage', 'Fasteners', 'Appliances', 'Paper'],\n",
       " ['Appliances', 'Fasteners'],\n",
       " ['Bookcases'],\n",
       " ['Phones'],\n",
       " ['Art', 'Binders'],\n",
       " ['Binders'],\n",
       " ['Envelopes', 'Binders'],\n",
       " ['Art'],\n",
       " ['Supplies'],\n",
       " ['Art', 'Fasteners'],\n",
       " ['Bookcases'],\n",
       " ['Storage', 'Accessories', 'Art', 'Paper'],\n",
       " ['Machines'],\n",
       " ['Labels', 'Accessories', 'Paper', 'Fasteners'],\n",
       " ['Storage', 'Accessories'],\n",
       " ['Accessories'],\n",
       " ['Bookcases'],\n",
       " ['Art', 'Binders'],\n",
       " ['Furnishings', 'Phones'],\n",
       " ['Bookcases'],\n",
       " ['Labels', 'Art'],\n",
       " ['Supplies'],\n",
       " ['Storage', 'Envelopes', 'Art', 'Binders'],\n",
       " ['Storage', 'Accessories', 'Envelopes', 'Art', 'Binders', 'Fasteners'],\n",
       " ['Phones'],\n",
       " ['Storage', 'Fasteners'],\n",
       " ['Storage'],\n",
       " ['Storage'],\n",
       " ['Copiers'],\n",
       " ['Binders'],\n",
       " ['Storage', 'Accessories', 'Phones', 'Binders', 'Paper'],\n",
       " ['Storage', 'Chairs', 'Furnishings', 'Appliances', 'Binders'],\n",
       " ['Furnishings'],\n",
       " ['Phones', 'Envelopes'],\n",
       " ['Envelopes'],\n",
       " ['Paper'],\n",
       " ['Machines', 'Storage', 'Art'],\n",
       " ['Machines', 'Art', 'Paper', 'Bookcases'],\n",
       " ['Labels', 'Storage', 'Art'],\n",
       " ['Storage', 'Machines'],\n",
       " ['Chairs', 'Supplies', 'Envelopes'],\n",
       " ['Envelopes'],\n",
       " ['Furnishings', 'Labels'],\n",
       " ['Binders'],\n",
       " ['Storage', 'Art'],\n",
       " ['Art', 'Binders'],\n",
       " ['Appliances', 'Art'],\n",
       " ['Storage', 'Chairs', 'Art', 'Bookcases'],\n",
       " ['Envelopes', 'Supplies', 'Binders', 'Copiers'],\n",
       " ['Phones'],\n",
       " ['Appliances', 'Art', 'Copiers'],\n",
       " ['Art'],\n",
       " ['Art'],\n",
       " ['Binders'],\n",
       " ['Bookcases', 'Art'],\n",
       " ['Storage'],\n",
       " ['Art', 'Binders'],\n",
       " ['Machines'],\n",
       " ['Binders'],\n",
       " ['Storage'],\n",
       " ['Phones'],\n",
       " ['Envelopes', 'Accessories', 'Chairs', 'Binders'],\n",
       " ['Art'],\n",
       " ['Accessories', 'Binders'],\n",
       " ['Phones'],\n",
       " ['Binders'],\n",
       " ['Binders'],\n",
       " ['Tables', 'Binders'],\n",
       " ['Machines'],\n",
       " ['Paper'],\n",
       " ['Supplies'],\n",
       " ['Furnishings', 'Accessories', 'Supplies'],\n",
       " ['Chairs'],\n",
       " ['Fasteners'],\n",
       " ['Labels', 'Furnishings', 'Art'],\n",
       " ['Storage'],\n",
       " ['Art'],\n",
       " ['Storage'],\n",
       " ['Art', 'Binders'],\n",
       " ['Labels'],\n",
       " ['Machines'],\n",
       " ['Furnishings'],\n",
       " ['Bookcases'],\n",
       " ['Storage', 'Bookcases', 'Binders'],\n",
       " ['Phones'],\n",
       " ['Machines'],\n",
       " ['Phones'],\n",
       " ['Storage', 'Art'],\n",
       " ['Furnishings', 'Chairs'],\n",
       " ['Paper'],\n",
       " ['Storage', 'Chairs', 'Art', 'Fasteners'],\n",
       " ['Accessories'],\n",
       " ['Storage'],\n",
       " ['Accessories'],\n",
       " ['Bookcases'],\n",
       " ['Phones', 'Machines', 'Envelopes'],\n",
       " ['Storage', 'Bookcases'],\n",
       " ['Storage', 'Labels', 'Furnishings', 'Appliances', 'Art'],\n",
       " ['Labels'],\n",
       " ['Binders'],\n",
       " ['Binders'],\n",
       " ['Storage', 'Supplies', 'Art'],\n",
       " ['Labels', 'Accessories', 'Envelopes'],\n",
       " ['Phones', 'Binders', 'Copiers'],\n",
       " ['Fasteners', 'Copiers'],\n",
       " ['Bookcases', 'Art'],\n",
       " ['Binders'],\n",
       " ['Storage', 'Copiers'],\n",
       " ['Phones'],\n",
       " ['Furnishings', 'Appliances', 'Binders'],\n",
       " ['Furnishings'],\n",
       " ['Copiers'],\n",
       " ['Binders'],\n",
       " ['Bookcases', 'Envelopes', 'Phones', 'Furnishings', 'Fasteners'],\n",
       " ['Labels'],\n",
       " ['Art'],\n",
       " ['Furnishings', 'Labels'],\n",
       " ['Phones'],\n",
       " ['Storage', 'Fasteners', 'Art', 'Paper'],\n",
       " ['Chairs', 'Envelopes', 'Phones', 'Binders', 'Supplies', 'Fasteners'],\n",
       " ['Storage'],\n",
       " ['Labels', 'Storage'],\n",
       " ['Furnishings', 'Fasteners'],\n",
       " ['Labels', 'Storage', 'Bookcases'],\n",
       " ['Phones'],\n",
       " ['Fasteners'],\n",
       " ['Fasteners'],\n",
       " ['Labels'],\n",
       " ['Art', 'Bookcases'],\n",
       " ['Envelopes'],\n",
       " ['Furnishings', 'Art'],\n",
       " ['Tables'],\n",
       " ['Phones', 'Machines', 'Accessories'],\n",
       " ['Storage', 'Fasteners'],\n",
       " ['Binders'],\n",
       " ['Machines', 'Binders'],\n",
       " ['Binders', 'Paper'],\n",
       " ['Storage', 'Binders'],\n",
       " ['Supplies', 'Binders'],\n",
       " ['Storage'],\n",
       " ['Furnishings'],\n",
       " ['Paper'],\n",
       " ['Supplies'],\n",
       " ['Storage', 'Envelopes'],\n",
       " ['Storage'],\n",
       " ['Tables', 'Storage'],\n",
       " ['Chairs', 'Fasteners'],\n",
       " ['Storage'],\n",
       " ['Storage', 'Binders'],\n",
       " ['Labels', 'Binders'],\n",
       " ['Tables'],\n",
       " ['Furnishings'],\n",
       " ['Envelopes'],\n",
       " ['Machines', 'Art'],\n",
       " ['Phones', 'Envelopes', 'Binders'],\n",
       " ['Storage', 'Chairs'],\n",
       " ['Appliances'],\n",
       " ['Chairs'],\n",
       " ['Storage', 'Accessories'],\n",
       " ['Storage'],\n",
       " ['Furnishings'],\n",
       " ['Phones', 'Appliances', 'Bookcases'],\n",
       " ['Accessories', 'Binders'],\n",
       " ['Storage', 'Accessories', 'Envelopes', 'Labels', 'Art'],\n",
       " ['Labels'],\n",
       " ['Copiers'],\n",
       " ['Art'],\n",
       " ['Storage'],\n",
       " ['Art', 'Envelopes'],\n",
       " ['Art'],\n",
       " ['Furnishings', 'Storage', 'Envelopes'],\n",
       " ['Machines', 'Fasteners', 'Paper'],\n",
       " ['Binders'],\n",
       " ['Machines', 'Art'],\n",
       " ['Binders'],\n",
       " ['Supplies'],\n",
       " ['Phones'],\n",
       " ['Appliances', 'Art'],\n",
       " ['Accessories', 'Chairs'],\n",
       " ['Art'],\n",
       " ['Labels', 'Chairs', 'Binders'],\n",
       " ['Fasteners'],\n",
       " ['Machines', 'Fasteners', 'Chairs', 'Paper'],\n",
       " ['Chairs'],\n",
       " ['Machines', 'Fasteners'],\n",
       " ['Furnishings'],\n",
       " ['Storage'],\n",
       " ['Phones', 'Accessories', 'Appliances', 'Envelopes'],\n",
       " ['Phones', 'Envelopes'],\n",
       " ['Art'],\n",
       " ['Storage'],\n",
       " ['Storage', 'Paper', 'Copiers'],\n",
       " ['Storage', 'Art', 'Binders', 'Paper'],\n",
       " ['Binders'],\n",
       " ['Phones', 'Art'],\n",
       " ['Appliances'],\n",
       " ['Supplies'],\n",
       " ['Accessories', 'Copiers'],\n",
       " ['Fasteners'],\n",
       " ['Labels', 'Binders'],\n",
       " ['Envelopes'],\n",
       " ['Art'],\n",
       " ['Storage', 'Art'],\n",
       " ['Labels', 'Envelopes', 'Fasteners'],\n",
       " ['Binders'],\n",
       " ['Copiers', 'Accessories', 'Envelopes', 'Art', 'Tables'],\n",
       " ['Art'],\n",
       " ['Art'],\n",
       " ['Appliances'],\n",
       " ['Paper'],\n",
       " ['Labels', 'Copiers'],\n",
       " ['Art'],\n",
       " ['Storage'],\n",
       " ['Copiers'],\n",
       " ['Binders'],\n",
       " ['Art'],\n",
       " ['Binders'],\n",
       " ['Chairs', 'Binders'],\n",
       " ['Appliances', 'Art', 'Envelopes'],\n",
       " ['Supplies', 'Fasteners'],\n",
       " ['Supplies', 'Bookcases'],\n",
       " ['Storage'],\n",
       " ['Machines', 'Bookcases'],\n",
       " ['Appliances'],\n",
       " ['Chairs'],\n",
       " ['Phones', 'Art'],\n",
       " ['Binders'],\n",
       " ['Art'],\n",
       " ['Labels', 'Storage'],\n",
       " ['Machines'],\n",
       " ['Paper'],\n",
       " ['Phones'],\n",
       " ['Art', 'Paper'],\n",
       " ['Appliances', 'Supplies', 'Binders'],\n",
       " ['Binders'],\n",
       " ['Supplies', 'Art'],\n",
       " ['Envelopes'],\n",
       " ['Art'],\n",
       " ['Copiers'],\n",
       " ['Binders'],\n",
       " ['Labels', 'Storage', 'Supplies', 'Copiers'],\n",
       " ['Art', 'Binders'],\n",
       " ['Phones'],\n",
       " ['Binders', 'Copiers'],\n",
       " ['Art', 'Binders', 'Copiers'],\n",
       " ['Phones', 'Art', 'Binders'],\n",
       " ['Storage'],\n",
       " ['Art'],\n",
       " ['Binders'],\n",
       " ['Storage', 'Art'],\n",
       " ['Chairs'],\n",
       " ['Chairs', 'Phones', 'Appliances', 'Art', 'Binders', 'Paper', 'Fasteners'],\n",
       " ['Phones', 'Storage', 'Art'],\n",
       " ['Furnishings', 'Binders'],\n",
       " ['Envelopes'],\n",
       " ['Fasteners'],\n",
       " ['Art'],\n",
       " ['Storage', 'Envelopes'],\n",
       " ['Phones'],\n",
       " ['Phones'],\n",
       " ['Art', 'Envelopes', 'Copiers'],\n",
       " ['Furnishings', 'Fasteners'],\n",
       " ['Furnishings', 'Storage', 'Art'],\n",
       " ['Chairs', 'Envelopes'],\n",
       " ['Chairs'],\n",
       " ['Storage', 'Art', 'Binders'],\n",
       " ['Storage'],\n",
       " ['Storage', 'Bookcases'],\n",
       " ['Bookcases', 'Paper'],\n",
       " ['Supplies'],\n",
       " ['Binders'],\n",
       " ['Binders'],\n",
       " ['Phones', 'Art'],\n",
       " ['Chairs'],\n",
       " ['Storage', 'Copiers'],\n",
       " ['Paper'],\n",
       " ['Fasteners'],\n",
       " ['Furnishings', 'Storage', 'Labels'],\n",
       " ['Storage', 'Paper'],\n",
       " ['Storage', 'Binders'],\n",
       " ['Paper'],\n",
       " ['Envelopes', 'Fasteners'],\n",
       " ['Phones', 'Labels', 'Art'],\n",
       " ['Machines'],\n",
       " ['Supplies', 'Envelopes', 'Bookcases'],\n",
       " ['Storage', 'Binders'],\n",
       " ['Storage', 'Bookcases', 'Phones', 'Labels', 'Binders'],\n",
       " ['Binders'],\n",
       " ['Storage'],\n",
       " ['Storage', 'Supplies'],\n",
       " ['Phones', 'Machines'],\n",
       " ['Machines', 'Art', 'Copiers'],\n",
       " ['Tables'],\n",
       " ['Paper'],\n",
       " ['Bookcases'],\n",
       " ['Appliances'],\n",
       " ['Storage', 'Accessories'],\n",
       " ['Furnishings'],\n",
       " ['Chairs'],\n",
       " ['Furnishings'],\n",
       " ['Furnishings'],\n",
       " ['Appliances', 'Binders'],\n",
       " ['Furnishings', 'Fasteners'],\n",
       " ['Binders'],\n",
       " ['Binders'],\n",
       " ['Furnishings'],\n",
       " ['Phones', 'Chairs'],\n",
       " ['Phones', 'Furnishings'],\n",
       " ['Storage'],\n",
       " ['Storage', 'Chairs', 'Art'],\n",
       " ['Labels', 'Binders'],\n",
       " ['Accessories', 'Art', 'Binders', 'Paper', 'Supplies'],\n",
       " ['Art'],\n",
       " ['Binders'],\n",
       " ['Tables', 'Binders'],\n",
       " ['Paper'],\n",
       " ['Bookcases', 'Art'],\n",
       " ['Binders'],\n",
       " ['Storage'],\n",
       " ['Accessories'],\n",
       " ['Chairs', 'Binders'],\n",
       " ['Binders', 'Paper'],\n",
       " ['Labels'],\n",
       " ['Phones', 'Paper'],\n",
       " ['Machines'],\n",
       " ['Binders', 'Fasteners'],\n",
       " ['Chairs', 'Paper'],\n",
       " ['Labels', 'Accessories'],\n",
       " ['Labels'],\n",
       " ['Chairs'],\n",
       " ['Phones', 'Fasteners'],\n",
       " ['Furnishings', 'Phones'],\n",
       " ['Furnishings'],\n",
       " ['Envelopes'],\n",
       " ['Phones'],\n",
       " ['Phones', 'Envelopes'],\n",
       " ['Labels', 'Phones'],\n",
       " ['Labels', 'Furnishings'],\n",
       " ['Tables'],\n",
       " ['Storage', 'Appliances', 'Paper'],\n",
       " ['Furnishings'],\n",
       " ['Machines', 'Furnishings', 'Phones', 'Labels', 'Binders', 'Paper'],\n",
       " ['Art'],\n",
       " ['Storage', 'Envelopes'],\n",
       " ['Appliances', 'Binders'],\n",
       " ['Binders'],\n",
       " ['Chairs', 'Furnishings', 'Art', 'Binders', 'Paper', 'Tables'],\n",
       " ['Phones', 'Binders'],\n",
       " ['Furnishings', 'Phones', 'Supplies', 'Paper'],\n",
       " ['Machines', 'Storage', 'Furnishings', 'Paper', 'Fasteners'],\n",
       " ['Fasteners'],\n",
       " ['Chairs', 'Art'],\n",
       " ['Tables', 'Chairs'],\n",
       " ['Appliances'],\n",
       " ['Furnishings'],\n",
       " ['Art'],\n",
       " ['Furnishings', 'Chairs', 'Art', 'Binders'],\n",
       " ['Appliances'],\n",
       " ['Phones', 'Storage', 'Chairs'],\n",
       " ['Furnishings', 'Storage', 'Binders', 'Paper'],\n",
       " ['Envelopes'],\n",
       " ['Fasteners'],\n",
       " ['Storage'],\n",
       " ['Labels'],\n",
       " ['Binders'],\n",
       " ['Fasteners'],\n",
       " ['Storage', 'Binders'],\n",
       " ['Paper'],\n",
       " ['Furnishings', 'Paper'],\n",
       " ['Art'],\n",
       " ['Art', 'Paper'],\n",
       " ['Chairs'],\n",
       " ['Storage'],\n",
       " ['Chairs'],\n",
       " ['Chairs'],\n",
       " ['Accessories'],\n",
       " ['Storage', 'Bookcases', 'Art'],\n",
       " ['Paper'],\n",
       " ['Appliances'],\n",
       " ['Art'],\n",
       " ['Labels', 'Furnishings', 'Appliances', 'Paper'],\n",
       " ['Art'],\n",
       " ['Binders'],\n",
       " ['Art'],\n",
       " ['Labels'],\n",
       " ['Phones', 'Storage'],\n",
       " ['Furnishings'],\n",
       " ['Chairs', 'Paper'],\n",
       " ['Paper'],\n",
       " ['Fasteners'],\n",
       " ['Labels'],\n",
       " ['Furnishings', 'Phones', 'Appliances', 'Art', 'Binders', 'Tables'],\n",
       " ['Fasteners', 'Supplies', 'Paper'],\n",
       " ['Machines', 'Storage', 'Chairs', 'Phones', 'Appliances', 'Art'],\n",
       " ['Paper'],\n",
       " ['Appliances', 'Paper'],\n",
       " ['Art'],\n",
       " ['Accessories'],\n",
       " ['Chairs'],\n",
       " ['Fasteners'],\n",
       " ['Accessories', 'Appliances', 'Paper'],\n",
       " ['Appliances', 'Art', 'Binders', 'Paper'],\n",
       " ['Furnishings', 'Storage', 'Binders'],\n",
       " ['Paper'],\n",
       " ['Paper', 'Fasteners'],\n",
       " ['Labels', 'Phones', 'Fasteners'],\n",
       " ['Furnishings'],\n",
       " ['Chairs'],\n",
       " ['Chairs'],\n",
       " ['Bookcases'],\n",
       " ['Binders'],\n",
       " ['Phones', 'Art'],\n",
       " ['Accessories'],\n",
       " ['Phones'],\n",
       " ['Tables', 'Appliances'],\n",
       " ['Furnishings', 'Appliances', 'Chairs'],\n",
       " ['Phones'],\n",
       " ['Furnishings', 'Appliances', 'Bookcases'],\n",
       " ['Binders'],\n",
       " ['Art'],\n",
       " ['Storage'],\n",
       " ['Machines'],\n",
       " ['Paper'],\n",
       " ['Art'],\n",
       " ['Phones', 'Furnishings'],\n",
       " ['Bookcases', 'Binders'],\n",
       " ['Accessories', 'Art'],\n",
       " ['Chairs', 'Binders', 'Paper'],\n",
       " ['Furnishings', 'Appliances'],\n",
       " ['Art'],\n",
       " ['Envelopes'],\n",
       " ['Furnishings', 'Phones', 'Accessories', 'Chairs'],\n",
       " ['Furnishings', 'Binders', 'Paper'],\n",
       " ['Paper'],\n",
       " ['Chairs'],\n",
       " ['Paper'],\n",
       " ['Phones', 'Tables', 'Furnishings'],\n",
       " ['Storage', 'Chairs', 'Art', 'Paper'],\n",
       " ['Labels', 'Fasteners'],\n",
       " ['Machines', 'Binders'],\n",
       " ['Paper'],\n",
       " ['Fasteners'],\n",
       " ['Storage', 'Binders', 'Fasteners'],\n",
       " ['Furnishings', 'Fasteners'],\n",
       " ['Art', 'Binders', 'Fasteners'],\n",
       " ['Furnishings', 'Envelopes', 'Fasteners'],\n",
       " ['Furnishings', 'Binders'],\n",
       " ['Furnishings', 'Supplies'],\n",
       " ['Accessories'],\n",
       " ['Paper'],\n",
       " ['Storage'],\n",
       " ['Chairs', 'Binders'],\n",
       " ['Art'],\n",
       " ['Chairs', 'Envelopes'],\n",
       " ['Paper'],\n",
       " ['Fasteners'],\n",
       " ['Art', 'Fasteners'],\n",
       " ['Storage', 'Chairs', 'Art'],\n",
       " ['Furnishings', 'Appliances', 'Binders'],\n",
       " ['Phones', 'Binders'],\n",
       " ['Phones'],\n",
       " ['Art', 'Binders'],\n",
       " ['Chairs'],\n",
       " ['Binders'],\n",
       " ['Copiers'],\n",
       " ['Chairs', 'Paper'],\n",
       " ['Binders'],\n",
       " ['Storage', 'Accessories', 'Envelopes', 'Fasteners'],\n",
       " ['Furnishings', 'Art', 'Binders', 'Paper'],\n",
       " ['Appliances', 'Binders', 'Paper'],\n",
       " ['Storage'],\n",
       " ['Labels'],\n",
       " ['Binders'],\n",
       " ['Tables', 'Chairs', 'Art', 'Binders'],\n",
       " ['Furnishings', 'Accessories', 'Chairs', 'Paper'],\n",
       " ['Accessories'],\n",
       " ['Phones', 'Accessories', 'Art'],\n",
       " ['Labels'],\n",
       " ['Furnishings', 'Fasteners'],\n",
       " ['Accessories', 'Appliances', 'Paper'],\n",
       " ['Paper'],\n",
       " ['Chairs'],\n",
       " ['Phones', 'Art'],\n",
       " ['Binders', 'Paper'],\n",
       " ['Paper'],\n",
       " ['Storage'],\n",
       " ['Art'],\n",
       " ['Labels', 'Furnishings'],\n",
       " ['Binders'],\n",
       " ['Machines'],\n",
       " ['Art'],\n",
       " ['Storage', 'Accessories'],\n",
       " ['Storage'],\n",
       " ['Art'],\n",
       " ['Furnishings'],\n",
       " ['Labels', 'Binders'],\n",
       " ['Appliances'],\n",
       " ['Phones', 'Storage', 'Art', 'Paper'],\n",
       " ['Accessories', 'Labels', 'Appliances', 'Art', 'Paper', 'Supplies'],\n",
       " ['Labels', 'Bookcases', 'Fasteners'],\n",
       " ['Furnishings'],\n",
       " ['Fasteners', 'Accessories', 'Binders', 'Paper'],\n",
       " ['Phones', 'Art', 'Binders'],\n",
       " ['Storage'],\n",
       " ['Storage', 'Accessories'],\n",
       " ['Art', 'Paper'],\n",
       " ['Phones'],\n",
       " ['Binders'],\n",
       " ['Art'],\n",
       " ['Furnishings'],\n",
       " ['Furnishings', 'Phones', 'Binders', 'Labels'],\n",
       " ['Binders'],\n",
       " ['Fasteners'],\n",
       " ['Appliances'],\n",
       " ['Storage'],\n",
       " ['Machines', 'Phones', 'Appliances', 'Paper', 'Tables', 'Fasteners'],\n",
       " ['Binders'],\n",
       " ['Art'],\n",
       " ['Furnishings', 'Binders'],\n",
       " ['Furnishings', 'Accessories', 'Bookcases'],\n",
       " ['Paper'],\n",
       " ['Storage', 'Art'],\n",
       " ['Accessories', 'Art', 'Envelopes'],\n",
       " ['Paper'],\n",
       " ['Furnishings', 'Accessories'],\n",
       " ['Accessories', 'Bookcases', 'Binders'],\n",
       " ['Binders'],\n",
       " ['Storage', 'Appliances', 'Fasteners'],\n",
       " ['Binders'],\n",
       " ['Art'],\n",
       " ['Phones'],\n",
       " ['Paper', 'Bookcases', 'Binders', 'Art'],\n",
       " ['Accessories'],\n",
       " ['Storage'],\n",
       " ['Appliances'],\n",
       " ['Art'],\n",
       " ['Furnishings', 'Binders'],\n",
       " ['Storage', 'Chairs', 'Appliances', 'Paper'],\n",
       " ['Supplies'],\n",
       " ['Furnishings', 'Storage'],\n",
       " ['Labels', 'Storage'],\n",
       " ['Binders'],\n",
       " ['Paper'],\n",
       " ['Furnishings', 'Accessories'],\n",
       " ['Furnishings', 'Binders'],\n",
       " ['Phones', 'Binders', 'Paper'],\n",
       " ['Tables', 'Binders'],\n",
       " ['Chairs'],\n",
       " ['Paper'],\n",
       " ['Chairs'],\n",
       " ['Phones', 'Binders'],\n",
       " ['Storage', 'Binders'],\n",
       " ['Furnishings'],\n",
       " ['Accessories', 'Paper'],\n",
       " ['Art', 'Appliances', 'Supplies', 'Copiers'],\n",
       " ['Binders'],\n",
       " ['Labels'],\n",
       " ['Labels'],\n",
       " ['Art'],\n",
       " ['Storage', 'Envelopes', 'Paper'],\n",
       " ['Phones', 'Art'],\n",
       " ['Accessories'],\n",
       " ['Paper'],\n",
       " ['Chairs'],\n",
       " ['Binders', 'Fasteners'],\n",
       " ['Paper'],\n",
       " ['Phones'],\n",
       " ['Phones'],\n",
       " ['Accessories', 'Binders'],\n",
       " ['Binders'],\n",
       " ['Furnishings', 'Art', 'Copiers'],\n",
       " ['Furnishings', 'Paper'],\n",
       " ['Tables'],\n",
       " ['Bookcases'],\n",
       " ['Accessories', 'Paper'],\n",
       " ['Accessories', 'Art'],\n",
       " ['Binders'],\n",
       " ['Binders'],\n",
       " ['Copiers'],\n",
       " ['Labels', 'Paper'],\n",
       " ['Accessories', 'Envelopes', 'Phones', 'Paper', 'Supplies', 'Fasteners'],\n",
       " ['Fasteners'],\n",
       " ['Appliances', 'Binders', 'Paper'],\n",
       " ['Paper'],\n",
       " ['Accessories', 'Art', 'Binders'],\n",
       " ['Storage', 'Tables', 'Art'],\n",
       " ['Tables', 'Storage'],\n",
       " ['Phones', 'Accessories', 'Appliances', 'Paper'],\n",
       " ['Fasteners'],\n",
       " ['Accessories'],\n",
       " ['Tables'],\n",
       " ['Art'],\n",
       " ['Envelopes', 'Copiers'],\n",
       " ['Paper'],\n",
       " ['Paper'],\n",
       " ['Storage', 'Chairs', 'Labels', 'Furnishings', 'Binders'],\n",
       " ['Bookcases'],\n",
       " ['Accessories'],\n",
       " ['Labels', 'Storage'],\n",
       " ['Binders', 'Fasteners'],\n",
       " ['Storage', 'Accessories', 'Chairs', 'Art', 'Binders', 'Paper', 'Fasteners'],\n",
       " ['Labels', 'Storage', 'Binders'],\n",
       " ['Paper'],\n",
       " ['Furnishings', 'Binders', 'Fasteners'],\n",
       " ['Phones', 'Art'],\n",
       " ['Chairs'],\n",
       " ['Phones'],\n",
       " ['Paper'],\n",
       " ['Phones', 'Chairs', 'Supplies', 'Paper'],\n",
       " ['Furnishings', 'Art', 'Fasteners'],\n",
       " ['Phones', 'Supplies', 'Art', 'Paper'],\n",
       " ['Binders'],\n",
       " ['Paper'],\n",
       " ['Tables', 'Supplies', 'Binders'],\n",
       " ['Bookcases', 'Binders'],\n",
       " ['Storage', 'Tables'],\n",
       " ['Accessories'],\n",
       " ['Tables'],\n",
       " ['Accessories'],\n",
       " ['Storage'],\n",
       " ['Labels', 'Fasteners'],\n",
       " ['Binders'],\n",
       " ['Storage', 'Chairs'],\n",
       " ['Binders', 'Paper'],\n",
       " ['Chairs'],\n",
       " ['Envelopes', 'Phones', 'Art', 'Paper', 'Fasteners'],\n",
       " ['Chairs', 'Binders'],\n",
       " ['Paper'],\n",
       " ['Appliances', 'Copiers'],\n",
       " ['Paper'],\n",
       " ['Labels'],\n",
       " ['Furnishings'],\n",
       " ['Appliances', 'Envelopes', 'Chairs', 'Binders'],\n",
       " ['Binders'],\n",
       " ['Furnishings'],\n",
       " ['Storage', 'Binders', 'Paper'],\n",
       " ['Binders', 'Paper'],\n",
       " ['Binders'],\n",
       " ['Paper'],\n",
       " ['Chairs', 'Supplies', 'Binders'],\n",
       " ['Machines', 'Accessories', 'Art', 'Paper'],\n",
       " ['Tables', 'Paper'],\n",
       " ['Appliances'],\n",
       " ['Binders'],\n",
       " ['Furnishings', 'Binders'],\n",
       " ['Labels'],\n",
       " ['Storage'],\n",
       " ['Accessories'],\n",
       " ['Phones', 'Art', 'Binders', 'Fasteners'],\n",
       " ['Storage', 'Accessories', 'Art', 'Paper'],\n",
       " ['Labels'],\n",
       " ['Storage'],\n",
       " ['Accessories', 'Binders', 'Fasteners'],\n",
       " ['Storage'],\n",
       " ['Phones', 'Storage', 'Bookcases'],\n",
       " ['Binders'],\n",
       " ['Accessories'],\n",
       " ['Appliances', 'Art', 'Paper'],\n",
       " ['Storage', 'Accessories', 'Binders', 'Fasteners'],\n",
       " ['Paper'],\n",
       " ['Paper'],\n",
       " ['Accessories'],\n",
       " ['Binders'],\n",
       " ['Phones'],\n",
       " ['Storage'],\n",
       " ['Storage'],\n",
       " ['Paper'],\n",
       " ['Binders'],\n",
       " ['Accessories'],\n",
       " ['Phones'],\n",
       " ['Phones'],\n",
       " ['Binders'],\n",
       " ['Art'],\n",
       " ['Chairs', 'Paper'],\n",
       " ['Fasteners'],\n",
       " ['Paper'],\n",
       " ['Storage', 'Bookcases', 'Furnishings', 'Binders', 'Tables'],\n",
       " ['Furnishings', 'Paper', 'Chairs', 'Copiers'],\n",
       " ['Accessories'],\n",
       " ['Storage'],\n",
       " ['Binders'],\n",
       " ['Binders', 'Paper'],\n",
       " ['Binders'],\n",
       " ['Envelopes'],\n",
       " ['Machines', 'Art', 'Fasteners'],\n",
       " ['Storage', 'Machines'],\n",
       " ['Furnishings', 'Storage', 'Accessories', 'Paper'],\n",
       " ['Accessories', 'Paper'],\n",
       " ['Paper', 'Fasteners'],\n",
       " ['Phones'],\n",
       " ['Storage', 'Art'],\n",
       " ['Furnishings', 'Appliances'],\n",
       " ['Art'],\n",
       " ['Accessories'],\n",
       " ['Storage', 'Art'],\n",
       " ['Furnishings'],\n",
       " ['Binders'],\n",
       " ['Furnishings'],\n",
       " ['Furnishings', 'Binders'],\n",
       " ['Supplies'],\n",
       " ['Phones', 'Storage', 'Bookcases', 'Paper'],\n",
       " ['Binders'],\n",
       " ['Tables'],\n",
       " ['Labels'],\n",
       " ['Art'],\n",
       " ['Phones'],\n",
       " ['Paper'],\n",
       " ['Binders'],\n",
       " ['Furnishings', 'Paper'],\n",
       " ['Storage', 'Accessories', 'Paper'],\n",
       " ['Paper'],\n",
       " ['Chairs', 'Fasteners'],\n",
       " ['Art'],\n",
       " ['Accessories'],\n",
       " ['Binders'],\n",
       " ['Phones', 'Art', 'Binders', 'Paper'],\n",
       " ['Paper'],\n",
       " ['Paper'],\n",
       " ['Accessories', 'Fasteners'],\n",
       " ['Appliances', 'Paper'],\n",
       " ['Chairs', 'Paper'],\n",
       " ['Storage', 'Binders'],\n",
       " ['Storage'],\n",
       " ['Phones', 'Envelopes', 'Paper', 'Binders'],\n",
       " ['Phones'],\n",
       " ['Paper', 'Chairs', 'Binders', 'Fasteners'],\n",
       " ['Binders'],\n",
       " ['Accessories'],\n",
       " ['Labels', 'Phones', 'Art', 'Fasteners'],\n",
       " ['Phones', 'Labels', 'Art', 'Binders', 'Paper'],\n",
       " ['Art'],\n",
       " ['Furnishings', 'Chairs', 'Binders', 'Fasteners'],\n",
       " ['Storage', 'Supplies', 'Fasteners'],\n",
       " ['Storage'],\n",
       " ['Furnishings', 'Storage', 'Chairs'],\n",
       " ['Accessories', 'Chairs', 'Bookcases', 'Paper'],\n",
       " ['Art'],\n",
       " ['Art'],\n",
       " ['Accessories', 'Chairs', 'Art', 'Envelopes'],\n",
       " ['Phones', 'Furnishings', 'Chairs', 'Accessories'],\n",
       " ['Accessories'],\n",
       " ['Phones', 'Bookcases', 'Binders'],\n",
       " ['Binders'],\n",
       " ['Paper', 'Fasteners'],\n",
       " ['Phones'],\n",
       " ['Chairs', 'Paper'],\n",
       " ['Copiers'],\n",
       " ['Tables'],\n",
       " ['Appliances'],\n",
       " ['Storage', 'Chairs'],\n",
       " ['Chairs', 'Phones', 'Labels', 'Furnishings', 'Fasteners'],\n",
       " ['Phones'],\n",
       " ['Phones', 'Accessories'],\n",
       " ['Furnishings', 'Accessories'],\n",
       " ['Bookcases'],\n",
       " ['Phones', 'Binders'],\n",
       " ['Furnishings', 'Phones', 'Accessories', 'Paper'],\n",
       " ['Machines', 'Storage', 'Copiers'],\n",
       " ['Furnishings', 'Storage', 'Paper', 'Labels'],\n",
       " ['Furnishings', 'Accessories'],\n",
       " ['Furnishings', 'Accessories', 'Appliances', 'Binders'],\n",
       " ['Furnishings'],\n",
       " ['Paper'],\n",
       " ['Binders'],\n",
       " ['Accessories', 'Binders'],\n",
       " ['Binders'],\n",
       " ['Binders'],\n",
       " ['Furnishings', 'Storage'],\n",
       " ['Furnishings'],\n",
       " ['Accessories', 'Binders'],\n",
       " ['Storage', 'Tables', 'Accessories'],\n",
       " ['Furnishings'],\n",
       " ['Phones', 'Furnishings', 'Appliances', 'Copiers'],\n",
       " ['Supplies', 'Binders', 'Paper'],\n",
       " ['Storage', 'Accessories', 'Labels', 'Binders', 'Paper'],\n",
       " ['Chairs'],\n",
       " ['Appliances', 'Binders', 'Paper'],\n",
       " ['Paper'],\n",
       " ['Phones', 'Labels', 'Binders'],\n",
       " ['Furnishings'],\n",
       " ['Art'],\n",
       " ['Phones', 'Appliances', 'Binders', 'Paper'],\n",
       " ['Phones', 'Binders'],\n",
       " ['Paper', 'Appliances', 'Fasteners'],\n",
       " ['Furnishings'],\n",
       " ['Chairs'],\n",
       " ['Copiers', 'Envelopes', 'Furnishings', 'Phones', 'Appliances'],\n",
       " ['Fasteners', 'Paper'],\n",
       " ['Phones', 'Appliances', 'Paper'],\n",
       " ['Binders', 'Fasteners'],\n",
       " ['Storage', 'Accessories', 'Envelopes', 'Binders'],\n",
       " ['Furnishings', 'Accessories'],\n",
       " ['Art'],\n",
       " ['Storage', 'Chairs', 'Art'],\n",
       " ['Copiers'],\n",
       " ['Fasteners'],\n",
       " ['Furnishings', 'Storage', 'Accessories', 'Paper'],\n",
       " ['Accessories', 'Labels', 'Furnishings', 'Paper', 'Tables'],\n",
       " ['Storage', 'Accessories', 'Phones', 'Labels', 'Furnishings', 'Binders'],\n",
       " ['Paper'],\n",
       " ['Labels', 'Accessories', 'Paper'],\n",
       " ['Art', 'Binders'],\n",
       " ['Phones'],\n",
       " ['Phones', 'Chairs'],\n",
       " ['Storage'],\n",
       " ['Furnishings', 'Storage', 'Accessories', 'Binders'],\n",
       " ['Storage', 'Supplies'],\n",
       " ['Chairs', 'Phones', 'Art', 'Binders', 'Paper', 'Fasteners'],\n",
       " ['Accessories', 'Paper'],\n",
       " ['Tables', 'Chairs', 'Art'],\n",
       " ['Paper'],\n",
       " ['Furnishings'],\n",
       " ['Phones'],\n",
       " ['Furnishings'],\n",
       " ['Storage', 'Appliances', 'Paper'],\n",
       " ['Binders', 'Fasteners'],\n",
       " ['Furnishings'],\n",
       " ['Tables'],\n",
       " ['Labels', 'Art'],\n",
       " ['Binders'],\n",
       " ['Binders', 'Paper'],\n",
       " ['Furnishings'],\n",
       " ['Tables', 'Storage'],\n",
       " ['Furnishings'],\n",
       " ['Furnishings', 'Tables'],\n",
       " ['Chairs'],\n",
       " ['Labels', 'Storage', 'Accessories', 'Binders'],\n",
       " ['Chairs'],\n",
       " ['Fasteners'],\n",
       " ['Accessories', 'Appliances', 'Supplies'],\n",
       " ['Phones', 'Bookcases'],\n",
       " ['Accessories', 'Appliances', 'Paper'],\n",
       " ['Chairs', 'Binders'],\n",
       " ['Phones', 'Binders'],\n",
       " ['Binders'],\n",
       " ['Binders'],\n",
       " ['Binders', 'Paper'],\n",
       " ['Paper'],\n",
       " ['Accessories'],\n",
       " ['Phones', 'Storage', 'Accessories'],\n",
       " ['Storage', 'Chairs', 'Art'],\n",
       " ['Machines'],\n",
       " ['Appliances', 'Binders'],\n",
       " ['Phones', 'Paper'],\n",
       " ['Binders'],\n",
       " ['Phones', 'Chairs', 'Envelopes'],\n",
       " ['Fasteners'],\n",
       " ['Chairs'],\n",
       " ['Storage', 'Bookcases'],\n",
       " ['Furnishings'],\n",
       " ['Labels'],\n",
       " ['Labels'],\n",
       " ['Storage', 'Appliances', 'Binders'],\n",
       " ['Furnishings'],\n",
       " ['Phones', 'Binders'],\n",
       " ['Furnishings'],\n",
       " ['Furnishings', 'Art'],\n",
       " ['Binders', 'Paper'],\n",
       " ['Supplies'],\n",
       " ['Fasteners'],\n",
       " ['Accessories', 'Art'],\n",
       " ['Fasteners', 'Paper'],\n",
       " ['Furnishings', 'Paper'],\n",
       " ['Storage', 'Paper'],\n",
       " ['Phones'],\n",
       " ['Bookcases', 'Chairs', 'Phones', 'Labels', 'Appliances'],\n",
       " ['Phones', 'Storage'],\n",
       " ['Phones', 'Binders'],\n",
       " ['Labels', 'Storage', 'Art', 'Binders'],\n",
       " ['Phones', 'Chairs'],\n",
       " ['Accessories', 'Appliances', 'Binders'],\n",
       " ['Appliances'],\n",
       " ['Furnishings'],\n",
       " ['Storage', 'Envelopes'],\n",
       " ['Art'],\n",
       " ['Art', 'Fasteners'],\n",
       " ['Binders'],\n",
       " ['Binders'],\n",
       " ['Phones', 'Accessories', 'Supplies'],\n",
       " ['Chairs', 'Binders', 'Paper'],\n",
       " ['Accessories', 'Paper'],\n",
       " ['Binders'],\n",
       " ['Chairs'],\n",
       " ['Phones', 'Storage'],\n",
       " ['Labels', 'Phones'],\n",
       " ['Tables'],\n",
       " ['Tables', 'Accessories', 'Binders'],\n",
       " ['Paper'],\n",
       " ['Furnishings'],\n",
       " ['Labels', 'Art', 'Paper'],\n",
       " ['Art'],\n",
       " ['Phones'],\n",
       " ['Accessories', 'Paper'],\n",
       " ['Furnishings'],\n",
       " ['Tables', 'Accessories'],\n",
       " ['Paper'],\n",
       " ['Machines', 'Storage', 'Accessories', 'Chairs', 'Phones'],\n",
       " ['Accessories'],\n",
       " ['Storage', 'Tables', 'Chairs', 'Art'],\n",
       " ['Storage'],\n",
       " ['Tables', 'Bookcases'],\n",
       " ['Storage', 'Binders', 'Paper'],\n",
       " ['Tables'],\n",
       " ['Envelopes'],\n",
       " ['Tables'],\n",
       " ['Machines',\n",
       "  'Accessories',\n",
       "  'Furnishings',\n",
       "  'Appliances',\n",
       "  'Binders',\n",
       "  'Fasteners'],\n",
       " ['Phones', 'Storage', 'Paper'],\n",
       " ['Storage'],\n",
       " ['Appliances', 'Fasteners'],\n",
       " ['Furnishings', 'Labels', 'Chairs', 'Paper'],\n",
       " ['Binders'],\n",
       " ['Envelopes'],\n",
       " ['Accessories', 'Supplies'],\n",
       " ['Fasteners'],\n",
       " ['Envelopes'],\n",
       " ['Machines'],\n",
       " ['Bookcases'],\n",
       " ['Art', 'Paper'],\n",
       " ['Phones'],\n",
       " ['Phones', 'Furnishings', 'Accessories'],\n",
       " ['Phones', 'Accessories'],\n",
       " ['Furnishings'],\n",
       " ['Labels'],\n",
       " ['Storage'],\n",
       " ['Labels', 'Fasteners'],\n",
       " ['Binders'],\n",
       " ['Phones'],\n",
       " ['Paper'],\n",
       " ['Phones', 'Storage'],\n",
       " ['Storage'],\n",
       " ['Labels', 'Storage', 'Binders'],\n",
       " ['Fasteners'],\n",
       " ['Chairs', 'Art'],\n",
       " ['Furnishings', 'Tables'],\n",
       " ['Furnishings'],\n",
       " ['Paper'],\n",
       " ['Storage', 'Tables', 'Binders'],\n",
       " ['Paper', 'Chairs', 'Art', 'Fasteners'],\n",
       " ['Chairs'],\n",
       " ['Tables', 'Paper'],\n",
       " ['Paper'],\n",
       " ['Supplies'],\n",
       " ['Appliances', 'Envelopes', 'Fasteners', 'Binders'],\n",
       " ['Art'],\n",
       " ['Paper'],\n",
       " ['Phones', 'Art'],\n",
       " ['Tables', 'Envelopes', 'Binders'],\n",
       " ['Labels'],\n",
       " ['Chairs', 'Paper'],\n",
       " ['Accessories'],\n",
       " ['Machines', 'Paper'],\n",
       " ['Tables', 'Chairs', 'Binders', 'Storage'],\n",
       " ['Binders'],\n",
       " ['Binders'],\n",
       " ['Paper'],\n",
       " ['Envelopes'],\n",
       " ['Storage'],\n",
       " ['Paper', 'Envelopes', 'Fasteners'],\n",
       " ...]"
      ]
     },
     "execution_count": 3,
     "metadata": {},
     "output_type": "execute_result"
    }
   ],
   "source": [
    "# Group by theo Order_id\n",
    "df_test = data.groupby(['Order ID'])\n",
    "\n",
    "dataset = []\n",
    "for k, d in df_test:\n",
    "    tmp = list(set(d['Sub-Category']))\n",
    "    # print(tmp)\n",
    "    dataset.append(tmp)\n",
    "\n",
    "# In ra tập các itemsets được mua trong các đơn hàng khác nhau\n",
    "dataset"
   ]
  },
  {
   "attachments": {},
   "cell_type": "markdown",
   "metadata": {},
   "source": [
    "<font size=\"5\"> 🛒 <strong>Bước 2:</strong> Áp dụng thuật toán **Apriori** khai thác tập phổ biến. </font>"
   ]
  },
  {
   "cell_type": "code",
   "execution_count": 4,
   "metadata": {},
   "outputs": [
    {
     "data": {
      "text/html": [
       "<div>\n",
       "<style scoped>\n",
       "    .dataframe tbody tr th:only-of-type {\n",
       "        vertical-align: middle;\n",
       "    }\n",
       "\n",
       "    .dataframe tbody tr th {\n",
       "        vertical-align: top;\n",
       "    }\n",
       "\n",
       "    .dataframe thead th {\n",
       "        text-align: right;\n",
       "    }\n",
       "</style>\n",
       "<table border=\"1\" class=\"dataframe\">\n",
       "  <thead>\n",
       "    <tr style=\"text-align: right;\">\n",
       "      <th></th>\n",
       "      <th>Accessories</th>\n",
       "      <th>Appliances</th>\n",
       "      <th>Art</th>\n",
       "      <th>Binders</th>\n",
       "      <th>Bookcases</th>\n",
       "      <th>Chairs</th>\n",
       "      <th>Copiers</th>\n",
       "      <th>Envelopes</th>\n",
       "      <th>Fasteners</th>\n",
       "      <th>Furnishings</th>\n",
       "      <th>Labels</th>\n",
       "      <th>Machines</th>\n",
       "      <th>Paper</th>\n",
       "      <th>Phones</th>\n",
       "      <th>Storage</th>\n",
       "      <th>Supplies</th>\n",
       "      <th>Tables</th>\n",
       "    </tr>\n",
       "  </thead>\n",
       "  <tbody>\n",
       "    <tr>\n",
       "      <th>0</th>\n",
       "      <td>False</td>\n",
       "      <td>False</td>\n",
       "      <td>False</td>\n",
       "      <td>False</td>\n",
       "      <td>False</td>\n",
       "      <td>False</td>\n",
       "      <td>False</td>\n",
       "      <td>False</td>\n",
       "      <td>False</td>\n",
       "      <td>False</td>\n",
       "      <td>False</td>\n",
       "      <td>True</td>\n",
       "      <td>False</td>\n",
       "      <td>False</td>\n",
       "      <td>True</td>\n",
       "      <td>False</td>\n",
       "      <td>False</td>\n",
       "    </tr>\n",
       "    <tr>\n",
       "      <th>1</th>\n",
       "      <td>False</td>\n",
       "      <td>False</td>\n",
       "      <td>False</td>\n",
       "      <td>False</td>\n",
       "      <td>True</td>\n",
       "      <td>False</td>\n",
       "      <td>False</td>\n",
       "      <td>False</td>\n",
       "      <td>True</td>\n",
       "      <td>False</td>\n",
       "      <td>False</td>\n",
       "      <td>False</td>\n",
       "      <td>False</td>\n",
       "      <td>False</td>\n",
       "      <td>False</td>\n",
       "      <td>False</td>\n",
       "      <td>False</td>\n",
       "    </tr>\n",
       "    <tr>\n",
       "      <th>2</th>\n",
       "      <td>False</td>\n",
       "      <td>False</td>\n",
       "      <td>False</td>\n",
       "      <td>False</td>\n",
       "      <td>False</td>\n",
       "      <td>False</td>\n",
       "      <td>False</td>\n",
       "      <td>False</td>\n",
       "      <td>False</td>\n",
       "      <td>False</td>\n",
       "      <td>False</td>\n",
       "      <td>False</td>\n",
       "      <td>False</td>\n",
       "      <td>False</td>\n",
       "      <td>True</td>\n",
       "      <td>True</td>\n",
       "      <td>False</td>\n",
       "    </tr>\n",
       "    <tr>\n",
       "      <th>3</th>\n",
       "      <td>False</td>\n",
       "      <td>False</td>\n",
       "      <td>True</td>\n",
       "      <td>True</td>\n",
       "      <td>False</td>\n",
       "      <td>False</td>\n",
       "      <td>False</td>\n",
       "      <td>False</td>\n",
       "      <td>False</td>\n",
       "      <td>False</td>\n",
       "      <td>False</td>\n",
       "      <td>False</td>\n",
       "      <td>False</td>\n",
       "      <td>True</td>\n",
       "      <td>True</td>\n",
       "      <td>False</td>\n",
       "      <td>False</td>\n",
       "    </tr>\n",
       "    <tr>\n",
       "      <th>4</th>\n",
       "      <td>False</td>\n",
       "      <td>False</td>\n",
       "      <td>False</td>\n",
       "      <td>False</td>\n",
       "      <td>False</td>\n",
       "      <td>False</td>\n",
       "      <td>False</td>\n",
       "      <td>False</td>\n",
       "      <td>False</td>\n",
       "      <td>False</td>\n",
       "      <td>True</td>\n",
       "      <td>False</td>\n",
       "      <td>False</td>\n",
       "      <td>False</td>\n",
       "      <td>False</td>\n",
       "      <td>False</td>\n",
       "      <td>False</td>\n",
       "    </tr>\n",
       "    <tr>\n",
       "      <th>...</th>\n",
       "      <td>...</td>\n",
       "      <td>...</td>\n",
       "      <td>...</td>\n",
       "      <td>...</td>\n",
       "      <td>...</td>\n",
       "      <td>...</td>\n",
       "      <td>...</td>\n",
       "      <td>...</td>\n",
       "      <td>...</td>\n",
       "      <td>...</td>\n",
       "      <td>...</td>\n",
       "      <td>...</td>\n",
       "      <td>...</td>\n",
       "      <td>...</td>\n",
       "      <td>...</td>\n",
       "      <td>...</td>\n",
       "      <td>...</td>\n",
       "    </tr>\n",
       "    <tr>\n",
       "      <th>25723</th>\n",
       "      <td>False</td>\n",
       "      <td>False</td>\n",
       "      <td>False</td>\n",
       "      <td>False</td>\n",
       "      <td>False</td>\n",
       "      <td>False</td>\n",
       "      <td>False</td>\n",
       "      <td>False</td>\n",
       "      <td>False</td>\n",
       "      <td>False</td>\n",
       "      <td>True</td>\n",
       "      <td>False</td>\n",
       "      <td>False</td>\n",
       "      <td>False</td>\n",
       "      <td>False</td>\n",
       "      <td>False</td>\n",
       "      <td>False</td>\n",
       "    </tr>\n",
       "    <tr>\n",
       "      <th>25724</th>\n",
       "      <td>False</td>\n",
       "      <td>False</td>\n",
       "      <td>False</td>\n",
       "      <td>False</td>\n",
       "      <td>False</td>\n",
       "      <td>False</td>\n",
       "      <td>False</td>\n",
       "      <td>False</td>\n",
       "      <td>False</td>\n",
       "      <td>False</td>\n",
       "      <td>False</td>\n",
       "      <td>False</td>\n",
       "      <td>True</td>\n",
       "      <td>False</td>\n",
       "      <td>False</td>\n",
       "      <td>False</td>\n",
       "      <td>False</td>\n",
       "    </tr>\n",
       "    <tr>\n",
       "      <th>25725</th>\n",
       "      <td>False</td>\n",
       "      <td>False</td>\n",
       "      <td>False</td>\n",
       "      <td>False</td>\n",
       "      <td>False</td>\n",
       "      <td>False</td>\n",
       "      <td>False</td>\n",
       "      <td>False</td>\n",
       "      <td>True</td>\n",
       "      <td>False</td>\n",
       "      <td>False</td>\n",
       "      <td>False</td>\n",
       "      <td>False</td>\n",
       "      <td>False</td>\n",
       "      <td>False</td>\n",
       "      <td>True</td>\n",
       "      <td>False</td>\n",
       "    </tr>\n",
       "    <tr>\n",
       "      <th>25726</th>\n",
       "      <td>False</td>\n",
       "      <td>False</td>\n",
       "      <td>False</td>\n",
       "      <td>False</td>\n",
       "      <td>False</td>\n",
       "      <td>False</td>\n",
       "      <td>True</td>\n",
       "      <td>False</td>\n",
       "      <td>False</td>\n",
       "      <td>False</td>\n",
       "      <td>False</td>\n",
       "      <td>False</td>\n",
       "      <td>False</td>\n",
       "      <td>False</td>\n",
       "      <td>False</td>\n",
       "      <td>False</td>\n",
       "      <td>False</td>\n",
       "    </tr>\n",
       "    <tr>\n",
       "      <th>25727</th>\n",
       "      <td>True</td>\n",
       "      <td>False</td>\n",
       "      <td>False</td>\n",
       "      <td>False</td>\n",
       "      <td>False</td>\n",
       "      <td>True</td>\n",
       "      <td>False</td>\n",
       "      <td>False</td>\n",
       "      <td>False</td>\n",
       "      <td>False</td>\n",
       "      <td>False</td>\n",
       "      <td>False</td>\n",
       "      <td>False</td>\n",
       "      <td>False</td>\n",
       "      <td>False</td>\n",
       "      <td>False</td>\n",
       "      <td>False</td>\n",
       "    </tr>\n",
       "  </tbody>\n",
       "</table>\n",
       "<p>25728 rows × 17 columns</p>\n",
       "</div>"
      ],
      "text/plain": [
       "       Accessories  Appliances    Art  Binders  Bookcases  Chairs  Copiers  \\\n",
       "0            False       False  False    False      False   False    False   \n",
       "1            False       False  False    False       True   False    False   \n",
       "2            False       False  False    False      False   False    False   \n",
       "3            False       False   True     True      False   False    False   \n",
       "4            False       False  False    False      False   False    False   \n",
       "...            ...         ...    ...      ...        ...     ...      ...   \n",
       "25723        False       False  False    False      False   False    False   \n",
       "25724        False       False  False    False      False   False    False   \n",
       "25725        False       False  False    False      False   False    False   \n",
       "25726        False       False  False    False      False   False     True   \n",
       "25727         True       False  False    False      False    True    False   \n",
       "\n",
       "       Envelopes  Fasteners  Furnishings  Labels  Machines  Paper  Phones  \\\n",
       "0          False      False        False   False      True  False   False   \n",
       "1          False       True        False   False     False  False   False   \n",
       "2          False      False        False   False     False  False   False   \n",
       "3          False      False        False   False     False  False    True   \n",
       "4          False      False        False    True     False  False   False   \n",
       "...          ...        ...          ...     ...       ...    ...     ...   \n",
       "25723      False      False        False    True     False  False   False   \n",
       "25724      False      False        False   False     False   True   False   \n",
       "25725      False       True        False   False     False  False   False   \n",
       "25726      False      False        False   False     False  False   False   \n",
       "25727      False      False        False   False     False  False   False   \n",
       "\n",
       "       Storage  Supplies  Tables  \n",
       "0         True     False   False  \n",
       "1        False     False   False  \n",
       "2         True      True   False  \n",
       "3         True     False   False  \n",
       "4        False     False   False  \n",
       "...        ...       ...     ...  \n",
       "25723    False     False   False  \n",
       "25724    False     False   False  \n",
       "25725    False      True   False  \n",
       "25726    False     False   False  \n",
       "25727    False     False   False  \n",
       "\n",
       "[25728 rows x 17 columns]"
      ]
     },
     "execution_count": 4,
     "metadata": {},
     "output_type": "execute_result"
    }
   ],
   "source": [
    "# Encoding\n",
    "tr = TransactionEncoder()\n",
    "tr_arr = tr.fit(dataset).transform(dataset)\n",
    "df = pd.DataFrame(tr_arr, columns = tr.columns_)\n",
    "df"
   ]
  },
  {
   "cell_type": "code",
   "execution_count": 5,
   "metadata": {},
   "outputs": [
    {
     "data": {
      "text/html": [
       "<div>\n",
       "<style scoped>\n",
       "    .dataframe tbody tr th:only-of-type {\n",
       "        vertical-align: middle;\n",
       "    }\n",
       "\n",
       "    .dataframe tbody tr th {\n",
       "        vertical-align: top;\n",
       "    }\n",
       "\n",
       "    .dataframe thead th {\n",
       "        text-align: right;\n",
       "    }\n",
       "</style>\n",
       "<table border=\"1\" class=\"dataframe\">\n",
       "  <thead>\n",
       "    <tr style=\"text-align: right;\">\n",
       "      <th></th>\n",
       "      <th>support</th>\n",
       "      <th>itemsets</th>\n",
       "    </tr>\n",
       "  </thead>\n",
       "  <tbody>\n",
       "    <tr>\n",
       "      <th>0</th>\n",
       "      <td>0.112446</td>\n",
       "      <td>(Accessories)</td>\n",
       "    </tr>\n",
       "    <tr>\n",
       "      <th>1</th>\n",
       "      <td>0.065143</td>\n",
       "      <td>(Appliances)</td>\n",
       "    </tr>\n",
       "    <tr>\n",
       "      <th>2</th>\n",
       "      <td>0.170787</td>\n",
       "      <td>(Art)</td>\n",
       "    </tr>\n",
       "    <tr>\n",
       "      <th>3</th>\n",
       "      <td>0.211132</td>\n",
       "      <td>(Binders)</td>\n",
       "    </tr>\n",
       "    <tr>\n",
       "      <th>4</th>\n",
       "      <td>0.088814</td>\n",
       "      <td>(Bookcases)</td>\n",
       "    </tr>\n",
       "    <tr>\n",
       "      <th>5</th>\n",
       "      <td>0.124223</td>\n",
       "      <td>(Chairs)</td>\n",
       "    </tr>\n",
       "    <tr>\n",
       "      <th>6</th>\n",
       "      <td>0.082556</td>\n",
       "      <td>(Copiers)</td>\n",
       "    </tr>\n",
       "    <tr>\n",
       "      <th>7</th>\n",
       "      <td>0.088308</td>\n",
       "      <td>(Envelopes)</td>\n",
       "    </tr>\n",
       "    <tr>\n",
       "      <th>8</th>\n",
       "      <td>0.096432</td>\n",
       "      <td>(Fasteners)</td>\n",
       "    </tr>\n",
       "    <tr>\n",
       "      <th>9</th>\n",
       "      <td>0.114894</td>\n",
       "      <td>(Furnishings)</td>\n",
       "    </tr>\n",
       "    <tr>\n",
       "      <th>10</th>\n",
       "      <td>0.095616</td>\n",
       "      <td>(Labels)</td>\n",
       "    </tr>\n",
       "    <tr>\n",
       "      <th>11</th>\n",
       "      <td>0.055426</td>\n",
       "      <td>(Machines)</td>\n",
       "    </tr>\n",
       "    <tr>\n",
       "      <th>12</th>\n",
       "      <td>0.124339</td>\n",
       "      <td>(Paper)</td>\n",
       "    </tr>\n",
       "    <tr>\n",
       "      <th>13</th>\n",
       "      <td>0.122085</td>\n",
       "      <td>(Phones)</td>\n",
       "    </tr>\n",
       "    <tr>\n",
       "      <th>14</th>\n",
       "      <td>0.177433</td>\n",
       "      <td>(Storage)</td>\n",
       "    </tr>\n",
       "    <tr>\n",
       "      <th>15</th>\n",
       "      <td>0.088386</td>\n",
       "      <td>(Supplies)</td>\n",
       "    </tr>\n",
       "    <tr>\n",
       "      <th>16</th>\n",
       "      <td>0.032455</td>\n",
       "      <td>(Tables)</td>\n",
       "    </tr>\n",
       "    <tr>\n",
       "      <th>17</th>\n",
       "      <td>0.021883</td>\n",
       "      <td>(Accessories, Binders)</td>\n",
       "    </tr>\n",
       "    <tr>\n",
       "      <th>18</th>\n",
       "      <td>0.032299</td>\n",
       "      <td>(Art, Binders)</td>\n",
       "    </tr>\n",
       "    <tr>\n",
       "      <th>19</th>\n",
       "      <td>0.030356</td>\n",
       "      <td>(Storage, Art)</td>\n",
       "    </tr>\n",
       "    <tr>\n",
       "      <th>20</th>\n",
       "      <td>0.022427</td>\n",
       "      <td>(Chairs, Binders)</td>\n",
       "    </tr>\n",
       "    <tr>\n",
       "      <th>21</th>\n",
       "      <td>0.022155</td>\n",
       "      <td>(Furnishings, Binders)</td>\n",
       "    </tr>\n",
       "    <tr>\n",
       "      <th>22</th>\n",
       "      <td>0.025653</td>\n",
       "      <td>(Binders, Paper)</td>\n",
       "    </tr>\n",
       "    <tr>\n",
       "      <th>23</th>\n",
       "      <td>0.023710</td>\n",
       "      <td>(Phones, Binders)</td>\n",
       "    </tr>\n",
       "    <tr>\n",
       "      <th>24</th>\n",
       "      <td>0.034787</td>\n",
       "      <td>(Storage, Binders)</td>\n",
       "    </tr>\n",
       "  </tbody>\n",
       "</table>\n",
       "</div>"
      ],
      "text/plain": [
       "     support                itemsets\n",
       "0   0.112446           (Accessories)\n",
       "1   0.065143            (Appliances)\n",
       "2   0.170787                   (Art)\n",
       "3   0.211132               (Binders)\n",
       "4   0.088814             (Bookcases)\n",
       "5   0.124223                (Chairs)\n",
       "6   0.082556               (Copiers)\n",
       "7   0.088308             (Envelopes)\n",
       "8   0.096432             (Fasteners)\n",
       "9   0.114894           (Furnishings)\n",
       "10  0.095616                (Labels)\n",
       "11  0.055426              (Machines)\n",
       "12  0.124339                 (Paper)\n",
       "13  0.122085                (Phones)\n",
       "14  0.177433               (Storage)\n",
       "15  0.088386              (Supplies)\n",
       "16  0.032455                (Tables)\n",
       "17  0.021883  (Accessories, Binders)\n",
       "18  0.032299          (Art, Binders)\n",
       "19  0.030356          (Storage, Art)\n",
       "20  0.022427       (Chairs, Binders)\n",
       "21  0.022155  (Furnishings, Binders)\n",
       "22  0.025653        (Binders, Paper)\n",
       "23  0.023710       (Phones, Binders)\n",
       "24  0.034787      (Storage, Binders)"
      ]
     },
     "execution_count": 5,
     "metadata": {},
     "output_type": "execute_result"
    }
   ],
   "source": [
    "# Áp dụng thuật toán Apriori in ra các tập phổ biến thỏa min_support = 0.02\n",
    "frequent_itemsets = apriori(df, min_support = 0.02, use_colnames = True)\n",
    "frequent_itemsets"
   ]
  },
  {
   "cell_type": "code",
   "execution_count": 6,
   "metadata": {},
   "outputs": [
    {
     "data": {
      "text/html": [
       "<div>\n",
       "<style scoped>\n",
       "    .dataframe tbody tr th:only-of-type {\n",
       "        vertical-align: middle;\n",
       "    }\n",
       "\n",
       "    .dataframe tbody tr th {\n",
       "        vertical-align: top;\n",
       "    }\n",
       "\n",
       "    .dataframe thead th {\n",
       "        text-align: right;\n",
       "    }\n",
       "</style>\n",
       "<table border=\"1\" class=\"dataframe\">\n",
       "  <thead>\n",
       "    <tr style=\"text-align: right;\">\n",
       "      <th></th>\n",
       "      <th>Sub-Category</th>\n",
       "      <th>Số lượt mua</th>\n",
       "      <th>Tổng số đã bán</th>\n",
       "      <th>Mức giảm giá cao nhất</th>\n",
       "      <th>Doanh thu trung bình ($)</th>\n",
       "      <th>Lợi nhuận trung bình ($)</th>\n",
       "    </tr>\n",
       "  </thead>\n",
       "  <tbody>\n",
       "    <tr>\n",
       "      <th>3</th>\n",
       "      <td>Binders</td>\n",
       "      <td>6146</td>\n",
       "      <td>21403</td>\n",
       "      <td>80%</td>\n",
       "      <td>75.15</td>\n",
       "      <td>11.79</td>\n",
       "    </tr>\n",
       "    <tr>\n",
       "      <th>14</th>\n",
       "      <td>Storage</td>\n",
       "      <td>5049</td>\n",
       "      <td>16884</td>\n",
       "      <td>70%</td>\n",
       "      <td>223.18</td>\n",
       "      <td>21.47</td>\n",
       "    </tr>\n",
       "    <tr>\n",
       "      <th>2</th>\n",
       "      <td>Art</td>\n",
       "      <td>4864</td>\n",
       "      <td>16215</td>\n",
       "      <td>70%</td>\n",
       "      <td>76.40</td>\n",
       "      <td>11.89</td>\n",
       "    </tr>\n",
       "    <tr>\n",
       "      <th>12</th>\n",
       "      <td>Paper</td>\n",
       "      <td>3492</td>\n",
       "      <td>12672</td>\n",
       "      <td>70%</td>\n",
       "      <td>69.24</td>\n",
       "      <td>16.64</td>\n",
       "    </tr>\n",
       "    <tr>\n",
       "      <th>5</th>\n",
       "      <td>Chairs</td>\n",
       "      <td>3434</td>\n",
       "      <td>12336</td>\n",
       "      <td>70%</td>\n",
       "      <td>437.30</td>\n",
       "      <td>40.88</td>\n",
       "    </tr>\n",
       "    <tr>\n",
       "      <th>13</th>\n",
       "      <td>Phones</td>\n",
       "      <td>3357</td>\n",
       "      <td>11870</td>\n",
       "      <td>70%</td>\n",
       "      <td>508.44</td>\n",
       "      <td>64.56</td>\n",
       "    </tr>\n",
       "    <tr>\n",
       "      <th>9</th>\n",
       "      <td>Furnishings</td>\n",
       "      <td>3154</td>\n",
       "      <td>11163</td>\n",
       "      <td>80%</td>\n",
       "      <td>122.12</td>\n",
       "      <td>14.85</td>\n",
       "    </tr>\n",
       "    <tr>\n",
       "      <th>0</th>\n",
       "      <td>Accessories</td>\n",
       "      <td>3075</td>\n",
       "      <td>10946</td>\n",
       "      <td>70%</td>\n",
       "      <td>243.65</td>\n",
       "      <td>42.15</td>\n",
       "    </tr>\n",
       "    <tr>\n",
       "      <th>10</th>\n",
       "      <td>Labels</td>\n",
       "      <td>2601</td>\n",
       "      <td>9301</td>\n",
       "      <td>70%</td>\n",
       "      <td>28.20</td>\n",
       "      <td>5.76</td>\n",
       "    </tr>\n",
       "    <tr>\n",
       "      <th>8</th>\n",
       "      <td>Fasteners</td>\n",
       "      <td>2601</td>\n",
       "      <td>9051</td>\n",
       "      <td>80%</td>\n",
       "      <td>34.41</td>\n",
       "      <td>5.32</td>\n",
       "    </tr>\n",
       "    <tr>\n",
       "      <th>4</th>\n",
       "      <td>Bookcases</td>\n",
       "      <td>2411</td>\n",
       "      <td>8310</td>\n",
       "      <td>70%</td>\n",
       "      <td>608.28</td>\n",
       "      <td>67.16</td>\n",
       "    </tr>\n",
       "    <tr>\n",
       "      <th>15</th>\n",
       "      <td>Supplies</td>\n",
       "      <td>2407</td>\n",
       "      <td>8482</td>\n",
       "      <td>70%</td>\n",
       "      <td>100.88</td>\n",
       "      <td>9.37</td>\n",
       "    </tr>\n",
       "    <tr>\n",
       "      <th>7</th>\n",
       "      <td>Envelopes</td>\n",
       "      <td>2387</td>\n",
       "      <td>8210</td>\n",
       "      <td>70%</td>\n",
       "      <td>70.89</td>\n",
       "      <td>12.09</td>\n",
       "    </tr>\n",
       "    <tr>\n",
       "      <th>6</th>\n",
       "      <td>Copiers</td>\n",
       "      <td>2223</td>\n",
       "      <td>7454</td>\n",
       "      <td>70%</td>\n",
       "      <td>679.01</td>\n",
       "      <td>116.31</td>\n",
       "    </tr>\n",
       "    <tr>\n",
       "      <th>1</th>\n",
       "      <td>Appliances</td>\n",
       "      <td>1742</td>\n",
       "      <td>6026</td>\n",
       "      <td>80%</td>\n",
       "      <td>580.10</td>\n",
       "      <td>81.26</td>\n",
       "    </tr>\n",
       "    <tr>\n",
       "      <th>11</th>\n",
       "      <td>Machines</td>\n",
       "      <td>1486</td>\n",
       "      <td>4906</td>\n",
       "      <td>70%</td>\n",
       "      <td>524.27</td>\n",
       "      <td>39.61</td>\n",
       "    </tr>\n",
       "    <tr>\n",
       "      <th>16</th>\n",
       "      <td>Tables</td>\n",
       "      <td>861</td>\n",
       "      <td>3083</td>\n",
       "      <td>85%</td>\n",
       "      <td>879.26</td>\n",
       "      <td>-74.43</td>\n",
       "    </tr>\n",
       "  </tbody>\n",
       "</table>\n",
       "</div>"
      ],
      "text/plain": [
       "   Sub-Category  Số lượt mua  Tổng số đã bán Mức giảm giá cao nhất  \\\n",
       "3       Binders         6146           21403                   80%   \n",
       "14      Storage         5049           16884                   70%   \n",
       "2           Art         4864           16215                   70%   \n",
       "12        Paper         3492           12672                   70%   \n",
       "5        Chairs         3434           12336                   70%   \n",
       "13       Phones         3357           11870                   70%   \n",
       "9   Furnishings         3154           11163                   80%   \n",
       "0   Accessories         3075           10946                   70%   \n",
       "10       Labels         2601            9301                   70%   \n",
       "8     Fasteners         2601            9051                   80%   \n",
       "4     Bookcases         2411            8310                   70%   \n",
       "15     Supplies         2407            8482                   70%   \n",
       "7     Envelopes         2387            8210                   70%   \n",
       "6       Copiers         2223            7454                   70%   \n",
       "1    Appliances         1742            6026                   80%   \n",
       "11     Machines         1486            4906                   70%   \n",
       "16       Tables          861            3083                   85%   \n",
       "\n",
       "    Doanh thu trung bình ($)  Lợi nhuận trung bình ($)  \n",
       "3                      75.15                     11.79  \n",
       "14                    223.18                     21.47  \n",
       "2                      76.40                     11.89  \n",
       "12                     69.24                     16.64  \n",
       "5                     437.30                     40.88  \n",
       "13                    508.44                     64.56  \n",
       "9                     122.12                     14.85  \n",
       "0                     243.65                     42.15  \n",
       "10                     28.20                      5.76  \n",
       "8                      34.41                      5.32  \n",
       "4                     608.28                     67.16  \n",
       "15                    100.88                      9.37  \n",
       "7                      70.89                     12.09  \n",
       "6                     679.01                    116.31  \n",
       "1                     580.10                     81.26  \n",
       "11                    524.27                     39.61  \n",
       "16                    879.26                    -74.43  "
      ]
     },
     "execution_count": 6,
     "metadata": {},
     "output_type": "execute_result"
    }
   ],
   "source": [
    "# Đếm số lượng các sản phẩm để trực quan hóa \n",
    "item = data.groupby(['Sub-Category']).agg({'Sub-Category': 'count', 'Quantity': 'sum', 'Discount': 'max', 'Sales': 'mean', 'Profit': 'mean'})\n",
    "\n",
    "item['Discount'] = item['Discount'].apply(lambda x: \"{:.0f}%\".format(x * 100))\n",
    "item['Sales'] = item['Sales'].round(2)\n",
    "item['Profit'] = item['Profit'].round(2)\n",
    "\n",
    "item = item.rename(columns = {'Sub-Category': 'Số lượt mua',\n",
    "                              'Quantity': 'Tổng số đã bán',\n",
    "                              'Discount': 'Mức giảm giá cao nhất',\n",
    "                              'Sales': 'Doanh thu trung bình ($)',\n",
    "                              'Profit': 'Lợi nhuận trung bình ($)'})\n",
    "\n",
    "item.reset_index(inplace = True)\n",
    "item.sort_values('Số lượt mua', ascending=False)"
   ]
  },
  {
   "cell_type": "code",
   "execution_count": 7,
   "metadata": {},
   "outputs": [
    {
     "data": {
      "application/vnd.plotly.v1+json": {
       "config": {
        "plotlyServerURL": "https://plot.ly"
       },
       "data": [
        {
         "branchvalues": "total",
         "customdata": [
          [
           10946,
           "70%",
           243.65,
           42.15
          ],
          [
           6026,
           "80%",
           580.1,
           81.26
          ],
          [
           16215,
           "70%",
           76.4,
           11.89
          ],
          [
           21403,
           "80%",
           75.15,
           11.79
          ],
          [
           8310,
           "70%",
           608.28,
           67.16
          ],
          [
           12336,
           "70%",
           437.3,
           40.88
          ],
          [
           7454,
           "70%",
           679.01,
           116.31
          ],
          [
           8210,
           "70%",
           70.89,
           12.09
          ],
          [
           9051,
           "80%",
           34.41,
           5.32
          ],
          [
           11163,
           "80%",
           122.12,
           14.85
          ],
          [
           9301,
           "70%",
           28.2,
           5.76
          ],
          [
           4906,
           "70%",
           524.27,
           39.61
          ],
          [
           12672,
           "70%",
           69.24,
           16.64
          ],
          [
           11870,
           "70%",
           508.44,
           64.56
          ],
          [
           16884,
           "70%",
           223.18,
           21.47
          ],
          [
           8482,
           "70%",
           100.88,
           9.37
          ],
          [
           3083,
           "85%",
           879.26,
           -74.43
          ]
         ],
         "domain": {
          "x": [
           0,
           1
          ],
          "y": [
           0,
           1
          ]
         },
         "hovertemplate": "labels=%{label}<br>Số lượt mua=%{value}<br>parent=%{parent}<br>id=%{id}<br>Tổng số đã bán=%{customdata[0]}<br>Mức giảm giá cao nhất=%{customdata[1]}<br>Doanh thu trung bình ($)=%{customdata[2]}<br>Lợi nhuận trung bình ($)=%{customdata[3]}<extra></extra>",
         "ids": [
          "Accessories",
          "Appliances",
          "Art",
          "Binders",
          "Bookcases",
          "Chairs",
          "Copiers",
          "Envelopes",
          "Fasteners",
          "Furnishings",
          "Labels",
          "Machines",
          "Paper",
          "Phones",
          "Storage",
          "Supplies",
          "Tables"
         ],
         "labels": [
          "Accessories",
          "Appliances",
          "Art",
          "Binders",
          "Bookcases",
          "Chairs",
          "Copiers",
          "Envelopes",
          "Fasteners",
          "Furnishings",
          "Labels",
          "Machines",
          "Paper",
          "Phones",
          "Storage",
          "Supplies",
          "Tables"
         ],
         "name": "",
         "parents": [
          "",
          "",
          "",
          "",
          "",
          "",
          "",
          "",
          "",
          "",
          "",
          "",
          "",
          "",
          "",
          "",
          ""
         ],
         "type": "treemap",
         "values": [
          3075,
          1742,
          4864,
          6146,
          2411,
          3434,
          2223,
          2387,
          2601,
          3154,
          2601,
          1486,
          3492,
          3357,
          5049,
          2407,
          861
         ]
        }
       ],
       "layout": {
        "legend": {
         "tracegroupgap": 0
        },
        "template": {
         "data": {
          "bar": [
           {
            "error_x": {
             "color": "#2a3f5f"
            },
            "error_y": {
             "color": "#2a3f5f"
            },
            "marker": {
             "line": {
              "color": "#E5ECF6",
              "width": 0.5
             },
             "pattern": {
              "fillmode": "overlay",
              "size": 10,
              "solidity": 0.2
             }
            },
            "type": "bar"
           }
          ],
          "barpolar": [
           {
            "marker": {
             "line": {
              "color": "#E5ECF6",
              "width": 0.5
             },
             "pattern": {
              "fillmode": "overlay",
              "size": 10,
              "solidity": 0.2
             }
            },
            "type": "barpolar"
           }
          ],
          "carpet": [
           {
            "aaxis": {
             "endlinecolor": "#2a3f5f",
             "gridcolor": "white",
             "linecolor": "white",
             "minorgridcolor": "white",
             "startlinecolor": "#2a3f5f"
            },
            "baxis": {
             "endlinecolor": "#2a3f5f",
             "gridcolor": "white",
             "linecolor": "white",
             "minorgridcolor": "white",
             "startlinecolor": "#2a3f5f"
            },
            "type": "carpet"
           }
          ],
          "choropleth": [
           {
            "colorbar": {
             "outlinewidth": 0,
             "ticks": ""
            },
            "type": "choropleth"
           }
          ],
          "contour": [
           {
            "colorbar": {
             "outlinewidth": 0,
             "ticks": ""
            },
            "colorscale": [
             [
              0,
              "#0d0887"
             ],
             [
              0.1111111111111111,
              "#46039f"
             ],
             [
              0.2222222222222222,
              "#7201a8"
             ],
             [
              0.3333333333333333,
              "#9c179e"
             ],
             [
              0.4444444444444444,
              "#bd3786"
             ],
             [
              0.5555555555555556,
              "#d8576b"
             ],
             [
              0.6666666666666666,
              "#ed7953"
             ],
             [
              0.7777777777777778,
              "#fb9f3a"
             ],
             [
              0.8888888888888888,
              "#fdca26"
             ],
             [
              1,
              "#f0f921"
             ]
            ],
            "type": "contour"
           }
          ],
          "contourcarpet": [
           {
            "colorbar": {
             "outlinewidth": 0,
             "ticks": ""
            },
            "type": "contourcarpet"
           }
          ],
          "heatmap": [
           {
            "colorbar": {
             "outlinewidth": 0,
             "ticks": ""
            },
            "colorscale": [
             [
              0,
              "#0d0887"
             ],
             [
              0.1111111111111111,
              "#46039f"
             ],
             [
              0.2222222222222222,
              "#7201a8"
             ],
             [
              0.3333333333333333,
              "#9c179e"
             ],
             [
              0.4444444444444444,
              "#bd3786"
             ],
             [
              0.5555555555555556,
              "#d8576b"
             ],
             [
              0.6666666666666666,
              "#ed7953"
             ],
             [
              0.7777777777777778,
              "#fb9f3a"
             ],
             [
              0.8888888888888888,
              "#fdca26"
             ],
             [
              1,
              "#f0f921"
             ]
            ],
            "type": "heatmap"
           }
          ],
          "heatmapgl": [
           {
            "colorbar": {
             "outlinewidth": 0,
             "ticks": ""
            },
            "colorscale": [
             [
              0,
              "#0d0887"
             ],
             [
              0.1111111111111111,
              "#46039f"
             ],
             [
              0.2222222222222222,
              "#7201a8"
             ],
             [
              0.3333333333333333,
              "#9c179e"
             ],
             [
              0.4444444444444444,
              "#bd3786"
             ],
             [
              0.5555555555555556,
              "#d8576b"
             ],
             [
              0.6666666666666666,
              "#ed7953"
             ],
             [
              0.7777777777777778,
              "#fb9f3a"
             ],
             [
              0.8888888888888888,
              "#fdca26"
             ],
             [
              1,
              "#f0f921"
             ]
            ],
            "type": "heatmapgl"
           }
          ],
          "histogram": [
           {
            "marker": {
             "pattern": {
              "fillmode": "overlay",
              "size": 10,
              "solidity": 0.2
             }
            },
            "type": "histogram"
           }
          ],
          "histogram2d": [
           {
            "colorbar": {
             "outlinewidth": 0,
             "ticks": ""
            },
            "colorscale": [
             [
              0,
              "#0d0887"
             ],
             [
              0.1111111111111111,
              "#46039f"
             ],
             [
              0.2222222222222222,
              "#7201a8"
             ],
             [
              0.3333333333333333,
              "#9c179e"
             ],
             [
              0.4444444444444444,
              "#bd3786"
             ],
             [
              0.5555555555555556,
              "#d8576b"
             ],
             [
              0.6666666666666666,
              "#ed7953"
             ],
             [
              0.7777777777777778,
              "#fb9f3a"
             ],
             [
              0.8888888888888888,
              "#fdca26"
             ],
             [
              1,
              "#f0f921"
             ]
            ],
            "type": "histogram2d"
           }
          ],
          "histogram2dcontour": [
           {
            "colorbar": {
             "outlinewidth": 0,
             "ticks": ""
            },
            "colorscale": [
             [
              0,
              "#0d0887"
             ],
             [
              0.1111111111111111,
              "#46039f"
             ],
             [
              0.2222222222222222,
              "#7201a8"
             ],
             [
              0.3333333333333333,
              "#9c179e"
             ],
             [
              0.4444444444444444,
              "#bd3786"
             ],
             [
              0.5555555555555556,
              "#d8576b"
             ],
             [
              0.6666666666666666,
              "#ed7953"
             ],
             [
              0.7777777777777778,
              "#fb9f3a"
             ],
             [
              0.8888888888888888,
              "#fdca26"
             ],
             [
              1,
              "#f0f921"
             ]
            ],
            "type": "histogram2dcontour"
           }
          ],
          "mesh3d": [
           {
            "colorbar": {
             "outlinewidth": 0,
             "ticks": ""
            },
            "type": "mesh3d"
           }
          ],
          "parcoords": [
           {
            "line": {
             "colorbar": {
              "outlinewidth": 0,
              "ticks": ""
             }
            },
            "type": "parcoords"
           }
          ],
          "pie": [
           {
            "automargin": true,
            "type": "pie"
           }
          ],
          "scatter": [
           {
            "fillpattern": {
             "fillmode": "overlay",
             "size": 10,
             "solidity": 0.2
            },
            "type": "scatter"
           }
          ],
          "scatter3d": [
           {
            "line": {
             "colorbar": {
              "outlinewidth": 0,
              "ticks": ""
             }
            },
            "marker": {
             "colorbar": {
              "outlinewidth": 0,
              "ticks": ""
             }
            },
            "type": "scatter3d"
           }
          ],
          "scattercarpet": [
           {
            "marker": {
             "colorbar": {
              "outlinewidth": 0,
              "ticks": ""
             }
            },
            "type": "scattercarpet"
           }
          ],
          "scattergeo": [
           {
            "marker": {
             "colorbar": {
              "outlinewidth": 0,
              "ticks": ""
             }
            },
            "type": "scattergeo"
           }
          ],
          "scattergl": [
           {
            "marker": {
             "colorbar": {
              "outlinewidth": 0,
              "ticks": ""
             }
            },
            "type": "scattergl"
           }
          ],
          "scattermapbox": [
           {
            "marker": {
             "colorbar": {
              "outlinewidth": 0,
              "ticks": ""
             }
            },
            "type": "scattermapbox"
           }
          ],
          "scatterpolar": [
           {
            "marker": {
             "colorbar": {
              "outlinewidth": 0,
              "ticks": ""
             }
            },
            "type": "scatterpolar"
           }
          ],
          "scatterpolargl": [
           {
            "marker": {
             "colorbar": {
              "outlinewidth": 0,
              "ticks": ""
             }
            },
            "type": "scatterpolargl"
           }
          ],
          "scatterternary": [
           {
            "marker": {
             "colorbar": {
              "outlinewidth": 0,
              "ticks": ""
             }
            },
            "type": "scatterternary"
           }
          ],
          "surface": [
           {
            "colorbar": {
             "outlinewidth": 0,
             "ticks": ""
            },
            "colorscale": [
             [
              0,
              "#0d0887"
             ],
             [
              0.1111111111111111,
              "#46039f"
             ],
             [
              0.2222222222222222,
              "#7201a8"
             ],
             [
              0.3333333333333333,
              "#9c179e"
             ],
             [
              0.4444444444444444,
              "#bd3786"
             ],
             [
              0.5555555555555556,
              "#d8576b"
             ],
             [
              0.6666666666666666,
              "#ed7953"
             ],
             [
              0.7777777777777778,
              "#fb9f3a"
             ],
             [
              0.8888888888888888,
              "#fdca26"
             ],
             [
              1,
              "#f0f921"
             ]
            ],
            "type": "surface"
           }
          ],
          "table": [
           {
            "cells": {
             "fill": {
              "color": "#EBF0F8"
             },
             "line": {
              "color": "white"
             }
            },
            "header": {
             "fill": {
              "color": "#C8D4E3"
             },
             "line": {
              "color": "white"
             }
            },
            "type": "table"
           }
          ]
         },
         "layout": {
          "annotationdefaults": {
           "arrowcolor": "#2a3f5f",
           "arrowhead": 0,
           "arrowwidth": 1
          },
          "autotypenumbers": "strict",
          "coloraxis": {
           "colorbar": {
            "outlinewidth": 0,
            "ticks": ""
           }
          },
          "colorscale": {
           "diverging": [
            [
             0,
             "#8e0152"
            ],
            [
             0.1,
             "#c51b7d"
            ],
            [
             0.2,
             "#de77ae"
            ],
            [
             0.3,
             "#f1b6da"
            ],
            [
             0.4,
             "#fde0ef"
            ],
            [
             0.5,
             "#f7f7f7"
            ],
            [
             0.6,
             "#e6f5d0"
            ],
            [
             0.7,
             "#b8e186"
            ],
            [
             0.8,
             "#7fbc41"
            ],
            [
             0.9,
             "#4d9221"
            ],
            [
             1,
             "#276419"
            ]
           ],
           "sequential": [
            [
             0,
             "#0d0887"
            ],
            [
             0.1111111111111111,
             "#46039f"
            ],
            [
             0.2222222222222222,
             "#7201a8"
            ],
            [
             0.3333333333333333,
             "#9c179e"
            ],
            [
             0.4444444444444444,
             "#bd3786"
            ],
            [
             0.5555555555555556,
             "#d8576b"
            ],
            [
             0.6666666666666666,
             "#ed7953"
            ],
            [
             0.7777777777777778,
             "#fb9f3a"
            ],
            [
             0.8888888888888888,
             "#fdca26"
            ],
            [
             1,
             "#f0f921"
            ]
           ],
           "sequentialminus": [
            [
             0,
             "#0d0887"
            ],
            [
             0.1111111111111111,
             "#46039f"
            ],
            [
             0.2222222222222222,
             "#7201a8"
            ],
            [
             0.3333333333333333,
             "#9c179e"
            ],
            [
             0.4444444444444444,
             "#bd3786"
            ],
            [
             0.5555555555555556,
             "#d8576b"
            ],
            [
             0.6666666666666666,
             "#ed7953"
            ],
            [
             0.7777777777777778,
             "#fb9f3a"
            ],
            [
             0.8888888888888888,
             "#fdca26"
            ],
            [
             1,
             "#f0f921"
            ]
           ]
          },
          "colorway": [
           "#636efa",
           "#EF553B",
           "#00cc96",
           "#ab63fa",
           "#FFA15A",
           "#19d3f3",
           "#FF6692",
           "#B6E880",
           "#FF97FF",
           "#FECB52"
          ],
          "font": {
           "color": "#2a3f5f"
          },
          "geo": {
           "bgcolor": "white",
           "lakecolor": "white",
           "landcolor": "#E5ECF6",
           "showlakes": true,
           "showland": true,
           "subunitcolor": "white"
          },
          "hoverlabel": {
           "align": "left"
          },
          "hovermode": "closest",
          "mapbox": {
           "style": "light"
          },
          "paper_bgcolor": "white",
          "plot_bgcolor": "#E5ECF6",
          "polar": {
           "angularaxis": {
            "gridcolor": "white",
            "linecolor": "white",
            "ticks": ""
           },
           "bgcolor": "#E5ECF6",
           "radialaxis": {
            "gridcolor": "white",
            "linecolor": "white",
            "ticks": ""
           }
          },
          "scene": {
           "xaxis": {
            "backgroundcolor": "#E5ECF6",
            "gridcolor": "white",
            "gridwidth": 2,
            "linecolor": "white",
            "showbackground": true,
            "ticks": "",
            "zerolinecolor": "white"
           },
           "yaxis": {
            "backgroundcolor": "#E5ECF6",
            "gridcolor": "white",
            "gridwidth": 2,
            "linecolor": "white",
            "showbackground": true,
            "ticks": "",
            "zerolinecolor": "white"
           },
           "zaxis": {
            "backgroundcolor": "#E5ECF6",
            "gridcolor": "white",
            "gridwidth": 2,
            "linecolor": "white",
            "showbackground": true,
            "ticks": "",
            "zerolinecolor": "white"
           }
          },
          "shapedefaults": {
           "line": {
            "color": "#2a3f5f"
           }
          },
          "ternary": {
           "aaxis": {
            "gridcolor": "white",
            "linecolor": "white",
            "ticks": ""
           },
           "baxis": {
            "gridcolor": "white",
            "linecolor": "white",
            "ticks": ""
           },
           "bgcolor": "#E5ECF6",
           "caxis": {
            "gridcolor": "white",
            "linecolor": "white",
            "ticks": ""
           }
          },
          "title": {
           "x": 0.05
          },
          "xaxis": {
           "automargin": true,
           "gridcolor": "white",
           "linecolor": "white",
           "ticks": "",
           "title": {
            "standoff": 15
           },
           "zerolinecolor": "white",
           "zerolinewidth": 2
          },
          "yaxis": {
           "automargin": true,
           "gridcolor": "white",
           "linecolor": "white",
           "ticks": "",
           "title": {
            "standoff": 15
           },
           "zerolinecolor": "white",
           "zerolinewidth": 2
          }
         }
        },
        "title": {
         "text": "So sánh các sản phẩm theo số lượt mua hàng từ 2014-2018"
        }
       }
      }
     },
     "metadata": {},
     "output_type": "display_data"
    }
   ],
   "source": [
    "fig = px.treemap(item, \n",
    "                 path = ['Sub-Category'], \n",
    "                 values = 'Số lượt mua', \n",
    "                 hover_data = ['Tổng số đã bán', 'Mức giảm giá cao nhất', 'Doanh thu trung bình ($)', 'Lợi nhuận trung bình ($)'],\n",
    "                 title = 'So sánh các sản phẩm theo số lượt mua hàng từ 2014-2018')\n",
    "\n",
    "fig.show()"
   ]
  },
  {
   "attachments": {},
   "cell_type": "markdown",
   "metadata": {},
   "source": [
    "### 🔥 Lý do lựa chọn biểu đồ Treemap:\n",
    "\n",
    "- Treemap cho phép hiển thị tỷ lệ giữa các thành phần một cách rõ ràng, làm cho việc so sánh và phân tích dữ liệu dễ dàng hơn. Cụ thể, ta dễ dàng so sánh sản phẩm nào được mua nhiều nhất, ít nhất thông qua kích thước của chúng.\n",
    "\n",
    "- Treemap cho phép nhìn thấy cấu trúc của dữ liệu phân cấp một cách dễ dàng, nhìn vào người dùng sẽ thấy ngay ta đang so sánh số lượng sản phẩm được mua tại Superstore. Nói cách khác, treemap cung cấp cái nhìn tổng quan về dữ liệu một cách nhanh chóng.\n",
    "\n",
    "- Treemap có khả năng hiển thị màu sắc để tô đậm giá trị cao hơn (ứng với các sản phẩm được mua nhiều sẽ được vẽ với kích thước lớn và màu sắc đậm), giúp tăng tính trực quan và thu hút sự chú ý của người xem.\n",
    "\n",
    "- Treemap hiển thị các thông tin chi tiết khác về mỗi đối tượng thông qua labels. Ở đây khi người dùng quan tâm đến một sản phẩm nào đó, họ có thể đọc các thông tin chi tiết khác ở labels như số lần mua, mức giảm giá cao nhất, doanh thu và lợi nhuận trung bình.\n",
    "\n",
    "### 🔥 Nhận xét:\n",
    "\n",
    "- Qua biểu đồ Treemap, ta có thể thấy Binders là sản phẩm có số lượt mua nhiều nhất (6146 lượt mua) với mức giá ưu đãi cao, lên tới 80%. Theo sau đó là Storage với số lượt mua là 5049, với mức ưu đãi cao lên tới có 70%. Tables có số lượt mua ít nhất (chỉ với 861 lượt và số lượng bán là 3083) có doanh thu lớn nhất(879.26$) tuy nhiên lợi nhuận lại là âm. Binders có doanh thu nhiều nhưng lợi nhuận khá ít, có thể do mức giảm giá quá cao. Ngược lại, copiers (máy photo) tuy ít được mua (với 2223 lượt) trong vòng 4 năm nhưng đem lại lợi nhuận trung bình cao nhất: 116.31$.\n",
    "\n",
    "- Qua thuật toán **Apriori**, ta thấy rằng có nhiều sản phẩm được mua cùng nhau như: \n",
    "    + Binders và Accessories\n",
    "    + Binders và Art\n",
    "    + Storage và Art\n",
    "    + Binders và Paper\t\n",
    "    + Binders và Chairs\t\n",
    "    + Binders và Storage\t\n",
    "    + ...\n",
    "\n",
    "$\\rightarrow$ Các chủ cửa hàng cần chú ý bố trí các sản phẩm này gần nhau để khách hàng thuận tiện trong khâu mua hàng hơn, hoặc tăng cường các chiến dịch Marketing như \"Mua 1 tặng 1\": tặng kèm hoặc giảm giá một sản phẩm khi mua cùng một sản phẩm khác..."
   ]
  },
  {
   "attachments": {},
   "cell_type": "markdown",
   "metadata": {},
   "source": [
    "<font size=\"5\"> 🛒 <strong>Bước 3:</strong> Khai thác luật kết hợp. </font>"
   ]
  },
  {
   "cell_type": "code",
   "execution_count": 8,
   "metadata": {},
   "outputs": [
    {
     "name": "stdout",
     "output_type": "stream",
     "text": [
      "Số luật kết hợp thu được là: 16 luật.\n"
     ]
    }
   ],
   "source": [
    "rules = association_rules(frequent_itemsets, metric = \"confidence\", min_threshold = 0.1)\n",
    "print('Số luật kết hợp thu được là:', rules.shape[0], 'luật.')"
   ]
  },
  {
   "cell_type": "code",
   "execution_count": 9,
   "metadata": {},
   "outputs": [
    {
     "data": {
      "text/html": [
       "<div>\n",
       "<style scoped>\n",
       "    .dataframe tbody tr th:only-of-type {\n",
       "        vertical-align: middle;\n",
       "    }\n",
       "\n",
       "    .dataframe tbody tr th {\n",
       "        vertical-align: top;\n",
       "    }\n",
       "\n",
       "    .dataframe thead th {\n",
       "        text-align: right;\n",
       "    }\n",
       "</style>\n",
       "<table border=\"1\" class=\"dataframe\">\n",
       "  <thead>\n",
       "    <tr style=\"text-align: right;\">\n",
       "      <th></th>\n",
       "      <th>antecedents</th>\n",
       "      <th>consequents</th>\n",
       "      <th>antecedent support</th>\n",
       "      <th>consequent support</th>\n",
       "      <th>support</th>\n",
       "      <th>confidence</th>\n",
       "      <th>lift</th>\n",
       "      <th>leverage</th>\n",
       "      <th>conviction</th>\n",
       "      <th>zhangs_metric</th>\n",
       "    </tr>\n",
       "  </thead>\n",
       "  <tbody>\n",
       "    <tr>\n",
       "      <th>0</th>\n",
       "      <td>(Accessories)</td>\n",
       "      <td>(Binders)</td>\n",
       "      <td>0.112446</td>\n",
       "      <td>0.211132</td>\n",
       "      <td>0.021883</td>\n",
       "      <td>0.194608</td>\n",
       "      <td>0.921735</td>\n",
       "      <td>-0.001858</td>\n",
       "      <td>0.979483</td>\n",
       "      <td>-0.087314</td>\n",
       "    </tr>\n",
       "    <tr>\n",
       "      <th>1</th>\n",
       "      <td>(Binders)</td>\n",
       "      <td>(Accessories)</td>\n",
       "      <td>0.211132</td>\n",
       "      <td>0.112446</td>\n",
       "      <td>0.021883</td>\n",
       "      <td>0.103645</td>\n",
       "      <td>0.921735</td>\n",
       "      <td>-0.001858</td>\n",
       "      <td>0.990182</td>\n",
       "      <td>-0.097176</td>\n",
       "    </tr>\n",
       "    <tr>\n",
       "      <th>2</th>\n",
       "      <td>(Art)</td>\n",
       "      <td>(Binders)</td>\n",
       "      <td>0.170787</td>\n",
       "      <td>0.211132</td>\n",
       "      <td>0.032299</td>\n",
       "      <td>0.189122</td>\n",
       "      <td>0.895751</td>\n",
       "      <td>-0.003759</td>\n",
       "      <td>0.972856</td>\n",
       "      <td>-0.123078</td>\n",
       "    </tr>\n",
       "    <tr>\n",
       "      <th>3</th>\n",
       "      <td>(Binders)</td>\n",
       "      <td>(Art)</td>\n",
       "      <td>0.211132</td>\n",
       "      <td>0.170787</td>\n",
       "      <td>0.032299</td>\n",
       "      <td>0.152982</td>\n",
       "      <td>0.895751</td>\n",
       "      <td>-0.003759</td>\n",
       "      <td>0.978980</td>\n",
       "      <td>-0.128563</td>\n",
       "    </tr>\n",
       "    <tr>\n",
       "      <th>4</th>\n",
       "      <td>(Storage)</td>\n",
       "      <td>(Art)</td>\n",
       "      <td>0.177433</td>\n",
       "      <td>0.170787</td>\n",
       "      <td>0.030356</td>\n",
       "      <td>0.171084</td>\n",
       "      <td>1.001743</td>\n",
       "      <td>0.000053</td>\n",
       "      <td>1.000359</td>\n",
       "      <td>0.002115</td>\n",
       "    </tr>\n",
       "    <tr>\n",
       "      <th>5</th>\n",
       "      <td>(Art)</td>\n",
       "      <td>(Storage)</td>\n",
       "      <td>0.170787</td>\n",
       "      <td>0.177433</td>\n",
       "      <td>0.030356</td>\n",
       "      <td>0.177742</td>\n",
       "      <td>1.001743</td>\n",
       "      <td>0.000053</td>\n",
       "      <td>1.000376</td>\n",
       "      <td>0.002098</td>\n",
       "    </tr>\n",
       "    <tr>\n",
       "      <th>6</th>\n",
       "      <td>(Chairs)</td>\n",
       "      <td>(Binders)</td>\n",
       "      <td>0.124223</td>\n",
       "      <td>0.211132</td>\n",
       "      <td>0.022427</td>\n",
       "      <td>0.180538</td>\n",
       "      <td>0.855097</td>\n",
       "      <td>-0.003800</td>\n",
       "      <td>0.962666</td>\n",
       "      <td>-0.162124</td>\n",
       "    </tr>\n",
       "    <tr>\n",
       "      <th>7</th>\n",
       "      <td>(Binders)</td>\n",
       "      <td>(Chairs)</td>\n",
       "      <td>0.211132</td>\n",
       "      <td>0.124223</td>\n",
       "      <td>0.022427</td>\n",
       "      <td>0.106222</td>\n",
       "      <td>0.855097</td>\n",
       "      <td>-0.003800</td>\n",
       "      <td>0.979860</td>\n",
       "      <td>-0.176827</td>\n",
       "    </tr>\n",
       "    <tr>\n",
       "      <th>8</th>\n",
       "      <td>(Furnishings)</td>\n",
       "      <td>(Binders)</td>\n",
       "      <td>0.114894</td>\n",
       "      <td>0.211132</td>\n",
       "      <td>0.022155</td>\n",
       "      <td>0.192828</td>\n",
       "      <td>0.913307</td>\n",
       "      <td>-0.002103</td>\n",
       "      <td>0.977324</td>\n",
       "      <td>-0.096857</td>\n",
       "    </tr>\n",
       "    <tr>\n",
       "      <th>9</th>\n",
       "      <td>(Binders)</td>\n",
       "      <td>(Furnishings)</td>\n",
       "      <td>0.211132</td>\n",
       "      <td>0.114894</td>\n",
       "      <td>0.022155</td>\n",
       "      <td>0.104934</td>\n",
       "      <td>0.913307</td>\n",
       "      <td>-0.002103</td>\n",
       "      <td>0.988872</td>\n",
       "      <td>-0.107404</td>\n",
       "    </tr>\n",
       "    <tr>\n",
       "      <th>10</th>\n",
       "      <td>(Binders)</td>\n",
       "      <td>(Paper)</td>\n",
       "      <td>0.211132</td>\n",
       "      <td>0.124339</td>\n",
       "      <td>0.025653</td>\n",
       "      <td>0.121502</td>\n",
       "      <td>0.977183</td>\n",
       "      <td>-0.000599</td>\n",
       "      <td>0.996771</td>\n",
       "      <td>-0.028748</td>\n",
       "    </tr>\n",
       "    <tr>\n",
       "      <th>11</th>\n",
       "      <td>(Paper)</td>\n",
       "      <td>(Binders)</td>\n",
       "      <td>0.124339</td>\n",
       "      <td>0.211132</td>\n",
       "      <td>0.025653</td>\n",
       "      <td>0.206314</td>\n",
       "      <td>0.977183</td>\n",
       "      <td>-0.000599</td>\n",
       "      <td>0.993930</td>\n",
       "      <td>-0.025973</td>\n",
       "    </tr>\n",
       "    <tr>\n",
       "      <th>12</th>\n",
       "      <td>(Phones)</td>\n",
       "      <td>(Binders)</td>\n",
       "      <td>0.122085</td>\n",
       "      <td>0.211132</td>\n",
       "      <td>0.023710</td>\n",
       "      <td>0.194206</td>\n",
       "      <td>0.919831</td>\n",
       "      <td>-0.002066</td>\n",
       "      <td>0.978994</td>\n",
       "      <td>-0.090310</td>\n",
       "    </tr>\n",
       "    <tr>\n",
       "      <th>13</th>\n",
       "      <td>(Binders)</td>\n",
       "      <td>(Phones)</td>\n",
       "      <td>0.211132</td>\n",
       "      <td>0.122085</td>\n",
       "      <td>0.023710</td>\n",
       "      <td>0.112297</td>\n",
       "      <td>0.919831</td>\n",
       "      <td>-0.002066</td>\n",
       "      <td>0.988974</td>\n",
       "      <td>-0.099490</td>\n",
       "    </tr>\n",
       "    <tr>\n",
       "      <th>14</th>\n",
       "      <td>(Storage)</td>\n",
       "      <td>(Binders)</td>\n",
       "      <td>0.177433</td>\n",
       "      <td>0.211132</td>\n",
       "      <td>0.034787</td>\n",
       "      <td>0.196057</td>\n",
       "      <td>0.928600</td>\n",
       "      <td>-0.002675</td>\n",
       "      <td>0.981249</td>\n",
       "      <td>-0.085485</td>\n",
       "    </tr>\n",
       "    <tr>\n",
       "      <th>15</th>\n",
       "      <td>(Binders)</td>\n",
       "      <td>(Storage)</td>\n",
       "      <td>0.211132</td>\n",
       "      <td>0.177433</td>\n",
       "      <td>0.034787</td>\n",
       "      <td>0.164764</td>\n",
       "      <td>0.928600</td>\n",
       "      <td>-0.002675</td>\n",
       "      <td>0.984832</td>\n",
       "      <td>-0.088813</td>\n",
       "    </tr>\n",
       "  </tbody>\n",
       "</table>\n",
       "</div>"
      ],
      "text/plain": [
       "      antecedents    consequents  antecedent support  consequent support  \\\n",
       "0   (Accessories)      (Binders)            0.112446            0.211132   \n",
       "1       (Binders)  (Accessories)            0.211132            0.112446   \n",
       "2           (Art)      (Binders)            0.170787            0.211132   \n",
       "3       (Binders)          (Art)            0.211132            0.170787   \n",
       "4       (Storage)          (Art)            0.177433            0.170787   \n",
       "5           (Art)      (Storage)            0.170787            0.177433   \n",
       "6        (Chairs)      (Binders)            0.124223            0.211132   \n",
       "7       (Binders)       (Chairs)            0.211132            0.124223   \n",
       "8   (Furnishings)      (Binders)            0.114894            0.211132   \n",
       "9       (Binders)  (Furnishings)            0.211132            0.114894   \n",
       "10      (Binders)        (Paper)            0.211132            0.124339   \n",
       "11        (Paper)      (Binders)            0.124339            0.211132   \n",
       "12       (Phones)      (Binders)            0.122085            0.211132   \n",
       "13      (Binders)       (Phones)            0.211132            0.122085   \n",
       "14      (Storage)      (Binders)            0.177433            0.211132   \n",
       "15      (Binders)      (Storage)            0.211132            0.177433   \n",
       "\n",
       "     support  confidence      lift  leverage  conviction  zhangs_metric  \n",
       "0   0.021883    0.194608  0.921735 -0.001858    0.979483      -0.087314  \n",
       "1   0.021883    0.103645  0.921735 -0.001858    0.990182      -0.097176  \n",
       "2   0.032299    0.189122  0.895751 -0.003759    0.972856      -0.123078  \n",
       "3   0.032299    0.152982  0.895751 -0.003759    0.978980      -0.128563  \n",
       "4   0.030356    0.171084  1.001743  0.000053    1.000359       0.002115  \n",
       "5   0.030356    0.177742  1.001743  0.000053    1.000376       0.002098  \n",
       "6   0.022427    0.180538  0.855097 -0.003800    0.962666      -0.162124  \n",
       "7   0.022427    0.106222  0.855097 -0.003800    0.979860      -0.176827  \n",
       "8   0.022155    0.192828  0.913307 -0.002103    0.977324      -0.096857  \n",
       "9   0.022155    0.104934  0.913307 -0.002103    0.988872      -0.107404  \n",
       "10  0.025653    0.121502  0.977183 -0.000599    0.996771      -0.028748  \n",
       "11  0.025653    0.206314  0.977183 -0.000599    0.993930      -0.025973  \n",
       "12  0.023710    0.194206  0.919831 -0.002066    0.978994      -0.090310  \n",
       "13  0.023710    0.112297  0.919831 -0.002066    0.988974      -0.099490  \n",
       "14  0.034787    0.196057  0.928600 -0.002675    0.981249      -0.085485  \n",
       "15  0.034787    0.164764  0.928600 -0.002675    0.984832      -0.088813  "
      ]
     },
     "execution_count": 9,
     "metadata": {},
     "output_type": "execute_result"
    }
   ],
   "source": [
    "\n",
    "rules"
   ]
  },
  {
   "cell_type": "code",
   "execution_count": 10,
   "metadata": {},
   "outputs": [
    {
     "data": {
      "application/vnd.plotly.v1+json": {
       "config": {
        "plotlyServerURL": "https://plot.ly"
       },
       "data": [
        {
         "hovertemplate": "x=%{x}<br>index=%{y}<extra></extra>",
         "legendgroup": "",
         "marker": {
          "color": "#636efa",
          "symbol": "circle"
         },
         "mode": "markers",
         "name": "",
         "orientation": "h",
         "showlegend": false,
         "type": "scatter",
         "x": [
          0.19460767369512616,
          0.10364506627393225,
          0.18912152935821572,
          0.1529823269513991,
          0.1710843373493976,
          0.17774237596722803,
          0.18053817271589487,
          0.10622238586156112,
          0.1928281461434371,
          0.10493372606774669,
          0.12150220913107511,
          0.20631447327289779,
          0.1942056669850366,
          0.11229749631811488,
          0.1960569550930997,
          0.16476435935198822
         ],
         "xaxis": "x",
         "y": [
          0,
          1,
          2,
          3,
          4,
          5,
          6,
          7,
          8,
          9,
          10,
          11,
          12,
          13,
          14,
          15
         ],
         "yaxis": "y"
        }
       ],
       "layout": {
        "legend": {
         "tracegroupgap": 0
        },
        "margin": {
         "t": 60
        },
        "template": {
         "data": {
          "bar": [
           {
            "error_x": {
             "color": "#2a3f5f"
            },
            "error_y": {
             "color": "#2a3f5f"
            },
            "marker": {
             "line": {
              "color": "#E5ECF6",
              "width": 0.5
             },
             "pattern": {
              "fillmode": "overlay",
              "size": 10,
              "solidity": 0.2
             }
            },
            "type": "bar"
           }
          ],
          "barpolar": [
           {
            "marker": {
             "line": {
              "color": "#E5ECF6",
              "width": 0.5
             },
             "pattern": {
              "fillmode": "overlay",
              "size": 10,
              "solidity": 0.2
             }
            },
            "type": "barpolar"
           }
          ],
          "carpet": [
           {
            "aaxis": {
             "endlinecolor": "#2a3f5f",
             "gridcolor": "white",
             "linecolor": "white",
             "minorgridcolor": "white",
             "startlinecolor": "#2a3f5f"
            },
            "baxis": {
             "endlinecolor": "#2a3f5f",
             "gridcolor": "white",
             "linecolor": "white",
             "minorgridcolor": "white",
             "startlinecolor": "#2a3f5f"
            },
            "type": "carpet"
           }
          ],
          "choropleth": [
           {
            "colorbar": {
             "outlinewidth": 0,
             "ticks": ""
            },
            "type": "choropleth"
           }
          ],
          "contour": [
           {
            "colorbar": {
             "outlinewidth": 0,
             "ticks": ""
            },
            "colorscale": [
             [
              0,
              "#0d0887"
             ],
             [
              0.1111111111111111,
              "#46039f"
             ],
             [
              0.2222222222222222,
              "#7201a8"
             ],
             [
              0.3333333333333333,
              "#9c179e"
             ],
             [
              0.4444444444444444,
              "#bd3786"
             ],
             [
              0.5555555555555556,
              "#d8576b"
             ],
             [
              0.6666666666666666,
              "#ed7953"
             ],
             [
              0.7777777777777778,
              "#fb9f3a"
             ],
             [
              0.8888888888888888,
              "#fdca26"
             ],
             [
              1,
              "#f0f921"
             ]
            ],
            "type": "contour"
           }
          ],
          "contourcarpet": [
           {
            "colorbar": {
             "outlinewidth": 0,
             "ticks": ""
            },
            "type": "contourcarpet"
           }
          ],
          "heatmap": [
           {
            "colorbar": {
             "outlinewidth": 0,
             "ticks": ""
            },
            "colorscale": [
             [
              0,
              "#0d0887"
             ],
             [
              0.1111111111111111,
              "#46039f"
             ],
             [
              0.2222222222222222,
              "#7201a8"
             ],
             [
              0.3333333333333333,
              "#9c179e"
             ],
             [
              0.4444444444444444,
              "#bd3786"
             ],
             [
              0.5555555555555556,
              "#d8576b"
             ],
             [
              0.6666666666666666,
              "#ed7953"
             ],
             [
              0.7777777777777778,
              "#fb9f3a"
             ],
             [
              0.8888888888888888,
              "#fdca26"
             ],
             [
              1,
              "#f0f921"
             ]
            ],
            "type": "heatmap"
           }
          ],
          "heatmapgl": [
           {
            "colorbar": {
             "outlinewidth": 0,
             "ticks": ""
            },
            "colorscale": [
             [
              0,
              "#0d0887"
             ],
             [
              0.1111111111111111,
              "#46039f"
             ],
             [
              0.2222222222222222,
              "#7201a8"
             ],
             [
              0.3333333333333333,
              "#9c179e"
             ],
             [
              0.4444444444444444,
              "#bd3786"
             ],
             [
              0.5555555555555556,
              "#d8576b"
             ],
             [
              0.6666666666666666,
              "#ed7953"
             ],
             [
              0.7777777777777778,
              "#fb9f3a"
             ],
             [
              0.8888888888888888,
              "#fdca26"
             ],
             [
              1,
              "#f0f921"
             ]
            ],
            "type": "heatmapgl"
           }
          ],
          "histogram": [
           {
            "marker": {
             "pattern": {
              "fillmode": "overlay",
              "size": 10,
              "solidity": 0.2
             }
            },
            "type": "histogram"
           }
          ],
          "histogram2d": [
           {
            "colorbar": {
             "outlinewidth": 0,
             "ticks": ""
            },
            "colorscale": [
             [
              0,
              "#0d0887"
             ],
             [
              0.1111111111111111,
              "#46039f"
             ],
             [
              0.2222222222222222,
              "#7201a8"
             ],
             [
              0.3333333333333333,
              "#9c179e"
             ],
             [
              0.4444444444444444,
              "#bd3786"
             ],
             [
              0.5555555555555556,
              "#d8576b"
             ],
             [
              0.6666666666666666,
              "#ed7953"
             ],
             [
              0.7777777777777778,
              "#fb9f3a"
             ],
             [
              0.8888888888888888,
              "#fdca26"
             ],
             [
              1,
              "#f0f921"
             ]
            ],
            "type": "histogram2d"
           }
          ],
          "histogram2dcontour": [
           {
            "colorbar": {
             "outlinewidth": 0,
             "ticks": ""
            },
            "colorscale": [
             [
              0,
              "#0d0887"
             ],
             [
              0.1111111111111111,
              "#46039f"
             ],
             [
              0.2222222222222222,
              "#7201a8"
             ],
             [
              0.3333333333333333,
              "#9c179e"
             ],
             [
              0.4444444444444444,
              "#bd3786"
             ],
             [
              0.5555555555555556,
              "#d8576b"
             ],
             [
              0.6666666666666666,
              "#ed7953"
             ],
             [
              0.7777777777777778,
              "#fb9f3a"
             ],
             [
              0.8888888888888888,
              "#fdca26"
             ],
             [
              1,
              "#f0f921"
             ]
            ],
            "type": "histogram2dcontour"
           }
          ],
          "mesh3d": [
           {
            "colorbar": {
             "outlinewidth": 0,
             "ticks": ""
            },
            "type": "mesh3d"
           }
          ],
          "parcoords": [
           {
            "line": {
             "colorbar": {
              "outlinewidth": 0,
              "ticks": ""
             }
            },
            "type": "parcoords"
           }
          ],
          "pie": [
           {
            "automargin": true,
            "type": "pie"
           }
          ],
          "scatter": [
           {
            "fillpattern": {
             "fillmode": "overlay",
             "size": 10,
             "solidity": 0.2
            },
            "type": "scatter"
           }
          ],
          "scatter3d": [
           {
            "line": {
             "colorbar": {
              "outlinewidth": 0,
              "ticks": ""
             }
            },
            "marker": {
             "colorbar": {
              "outlinewidth": 0,
              "ticks": ""
             }
            },
            "type": "scatter3d"
           }
          ],
          "scattercarpet": [
           {
            "marker": {
             "colorbar": {
              "outlinewidth": 0,
              "ticks": ""
             }
            },
            "type": "scattercarpet"
           }
          ],
          "scattergeo": [
           {
            "marker": {
             "colorbar": {
              "outlinewidth": 0,
              "ticks": ""
             }
            },
            "type": "scattergeo"
           }
          ],
          "scattergl": [
           {
            "marker": {
             "colorbar": {
              "outlinewidth": 0,
              "ticks": ""
             }
            },
            "type": "scattergl"
           }
          ],
          "scattermapbox": [
           {
            "marker": {
             "colorbar": {
              "outlinewidth": 0,
              "ticks": ""
             }
            },
            "type": "scattermapbox"
           }
          ],
          "scatterpolar": [
           {
            "marker": {
             "colorbar": {
              "outlinewidth": 0,
              "ticks": ""
             }
            },
            "type": "scatterpolar"
           }
          ],
          "scatterpolargl": [
           {
            "marker": {
             "colorbar": {
              "outlinewidth": 0,
              "ticks": ""
             }
            },
            "type": "scatterpolargl"
           }
          ],
          "scatterternary": [
           {
            "marker": {
             "colorbar": {
              "outlinewidth": 0,
              "ticks": ""
             }
            },
            "type": "scatterternary"
           }
          ],
          "surface": [
           {
            "colorbar": {
             "outlinewidth": 0,
             "ticks": ""
            },
            "colorscale": [
             [
              0,
              "#0d0887"
             ],
             [
              0.1111111111111111,
              "#46039f"
             ],
             [
              0.2222222222222222,
              "#7201a8"
             ],
             [
              0.3333333333333333,
              "#9c179e"
             ],
             [
              0.4444444444444444,
              "#bd3786"
             ],
             [
              0.5555555555555556,
              "#d8576b"
             ],
             [
              0.6666666666666666,
              "#ed7953"
             ],
             [
              0.7777777777777778,
              "#fb9f3a"
             ],
             [
              0.8888888888888888,
              "#fdca26"
             ],
             [
              1,
              "#f0f921"
             ]
            ],
            "type": "surface"
           }
          ],
          "table": [
           {
            "cells": {
             "fill": {
              "color": "#EBF0F8"
             },
             "line": {
              "color": "white"
             }
            },
            "header": {
             "fill": {
              "color": "#C8D4E3"
             },
             "line": {
              "color": "white"
             }
            },
            "type": "table"
           }
          ]
         },
         "layout": {
          "annotationdefaults": {
           "arrowcolor": "#2a3f5f",
           "arrowhead": 0,
           "arrowwidth": 1
          },
          "autotypenumbers": "strict",
          "coloraxis": {
           "colorbar": {
            "outlinewidth": 0,
            "ticks": ""
           }
          },
          "colorscale": {
           "diverging": [
            [
             0,
             "#8e0152"
            ],
            [
             0.1,
             "#c51b7d"
            ],
            [
             0.2,
             "#de77ae"
            ],
            [
             0.3,
             "#f1b6da"
            ],
            [
             0.4,
             "#fde0ef"
            ],
            [
             0.5,
             "#f7f7f7"
            ],
            [
             0.6,
             "#e6f5d0"
            ],
            [
             0.7,
             "#b8e186"
            ],
            [
             0.8,
             "#7fbc41"
            ],
            [
             0.9,
             "#4d9221"
            ],
            [
             1,
             "#276419"
            ]
           ],
           "sequential": [
            [
             0,
             "#0d0887"
            ],
            [
             0.1111111111111111,
             "#46039f"
            ],
            [
             0.2222222222222222,
             "#7201a8"
            ],
            [
             0.3333333333333333,
             "#9c179e"
            ],
            [
             0.4444444444444444,
             "#bd3786"
            ],
            [
             0.5555555555555556,
             "#d8576b"
            ],
            [
             0.6666666666666666,
             "#ed7953"
            ],
            [
             0.7777777777777778,
             "#fb9f3a"
            ],
            [
             0.8888888888888888,
             "#fdca26"
            ],
            [
             1,
             "#f0f921"
            ]
           ],
           "sequentialminus": [
            [
             0,
             "#0d0887"
            ],
            [
             0.1111111111111111,
             "#46039f"
            ],
            [
             0.2222222222222222,
             "#7201a8"
            ],
            [
             0.3333333333333333,
             "#9c179e"
            ],
            [
             0.4444444444444444,
             "#bd3786"
            ],
            [
             0.5555555555555556,
             "#d8576b"
            ],
            [
             0.6666666666666666,
             "#ed7953"
            ],
            [
             0.7777777777777778,
             "#fb9f3a"
            ],
            [
             0.8888888888888888,
             "#fdca26"
            ],
            [
             1,
             "#f0f921"
            ]
           ]
          },
          "colorway": [
           "#636efa",
           "#EF553B",
           "#00cc96",
           "#ab63fa",
           "#FFA15A",
           "#19d3f3",
           "#FF6692",
           "#B6E880",
           "#FF97FF",
           "#FECB52"
          ],
          "font": {
           "color": "#2a3f5f"
          },
          "geo": {
           "bgcolor": "white",
           "lakecolor": "white",
           "landcolor": "#E5ECF6",
           "showlakes": true,
           "showland": true,
           "subunitcolor": "white"
          },
          "hoverlabel": {
           "align": "left"
          },
          "hovermode": "closest",
          "mapbox": {
           "style": "light"
          },
          "paper_bgcolor": "white",
          "plot_bgcolor": "#E5ECF6",
          "polar": {
           "angularaxis": {
            "gridcolor": "white",
            "linecolor": "white",
            "ticks": ""
           },
           "bgcolor": "#E5ECF6",
           "radialaxis": {
            "gridcolor": "white",
            "linecolor": "white",
            "ticks": ""
           }
          },
          "scene": {
           "xaxis": {
            "backgroundcolor": "#E5ECF6",
            "gridcolor": "white",
            "gridwidth": 2,
            "linecolor": "white",
            "showbackground": true,
            "ticks": "",
            "zerolinecolor": "white"
           },
           "yaxis": {
            "backgroundcolor": "#E5ECF6",
            "gridcolor": "white",
            "gridwidth": 2,
            "linecolor": "white",
            "showbackground": true,
            "ticks": "",
            "zerolinecolor": "white"
           },
           "zaxis": {
            "backgroundcolor": "#E5ECF6",
            "gridcolor": "white",
            "gridwidth": 2,
            "linecolor": "white",
            "showbackground": true,
            "ticks": "",
            "zerolinecolor": "white"
           }
          },
          "shapedefaults": {
           "line": {
            "color": "#2a3f5f"
           }
          },
          "ternary": {
           "aaxis": {
            "gridcolor": "white",
            "linecolor": "white",
            "ticks": ""
           },
           "baxis": {
            "gridcolor": "white",
            "linecolor": "white",
            "ticks": ""
           },
           "bgcolor": "#E5ECF6",
           "caxis": {
            "gridcolor": "white",
            "linecolor": "white",
            "ticks": ""
           }
          },
          "title": {
           "x": 0.05
          },
          "xaxis": {
           "automargin": true,
           "gridcolor": "white",
           "linecolor": "white",
           "ticks": "",
           "title": {
            "standoff": 15
           },
           "zerolinecolor": "white",
           "zerolinewidth": 2
          },
          "yaxis": {
           "automargin": true,
           "gridcolor": "white",
           "linecolor": "white",
           "ticks": "",
           "title": {
            "standoff": 15
           },
           "zerolinecolor": "white",
           "zerolinewidth": 2
          }
         }
        },
        "title": {
         "text": "Support vs Confidence"
        },
        "xaxis": {
         "anchor": "y",
         "domain": [
          0,
          1
         ],
         "title": {
          "text": "support"
         }
        },
        "yaxis": {
         "anchor": "x",
         "domain": [
          0,
          1
         ],
         "title": {
          "text": "confidence"
         }
        }
       }
      }
     },
     "metadata": {},
     "output_type": "display_data"
    }
   ],
   "source": [
    "fig = px.scatter(rules['support'], rules['confidence'])\n",
    "fig.update_layout(\n",
    "    xaxis_title = \"support\",\n",
    "    yaxis_title = \"confidence\",\n",
    "    title = ('Support vs Confidence')\n",
    ")\n",
    "\n",
    "fig.show()"
   ]
  },
  {
   "attachments": {},
   "cell_type": "markdown",
   "metadata": {},
   "source": [
    "### 🔥 Lý do lựa chọn biểu đồ Scatter:\n",
    "\n",
    "- Scatter cho phép quan sát sự phân bố của các điểm dữ liệu trên mặt phẳng dựa theo *support* và *confidence* của nó, ở đây mỗi điểm ứng với một luật kết hợp. Từ đó giúp ta có thể đánh giá sự phân bố của các luật này và quan tâm phân bố của các luật có *support*, *confidence* cao.\n",
    "\n",
    "- Scatter giúp phát hiện các điểm ngoại lai (outliers). Ta có thể lựa chọn bỏ qua các luật có *support* cao, *confidence* thấp và ngược lại.\n",
    "\n",
    "### 🔥 Nhận xét:\n",
    "\n",
    "- Qua biểu đồ Scatter, các luật kết hợp phân bố thưa thớt, chủ yếu tập trung ở mức $0.16 < min\\_sup < 0.2$ và $2 < min\\_conf < 14$. Có duy nhất một luật có $min\\_sup > 0.2$, đạt $min\\_sup$ lớn nhất và $min\\_conf < 12$. \n",
    "\n",
    "- Ta rút trích được 16 luật kết hợp. Có thể kể đến vài luật tiêu biểu như:\n",
    "\n",
    "    + Paper $\\rightarrow$ Binders $(sup = 0.025653, conf = 0.206314)$: Nếu mua giấy sẽ mua binders(tập bìa còng chứa tài liệu). (1)\n",
    "    + Storage $\\rightarrow$ Binders $(sup = 0.034787, conf = 0.196057)$: Nếu mua các vật dụng chứa đồ (tủ, giá sách, ngăn kéo...) sẽ mua binders. (2)\n",
    "    + Accessories $\\rightarrow$ Binders $(sup = 0.021883, conf = 0.194608)$: Nếu mua phụ kiện công nghệ sẽ mua binders. (3)\n",
    "    + Phone $\\rightarrow$ Binders $(sup = 0.023710, conf = 0.194206)$: Nếu mua điện thoại sẽ mua binders. (4)\n",
    "\n",
    "$\\rightarrow$ Luật (1) khá hợp lý theo logic thông thường, tuy nhiên luật (2), (3) và (4) cần kiểm chứng thêm. Các cửa hàng cần cân nhắc lựa chọn một vài luật nêu trên cho chiến lược kinh doanh của mình."
   ]
  },
  {
   "attachments": {},
   "cell_type": "markdown",
   "metadata": {},
   "source": [
    "<h4 style = \"margin-bottom: 0; \"> 📂 References: </h4>\n",
    "\n",
    "- [Anubha Singh: Groceries Asscociation Rule (Apriori-Algorithm)](https://www.kaggle.com/code/cerolacia/groceries-asscociation-rule-apriori-algorithm)"
   ]
  }
 ],
 "metadata": {
  "kernelspec": {
   "display_name": "Python 3",
   "language": "python",
   "name": "python3"
  },
  "language_info": {
   "codemirror_mode": {
    "name": "ipython",
    "version": 3
   },
   "file_extension": ".py",
   "mimetype": "text/x-python",
   "name": "python",
   "nbconvert_exporter": "python",
   "pygments_lexer": "ipython3",
   "version": "3.10.6"
  },
  "orig_nbformat": 4,
  "vscode": {
   "interpreter": {
    "hash": "76d7c06053c3456e5600312cec90888656fc0ed30c03d8425b9dac6e4fc8e014"
   }
  }
 },
 "nbformat": 4,
 "nbformat_minor": 2
}
